{
 "cells": [
  {
   "cell_type": "markdown",
   "metadata": {},
   "source": [
    "## Assignment 4 - Poetic Form ##\n",
    "\n",
    ">Devise a new poetic form and write a computer program that generates texts thatconform to the poetic form you devised. Your poetic form could be something as simple as “Each line must begin with the letter ‘A’” or something as sophisticated as Mac Low’s diastics. Your documentation for this project should include the name of your poetic form, and a thorough description of how it works, along with a number of “poems” that your program generated (at least three).\n",
    "\n",
    ">Consider the following when evaluating your work:\n",
    "\n",
    ">>How well does the output of your computer program conform to your invented poetic form? Could a human do it better?\n",
    "How does your choice of source text (your “raw material”) affect the character and quality of the poems that your program generates?\n",
    "\n",
    "\n",
    "I'll start by importing tracery and adding source files\n"
   ]
  },
  {
   "cell_type": "code",
   "execution_count": 3,
   "metadata": {},
   "outputs": [],
   "source": [
    "import tracery"
   ]
  },
  {
   "cell_type": "code",
   "execution_count": 4,
   "metadata": {
    "collapsed": true
   },
   "outputs": [],
   "source": [
    "import json"
   ]
  },
  {
   "cell_type": "code",
   "execution_count": 5,
   "metadata": {
    "collapsed": true
   },
   "outputs": [],
   "source": [
    "from tracery.modifiers import base_english"
   ]
  },
  {
   "cell_type": "markdown",
   "metadata": {},
   "source": [
    "### What am I traying to do? ###\n",
    "\n",
    "**Sketching what results I'm looking for **\n",
    "\n"
   ]
  },
  {
   "cell_type": "markdown",
   "metadata": {},
   "source": [
    "## List, Tupple and Set ##\n",
    "\n",
    "* **list** = [\"content01\", \"content02\", \"content03\"]\n",
    "    *Can be modified and uses more memory space*\n",
    "    \n",
    "* **tupple** = (\"content01\", \"content02\", \"content03\")\n",
    "    *Can't be modified and uses less memory space*\n",
    "    \n",
    "* **set** = {\"content01\", \"content02\", \"content03\"} *or* set([ \"content\"])\n",
    "    *No duplicates.*"
   ]
  },
  {
   "cell_type": "markdown",
   "metadata": {},
   "source": [
    "### API Example ###\n",
    "\n",
    "This simple API just queries the GitHub repository Corpora and reads one of its Json libraries:"
   ]
  },
  {
   "cell_type": "code",
   "execution_count": 25,
   "metadata": {},
   "outputs": [
    {
     "data": {
      "text/plain": [
       "{'description': 'Different kinds of rooms',\n",
       " 'rooms': ['aerary',\n",
       "  'aircraft cabin',\n",
       "  'airport lounge',\n",
       "  'alcove',\n",
       "  'anatomical theatre',\n",
       "  'anechoic chamber',\n",
       "  'antechamber',\n",
       "  'anteroom',\n",
       "  'armory',\n",
       "  'assembly room',\n",
       "  'atelier',\n",
       "  'attic',\n",
       "  'auditorium',\n",
       "  'backroom',\n",
       "  'ballroom',\n",
       "  'basement',\n",
       "  'bathroom',\n",
       "  'bedroom',\n",
       "  'billiard room',\n",
       "  'boardroom',\n",
       "  'boiler room',\n",
       "  'boudoir',\n",
       "  'breakfast nook',\n",
       "  'breezeway',\n",
       "  'cabin',\n",
       "  'cafeteria',\n",
       "  'caldarium',\n",
       "  'cellar',\n",
       "  'changing room',\n",
       "  'chapel',\n",
       "  'classroom',\n",
       "  'clean room',\n",
       "  'cloakroom',\n",
       "  'closet',\n",
       "  'cold room',\n",
       "  'common room',\n",
       "  'computer lab',\n",
       "  'conference room',\n",
       "  'conservatory',\n",
       "  'control room',\n",
       "  'conversation pit',\n",
       "  'corner office',\n",
       "  'courtroom',\n",
       "  'cry room',\n",
       "  'darkroom',\n",
       "  'den',\n",
       "  'dining room',\n",
       "  'dormitory',\n",
       "  'drawing room',\n",
       "  'dressing room',\n",
       "  'electrical room',\n",
       "  'emergency room',\n",
       "  'engine room',\n",
       "  'equipment room',\n",
       "  'fallout shelter',\n",
       "  'family room',\n",
       "  'fitting room',\n",
       "  'foyer',\n",
       "  'game room',\n",
       "  'garage',\n",
       "  'guest room',\n",
       "  'gym',\n",
       "  'hotel room',\n",
       "  'kitchen',\n",
       "  'laundry room',\n",
       "  'library',\n",
       "  'living room',\n",
       "  'lobby',\n",
       "  'locker room',\n",
       "  'loft',\n",
       "  'lounge',\n",
       "  'mailroom',\n",
       "  'map room',\n",
       "  'motel room',\n",
       "  'mud room',\n",
       "  'newsroom',\n",
       "  'nursery',\n",
       "  'office',\n",
       "  'panic room',\n",
       "  'pantry',\n",
       "  'parlor',\n",
       "  'playroom',\n",
       "  'pool room',\n",
       "  'print room',\n",
       "  'rec room',\n",
       "  'salon',\n",
       "  'sauna',\n",
       "  'schoolroom',\n",
       "  'showroom',\n",
       "  'sitting room',\n",
       "  'staff room',\n",
       "  'stockroom',\n",
       "  'storm cellar',\n",
       "  'studio',\n",
       "  'study',\n",
       "  'sunroom',\n",
       "  'tearoom',\n",
       "  'throne room',\n",
       "  'transmission control room',\n",
       "  'tv room',\n",
       "  'utility room',\n",
       "  'waiting room',\n",
       "  'washroom',\n",
       "  'water closet',\n",
       "  'weight room',\n",
       "  'wine cellar',\n",
       "  'wiring closet',\n",
       "  'workshop']}"
      ]
     },
     "execution_count": 25,
     "metadata": {},
     "output_type": "execute_result"
    }
   ],
   "source": [
    "import urllib\n",
    "import json\n",
    "import tracery\n",
    "from tracery.modifiers import base_english\n",
    "\n",
    "query_url = \"https://raw.githubusercontent.com/dariusk/corpora/master/data/architecture/rooms.json\"\n",
    "\n",
    "resp = urllib.request.urlopen(query_url).read()\n",
    "data = json.loads(resp)\n",
    "data\n"
   ]
  },
  {
   "cell_type": "markdown",
   "metadata": {},
   "source": [
    "Making a Tracery program using the json url data from Corpora"
   ]
  },
  {
   "cell_type": "code",
   "execution_count": 47,
   "metadata": {},
   "outputs": [
    {
     "ename": "KeyError",
     "evalue": "'architecture'",
     "output_type": "error",
     "traceback": [
      "\u001b[1;31m---------------------------------------------------------------------------\u001b[0m",
      "\u001b[1;31mKeyError\u001b[0m                                  Traceback (most recent call last)",
      "\u001b[1;32m<ipython-input-47-1c05e2b307ac>\u001b[0m in \u001b[0;36m<module>\u001b[1;34m()\u001b[0m\n\u001b[0;32m     11\u001b[0m \u001b[0mroom_data\u001b[0m \u001b[1;33m=\u001b[0m \u001b[0mjson\u001b[0m\u001b[1;33m.\u001b[0m\u001b[0mloads\u001b[0m\u001b[1;33m(\u001b[0m\u001b[0mopen\u001b[0m\u001b[1;33m(\u001b[0m\u001b[1;34m\"architecture.json\"\u001b[0m\u001b[1;33m)\u001b[0m\u001b[1;33m.\u001b[0m\u001b[0mread\u001b[0m\u001b[1;33m(\u001b[0m\u001b[1;33m)\u001b[0m\u001b[1;33m)\u001b[0m\u001b[1;33m\u001b[0m\u001b[0m\n\u001b[0;32m     12\u001b[0m \u001b[1;33m\u001b[0m\u001b[0m\n\u001b[1;32m---> 13\u001b[1;33m \u001b[0mrules\u001b[0m\u001b[1;33m[\u001b[0m\u001b[1;34m\"room\"\u001b[0m\u001b[1;33m]\u001b[0m \u001b[1;33m=\u001b[0m \u001b[0mroom_data\u001b[0m\u001b[1;33m[\u001b[0m\u001b[1;34m\"architecture\"\u001b[0m\u001b[1;33m]\u001b[0m\u001b[1;33m\u001b[0m\u001b[0m\n\u001b[0m\u001b[0;32m     14\u001b[0m \u001b[1;33m\u001b[0m\u001b[0m\n\u001b[0;32m     15\u001b[0m \u001b[0mgrammar\u001b[0m \u001b[1;33m=\u001b[0m \u001b[0mtracery\u001b[0m\u001b[1;33m.\u001b[0m\u001b[0mGrammar\u001b[0m\u001b[1;33m(\u001b[0m\u001b[0mrules\u001b[0m\u001b[1;33m)\u001b[0m\u001b[1;33m\u001b[0m\u001b[0m\n",
      "\u001b[1;31mKeyError\u001b[0m: 'architecture'"
     ]
    }
   ],
   "source": [
    "import urllib\n",
    "import json\n",
    "import tracery\n",
    "from tracery.modifiers import base_english\n",
    "\n",
    "rules = {\n",
    "    \"origin\": \"I was locked in #room#, unable to see her.\",\n",
    "    \n",
    "}\n",
    "\n",
    "room_data = json.loads(open(\"architecture.json\").read())\n",
    "\n",
    "rules[\"room\"] = room_data[\"architecture\"]\n",
    "\n",
    "grammar = tracery.Grammar(rules)\n",
    "grammar.add_modifiers(base_english)\n",
    "for i in range(1): \n",
    "    print(grammar.flatten(\"#origin#\"))\n"
   ]
  },
  {
   "cell_type": "code",
   "execution_count": 49,
   "metadata": {},
   "outputs": [
    {
     "data": {
      "text/plain": [
       "{'description': 'Different kinds of rooms',\n",
       " 'rooms': ['aerary',\n",
       "  'aircraft cabin',\n",
       "  'airport lounge',\n",
       "  'alcove',\n",
       "  'anatomical theatre',\n",
       "  'anechoic chamber',\n",
       "  'antechamber',\n",
       "  'anteroom',\n",
       "  'armory',\n",
       "  'assembly room',\n",
       "  'atelier',\n",
       "  'attic',\n",
       "  'auditorium',\n",
       "  'backroom',\n",
       "  'ballroom',\n",
       "  'basement',\n",
       "  'bathroom',\n",
       "  'bedroom',\n",
       "  'billiard room',\n",
       "  'boardroom',\n",
       "  'boiler room',\n",
       "  'boudoir',\n",
       "  'breakfast nook',\n",
       "  'breezeway',\n",
       "  'cabin',\n",
       "  'cafeteria',\n",
       "  'caldarium',\n",
       "  'cellar',\n",
       "  'changing room',\n",
       "  'chapel',\n",
       "  'classroom',\n",
       "  'clean room',\n",
       "  'cloakroom',\n",
       "  'closet',\n",
       "  'cold room',\n",
       "  'common room',\n",
       "  'computer lab',\n",
       "  'conference room',\n",
       "  'conservatory',\n",
       "  'control room',\n",
       "  'conversation pit',\n",
       "  'corner office',\n",
       "  'courtroom',\n",
       "  'cry room',\n",
       "  'darkroom',\n",
       "  'den',\n",
       "  'dining room',\n",
       "  'dormitory',\n",
       "  'drawing room',\n",
       "  'dressing room',\n",
       "  'electrical room',\n",
       "  'emergency room',\n",
       "  'engine room',\n",
       "  'equipment room',\n",
       "  'fallout shelter',\n",
       "  'family room',\n",
       "  'fitting room',\n",
       "  'foyer',\n",
       "  'game room',\n",
       "  'garage',\n",
       "  'guest room',\n",
       "  'gym',\n",
       "  'hotel room',\n",
       "  'kitchen',\n",
       "  'laundry room',\n",
       "  'library',\n",
       "  'living room',\n",
       "  'lobby',\n",
       "  'locker room',\n",
       "  'loft',\n",
       "  'lounge',\n",
       "  'mailroom',\n",
       "  'map room',\n",
       "  'motel room',\n",
       "  'mud room',\n",
       "  'newsroom',\n",
       "  'nursery',\n",
       "  'office',\n",
       "  'panic room',\n",
       "  'pantry',\n",
       "  'parlor',\n",
       "  'playroom',\n",
       "  'pool room',\n",
       "  'print room',\n",
       "  'rec room',\n",
       "  'salon',\n",
       "  'sauna',\n",
       "  'schoolroom',\n",
       "  'showroom',\n",
       "  'sitting room',\n",
       "  'staff room',\n",
       "  'stockroom',\n",
       "  'storm cellar',\n",
       "  'studio',\n",
       "  'study',\n",
       "  'sunroom',\n",
       "  'tearoom',\n",
       "  'throne room',\n",
       "  'transmission control room',\n",
       "  'tv room',\n",
       "  'utility room',\n",
       "  'waiting room',\n",
       "  'washroom',\n",
       "  'water closet',\n",
       "  'weight room',\n",
       "  'wine cellar',\n",
       "  'wiring closet',\n",
       "  'workshop']}"
      ]
     },
     "execution_count": 49,
     "metadata": {},
     "output_type": "execute_result"
    }
   ],
   "source": [
    "room_data = json.loads(open(\"architecture.json\").read())\n",
    "room_data"
   ]
  },
  {
   "cell_type": "code",
   "execution_count": null,
   "metadata": {
    "collapsed": true
   },
   "outputs": [],
   "source": []
  }
 ],
 "metadata": {
  "kernelspec": {
   "display_name": "Python 3",
   "language": "python",
   "name": "python3"
  },
  "language_info": {
   "codemirror_mode": {
    "name": "ipython",
    "version": 3
   },
   "file_extension": ".py",
   "mimetype": "text/x-python",
   "name": "python",
   "nbconvert_exporter": "python",
   "pygments_lexer": "ipython3",
   "version": "3.6.3"
  }
 },
 "nbformat": 4,
 "nbformat_minor": 2
}
