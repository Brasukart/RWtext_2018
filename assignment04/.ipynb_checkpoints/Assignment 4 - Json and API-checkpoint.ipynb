{
 "cells": [
  {
   "cell_type": "markdown",
   "metadata": {},
   "source": [
    "## Assignment 4 - Poetic Form ##\n",
    "\n",
    ">Devise a new poetic form and write a computer program that generates texts thatconform to the poetic form you devised. Your poetic form could be something as simple as “Each line must begin with the letter ‘A’” or something as sophisticated as Mac Low’s diastics. Your documentation for this project should include the name of your poetic form, and a thorough description of how it works, along with a number of “poems” that your program generated (at least three).\n",
    "\n",
    ">Consider the following when evaluating your work:\n",
    "\n",
    ">>How well does the output of your computer program conform to your invented poetic form? Could a human do it better?\n",
    "How does your choice of source text (your “raw material”) affect the character and quality of the poems that your program generates?\n",
    "\n",
    "\n",
    "I'll start by importing tracery and adding source files\n"
   ]
  },
  {
   "cell_type": "code",
   "execution_count": 3,
   "metadata": {},
   "outputs": [],
   "source": [
    "import tracery"
   ]
  },
  {
   "cell_type": "code",
   "execution_count": 4,
   "metadata": {
    "collapsed": true
   },
   "outputs": [],
   "source": [
    "import json"
   ]
  },
  {
   "cell_type": "code",
   "execution_count": 5,
   "metadata": {
    "collapsed": true
   },
   "outputs": [],
   "source": [
    "from tracery.modifiers import base_english"
   ]
  },
  {
   "cell_type": "markdown",
   "metadata": {},
   "source": [
    "### What am I traying to do? ###\n",
    "\n",
    "**Sketching what results I'm looking for **\n",
    "\n"
   ]
  },
  {
   "cell_type": "markdown",
   "metadata": {},
   "source": [
    "## List, Tupple and Set ##\n",
    "\n",
    "* **list** = [\"content01\", \"content02\", \"content03\"]\n",
    "    *Can be modified and uses more memory space*\n",
    "    \n",
    "* **tupple** = (\"content01\", \"content02\", \"content03\")\n",
    "    *Can't be modified and uses less memory space*\n",
    "    \n",
    "* **set** = {\"content01\", \"content02\", \"content03\"} *or* set([ \"content\"])\n",
    "    *No duplicates.*"
   ]
  },
  {
   "cell_type": "markdown",
   "metadata": {},
   "source": [
    "### API Example ###\n",
    "\n",
    "This simple API just queries the GitHub repository Corpora and reads one of its Json libraries:"
   ]
  },
  {
   "cell_type": "code",
   "execution_count": 76,
   "metadata": {},
   "outputs": [
    {
     "data": {
      "text/plain": [
       "{'description': 'Different kinds of rooms',\n",
       " 'rooms': ['aerary',\n",
       "  'aircraft cabin',\n",
       "  'airport lounge',\n",
       "  'alcove',\n",
       "  'anatomical theatre',\n",
       "  'anechoic chamber',\n",
       "  'antechamber',\n",
       "  'anteroom',\n",
       "  'armory',\n",
       "  'assembly room',\n",
       "  'atelier',\n",
       "  'attic',\n",
       "  'auditorium',\n",
       "  'backroom',\n",
       "  'ballroom',\n",
       "  'basement',\n",
       "  'bathroom',\n",
       "  'bedroom',\n",
       "  'billiard room',\n",
       "  'boardroom',\n",
       "  'boiler room',\n",
       "  'boudoir',\n",
       "  'breakfast nook',\n",
       "  'breezeway',\n",
       "  'cabin',\n",
       "  'cafeteria',\n",
       "  'caldarium',\n",
       "  'cellar',\n",
       "  'changing room',\n",
       "  'chapel',\n",
       "  'classroom',\n",
       "  'clean room',\n",
       "  'cloakroom',\n",
       "  'closet',\n",
       "  'cold room',\n",
       "  'common room',\n",
       "  'computer lab',\n",
       "  'conference room',\n",
       "  'conservatory',\n",
       "  'control room',\n",
       "  'conversation pit',\n",
       "  'corner office',\n",
       "  'courtroom',\n",
       "  'cry room',\n",
       "  'darkroom',\n",
       "  'den',\n",
       "  'dining room',\n",
       "  'dormitory',\n",
       "  'drawing room',\n",
       "  'dressing room',\n",
       "  'electrical room',\n",
       "  'emergency room',\n",
       "  'engine room',\n",
       "  'equipment room',\n",
       "  'fallout shelter',\n",
       "  'family room',\n",
       "  'fitting room',\n",
       "  'foyer',\n",
       "  'game room',\n",
       "  'garage',\n",
       "  'guest room',\n",
       "  'gym',\n",
       "  'hotel room',\n",
       "  'kitchen',\n",
       "  'laundry room',\n",
       "  'library',\n",
       "  'living room',\n",
       "  'lobby',\n",
       "  'locker room',\n",
       "  'loft',\n",
       "  'lounge',\n",
       "  'mailroom',\n",
       "  'map room',\n",
       "  'motel room',\n",
       "  'mud room',\n",
       "  'newsroom',\n",
       "  'nursery',\n",
       "  'office',\n",
       "  'panic room',\n",
       "  'pantry',\n",
       "  'parlor',\n",
       "  'playroom',\n",
       "  'pool room',\n",
       "  'print room',\n",
       "  'rec room',\n",
       "  'salon',\n",
       "  'sauna',\n",
       "  'schoolroom',\n",
       "  'showroom',\n",
       "  'sitting room',\n",
       "  'staff room',\n",
       "  'stockroom',\n",
       "  'storm cellar',\n",
       "  'studio',\n",
       "  'study',\n",
       "  'sunroom',\n",
       "  'tearoom',\n",
       "  'throne room',\n",
       "  'transmission control room',\n",
       "  'tv room',\n",
       "  'utility room',\n",
       "  'waiting room',\n",
       "  'washroom',\n",
       "  'water closet',\n",
       "  'weight room',\n",
       "  'wine cellar',\n",
       "  'wiring closet',\n",
       "  'workshop']}"
      ]
     },
     "execution_count": 76,
     "metadata": {},
     "output_type": "execute_result"
    }
   ],
   "source": [
    "import urllib\n",
    "import json\n",
    "import tracery\n",
    "from tracery.modifiers import base_english\n",
    "\n",
    "query_url = \"https://raw.githubusercontent.com/dariusk/corpora/master/data/architecture/rooms.json\"\n",
    "\n",
    "resp = urllib.request.urlopen(query_url).read()\n",
    "data = json.loads(resp)\n",
    "data\n"
   ]
  },
  {
   "cell_type": "markdown",
   "metadata": {},
   "source": [
    "Making a Tracery program using the json url data from Corpora"
   ]
  },
  {
   "cell_type": "code",
   "execution_count": 78,
   "metadata": {},
   "outputs": [
    {
     "name": "stdout",
     "output_type": "stream",
     "text": [
      "I was locked in common room, unable to see her.\n"
     ]
    }
   ],
   "source": [
    "import urllib\n",
    "import json\n",
    "import tracery\n",
    "from tracery.modifiers import base_english\n",
    "\n",
    "rules = {\n",
    "    \"origin\": \"I was locked in #room#, unable to see her.\",\n",
    "    \n",
    "}\n",
    "\n",
    "room_data = json.loads(open(\"architecture.json\").read())\n",
    "\n",
    "rules[\"room\"] = room_data[\"rooms\"]\n",
    "\n",
    "grammar = tracery.Grammar(rules)\n",
    "grammar.add_modifiers(base_english)\n",
    "for i in range(1): \n",
    "    print(grammar.flatten(\"#origin#\"))\n"
   ]
  },
  {
   "cell_type": "markdown",
   "metadata": {},
   "source": [
    "! Unable to read Json file - through its Corpora URL or local file. :( - UPDATE: Managed to read from the JSON file (AND from the url!). The name of the list inside the \"architecutre\" json file was \"rooms\"."
   ]
  },
  {
   "cell_type": "code",
   "execution_count": 59,
   "metadata": {},
   "outputs": [
    {
     "name": "stdout",
     "output_type": "stream",
     "text": [
      "I woke up in a locked water closet, unable to see her.\n"
     ]
    }
   ],
   "source": [
    "import urllib\n",
    "import json\n",
    "import tracery\n",
    "from tracery.modifiers import base_english\n",
    "\n",
    "rules = {\n",
    "    \"origin\": \"I woke up in a locked #room#, unable to see her.\",\n",
    "    \n",
    "}\n",
    "\n",
    "\n",
    "\n",
    "\n",
    "query_url = \"https://raw.githubusercontent.com/dariusk/corpora/master/data/architecture/rooms.json\"\n",
    "\n",
    "resp = urllib.request.urlopen(query_url).read()\n",
    "room_data = json.loads(resp)\n",
    "\n",
    "\n",
    "\n",
    "\n",
    "rules[\"room\"] = room_data[\"rooms\"]\n",
    "\n",
    "grammar = tracery.Grammar(rules)\n",
    "grammar.add_modifiers(base_english)\n",
    "for i in range(1): \n",
    "    print(grammar.flatten(\"#origin#\"))\n"
   ]
  },
  {
   "cell_type": "markdown",
   "metadata": {},
   "source": [
    "list of verbs:\n",
    "\n",
    "https://github.com/dariusk/corpora/blob/master/data/words/infinitive_verbs.json"
   ]
  },
  {
   "cell_type": "code",
   "execution_count": 75,
   "metadata": {},
   "outputs": [
    {
     "ename": "JSONDecodeError",
     "evalue": "Expecting value: line 1 column 1 (char 0)",
     "output_type": "error",
     "traceback": [
      "\u001b[1;31m---------------------------------------------------------------------------\u001b[0m",
      "\u001b[1;31mJSONDecodeError\u001b[0m                           Traceback (most recent call last)",
      "\u001b[1;32m<ipython-input-75-e2a25e158bb8>\u001b[0m in \u001b[0;36m<module>\u001b[1;34m()\u001b[0m\n\u001b[0;32m      9\u001b[0m }\n\u001b[0;32m     10\u001b[0m \u001b[1;33m\u001b[0m\u001b[0m\n\u001b[1;32m---> 11\u001b[1;33m \u001b[0mverb_data\u001b[0m \u001b[1;33m=\u001b[0m \u001b[0mjson\u001b[0m\u001b[1;33m.\u001b[0m\u001b[0mloads\u001b[0m\u001b[1;33m(\u001b[0m\u001b[0mopen\u001b[0m\u001b[1;33m(\u001b[0m\u001b[1;34m\"listverbs.json\"\u001b[0m\u001b[1;33m)\u001b[0m\u001b[1;33m.\u001b[0m\u001b[0mread\u001b[0m\u001b[1;33m(\u001b[0m\u001b[1;33m)\u001b[0m\u001b[1;33m)\u001b[0m\u001b[1;33m\u001b[0m\u001b[0m\n\u001b[0m\u001b[0;32m     12\u001b[0m \u001b[1;33m\u001b[0m\u001b[0m\n\u001b[0;32m     13\u001b[0m \u001b[1;33m\u001b[0m\u001b[0m\n",
      "\u001b[1;32mC:\\ProgramData\\Anaconda3\\lib\\json\\__init__.py\u001b[0m in \u001b[0;36mloads\u001b[1;34m(s, encoding, cls, object_hook, parse_float, parse_int, parse_constant, object_pairs_hook, **kw)\u001b[0m\n\u001b[0;32m    352\u001b[0m             \u001b[0mparse_int\u001b[0m \u001b[1;32mis\u001b[0m \u001b[1;32mNone\u001b[0m \u001b[1;32mand\u001b[0m \u001b[0mparse_float\u001b[0m \u001b[1;32mis\u001b[0m \u001b[1;32mNone\u001b[0m \u001b[1;32mand\u001b[0m\u001b[1;33m\u001b[0m\u001b[0m\n\u001b[0;32m    353\u001b[0m             parse_constant is None and object_pairs_hook is None and not kw):\n\u001b[1;32m--> 354\u001b[1;33m         \u001b[1;32mreturn\u001b[0m \u001b[0m_default_decoder\u001b[0m\u001b[1;33m.\u001b[0m\u001b[0mdecode\u001b[0m\u001b[1;33m(\u001b[0m\u001b[0ms\u001b[0m\u001b[1;33m)\u001b[0m\u001b[1;33m\u001b[0m\u001b[0m\n\u001b[0m\u001b[0;32m    355\u001b[0m     \u001b[1;32mif\u001b[0m \u001b[0mcls\u001b[0m \u001b[1;32mis\u001b[0m \u001b[1;32mNone\u001b[0m\u001b[1;33m:\u001b[0m\u001b[1;33m\u001b[0m\u001b[0m\n\u001b[0;32m    356\u001b[0m         \u001b[0mcls\u001b[0m \u001b[1;33m=\u001b[0m \u001b[0mJSONDecoder\u001b[0m\u001b[1;33m\u001b[0m\u001b[0m\n",
      "\u001b[1;32mC:\\ProgramData\\Anaconda3\\lib\\json\\decoder.py\u001b[0m in \u001b[0;36mdecode\u001b[1;34m(self, s, _w)\u001b[0m\n\u001b[0;32m    337\u001b[0m \u001b[1;33m\u001b[0m\u001b[0m\n\u001b[0;32m    338\u001b[0m         \"\"\"\n\u001b[1;32m--> 339\u001b[1;33m         \u001b[0mobj\u001b[0m\u001b[1;33m,\u001b[0m \u001b[0mend\u001b[0m \u001b[1;33m=\u001b[0m \u001b[0mself\u001b[0m\u001b[1;33m.\u001b[0m\u001b[0mraw_decode\u001b[0m\u001b[1;33m(\u001b[0m\u001b[0ms\u001b[0m\u001b[1;33m,\u001b[0m \u001b[0midx\u001b[0m\u001b[1;33m=\u001b[0m\u001b[0m_w\u001b[0m\u001b[1;33m(\u001b[0m\u001b[0ms\u001b[0m\u001b[1;33m,\u001b[0m \u001b[1;36m0\u001b[0m\u001b[1;33m)\u001b[0m\u001b[1;33m.\u001b[0m\u001b[0mend\u001b[0m\u001b[1;33m(\u001b[0m\u001b[1;33m)\u001b[0m\u001b[1;33m)\u001b[0m\u001b[1;33m\u001b[0m\u001b[0m\n\u001b[0m\u001b[0;32m    340\u001b[0m         \u001b[0mend\u001b[0m \u001b[1;33m=\u001b[0m \u001b[0m_w\u001b[0m\u001b[1;33m(\u001b[0m\u001b[0ms\u001b[0m\u001b[1;33m,\u001b[0m \u001b[0mend\u001b[0m\u001b[1;33m)\u001b[0m\u001b[1;33m.\u001b[0m\u001b[0mend\u001b[0m\u001b[1;33m(\u001b[0m\u001b[1;33m)\u001b[0m\u001b[1;33m\u001b[0m\u001b[0m\n\u001b[0;32m    341\u001b[0m         \u001b[1;32mif\u001b[0m \u001b[0mend\u001b[0m \u001b[1;33m!=\u001b[0m \u001b[0mlen\u001b[0m\u001b[1;33m(\u001b[0m\u001b[0ms\u001b[0m\u001b[1;33m)\u001b[0m\u001b[1;33m:\u001b[0m\u001b[1;33m\u001b[0m\u001b[0m\n",
      "\u001b[1;32mC:\\ProgramData\\Anaconda3\\lib\\json\\decoder.py\u001b[0m in \u001b[0;36mraw_decode\u001b[1;34m(self, s, idx)\u001b[0m\n\u001b[0;32m    355\u001b[0m             \u001b[0mobj\u001b[0m\u001b[1;33m,\u001b[0m \u001b[0mend\u001b[0m \u001b[1;33m=\u001b[0m \u001b[0mself\u001b[0m\u001b[1;33m.\u001b[0m\u001b[0mscan_once\u001b[0m\u001b[1;33m(\u001b[0m\u001b[0ms\u001b[0m\u001b[1;33m,\u001b[0m \u001b[0midx\u001b[0m\u001b[1;33m)\u001b[0m\u001b[1;33m\u001b[0m\u001b[0m\n\u001b[0;32m    356\u001b[0m         \u001b[1;32mexcept\u001b[0m \u001b[0mStopIteration\u001b[0m \u001b[1;32mas\u001b[0m \u001b[0merr\u001b[0m\u001b[1;33m:\u001b[0m\u001b[1;33m\u001b[0m\u001b[0m\n\u001b[1;32m--> 357\u001b[1;33m             \u001b[1;32mraise\u001b[0m \u001b[0mJSONDecodeError\u001b[0m\u001b[1;33m(\u001b[0m\u001b[1;34m\"Expecting value\"\u001b[0m\u001b[1;33m,\u001b[0m \u001b[0ms\u001b[0m\u001b[1;33m,\u001b[0m \u001b[0merr\u001b[0m\u001b[1;33m.\u001b[0m\u001b[0mvalue\u001b[0m\u001b[1;33m)\u001b[0m \u001b[1;32mfrom\u001b[0m \u001b[1;32mNone\u001b[0m\u001b[1;33m\u001b[0m\u001b[0m\n\u001b[0m\u001b[0;32m    358\u001b[0m         \u001b[1;32mreturn\u001b[0m \u001b[0mobj\u001b[0m\u001b[1;33m,\u001b[0m \u001b[0mend\u001b[0m\u001b[1;33m\u001b[0m\u001b[0m\n",
      "\u001b[1;31mJSONDecodeError\u001b[0m: Expecting value: line 1 column 1 (char 0)"
     ]
    }
   ],
   "source": [
    "import urllib\n",
    "import json\n",
    "import tracery\n",
    "from tracery.modifiers import base_english\n",
    "\n",
    "rules = {\n",
    "    \"origin\": \"I woke up in a locked #room#, unable to #verb# her.\",\n",
    "    \n",
    "}\n",
    "\n",
    "verb_data = json.loads(open(\"listverbs.json\").read())\n",
    "\n",
    "\n",
    "\n",
    "verb_url= \"https://github.com/dariusk/corpora/blob/master/data/words/infinitive_verbs.json\"\n",
    "\n",
    "\n",
    "rules[\"verb\"] = verb_data[\"verbs\"]\n",
    "\n",
    "grammar = tracery.Grammar(rules)\n",
    "grammar.add_modifiers(base_english)\n",
    "for i in range(1): \n",
    "    print(grammar.flatten(\"#origin#\"))\n"
   ]
  },
  {
   "cell_type": "code",
   "execution_count": 112,
   "metadata": {},
   "outputs": [
    {
     "name": "stdout",
     "output_type": "stream",
     "text": [
      "I woke up in a locked locker room, unable to bathe her.\n",
      "I woke up in a locked armory, unable to warm her.\n",
      "I woke up in a locked kitchen, unable to itch her.\n",
      "I woke up in a locked rec room, unable to kick her.\n",
      "I woke up in a locked boardroom, unable to peel her.\n",
      "I woke up in a locked dining room, unable to stare her.\n",
      "I woke up in a locked office, unable to prefer her.\n",
      "I woke up in a locked cellar, unable to delight her.\n",
      "I woke up in a locked foyer, unable to dance her.\n",
      "I woke up in a locked gym, unable to unite her.\n"
     ]
    }
   ],
   "source": [
    "import json\n",
    "import tracery\n",
    "from tracery.modifiers import base_english\n",
    "\n",
    "rules = {\n",
    "    \"origin\": \"I woke up in a locked #room#, unable to #verb# her.\",    \n",
    "}\n",
    "\n",
    "\n",
    "\n",
    "query_url = \"https://raw.githubusercontent.com/dariusk/corpora/master/data/architecture/rooms.json\"\n",
    "resp = urllib.request.urlopen(query_url).read()\n",
    "room_data = json.loads(resp)\n",
    "\n",
    "\n",
    "verb_data = json.loads(open(\"listverbs.json\").read())\n",
    "\n",
    "\n",
    "rules[\"verb\"] = verb_data[\"verbs\"]\n",
    "rules[\"room\"] = room_data[\"rooms\"]\n",
    "\n",
    "\n",
    "grammar = tracery.Grammar(rules)\n",
    "grammar.add_modifiers(base_english)\n",
    "for i in range(10): \n",
    "    print(grammar.flatten(\"#origin#\"))\n"
   ]
  },
  {
   "cell_type": "code",
   "execution_count": 111,
   "metadata": {
    "collapsed": true
   },
   "outputs": [],
   "source": [
    "import json\n",
    "import tracery\n",
    "from tracery.modifiers import base_english"
   ]
  },
  {
   "cell_type": "code",
   "execution_count": 109,
   "metadata": {},
   "outputs": [],
   "source": [
    "verb_data = json.loads(open(\"listverbs.json\").read())"
   ]
  },
  {
   "cell_type": "code",
   "execution_count": null,
   "metadata": {
    "collapsed": true
   },
   "outputs": [],
   "source": []
  }
 ],
 "metadata": {
  "kernelspec": {
   "display_name": "Python 3",
   "language": "python",
   "name": "python3"
  },
  "language_info": {
   "codemirror_mode": {
    "name": "ipython",
    "version": 3
   },
   "file_extension": ".py",
   "mimetype": "text/x-python",
   "name": "python",
   "nbconvert_exporter": "python",
   "pygments_lexer": "ipython3",
   "version": "3.6.3"
  }
 },
 "nbformat": 4,
 "nbformat_minor": 2
}
