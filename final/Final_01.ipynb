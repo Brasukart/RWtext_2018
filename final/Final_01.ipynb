{
 "cells": [
  {
   "cell_type": "markdown",
   "metadata": {},
   "source": [
    "# Dark Souls Love #\n"
   ]
  },
  {
   "cell_type": "code",
   "execution_count": 2,
   "metadata": {},
   "outputs": [],
   "source": [
    "import tracery\n"
   ]
  },
  {
   "cell_type": "code",
   "execution_count": 5,
   "metadata": {
    "collapsed": true
   },
   "outputs": [],
   "source": [
    "import random"
   ]
  },
  {
   "cell_type": "code",
   "execution_count": 7,
   "metadata": {
    "collapsed": true
   },
   "outputs": [],
   "source": [
    "import json"
   ]
  },
  {
   "cell_type": "code",
   "execution_count": 9,
   "metadata": {
    "collapsed": true
   },
   "outputs": [],
   "source": [
    "import spacy"
   ]
  },
  {
   "cell_type": "code",
   "execution_count": 68,
   "metadata": {},
   "outputs": [],
   "source": [
    "from tracery.modifiers import base_english"
   ]
  },
  {
   "cell_type": "code",
   "execution_count": 12,
   "metadata": {
    "scrolled": true
   },
   "outputs": [],
   "source": [
    "animal_data = json.loads(open(\"darksouls.json\").read())\n"
   ]
  },
  {
   "cell_type": "code",
   "execution_count": 13,
   "metadata": {
    "collapsed": true
   },
   "outputs": [],
   "source": [
    "darksouls_data = json.loads(open(\"darksouls.json\").read())"
   ]
  },
  {
   "cell_type": "code",
   "execution_count": 14,
   "metadata": {},
   "outputs": [
    {
     "data": {
      "text/plain": [
       "{'description': 'Organized components from the Dark Souls III message system',\n",
       " 'templates': ['**** ahead',\n",
       "  'No **** ahead',\n",
       "  '**** required ahead',\n",
       "  'be wary of ****',\n",
       "  'try ****',\n",
       "  'Could this be a ****?',\n",
       "  'If only I had a ****â€¦',\n",
       "  'visions of ****â€¦',\n",
       "  'Time for ****',\n",
       "  '****',\n",
       "  '****!',\n",
       "  '****?',\n",
       "  '****â€¦',\n",
       "  \"Huh. It's a ****â€¦\",\n",
       "  'praise the ****!',\n",
       "  'Let there be ****',\n",
       "  'Ahh, ****â€¦'],\n",
       " 'words': {'actions': ['jog',\n",
       "   'dash',\n",
       "   'rolling',\n",
       "   'backstepping',\n",
       "   'jumping',\n",
       "   'attacking',\n",
       "   'jump attack',\n",
       "   'dash attack',\n",
       "   'counter attack',\n",
       "   'stabbing in the back',\n",
       "   'guard stun & stab',\n",
       "   'plunging attack',\n",
       "   'sweeping attack',\n",
       "   'shield breaking',\n",
       "   'blocking',\n",
       "   'parrying',\n",
       "   'locking-on',\n",
       "   'no lock-on',\n",
       "   'two-handing',\n",
       "   'gesture',\n",
       "   'control',\n",
       "   'destroy'],\n",
       "  'attribute': ['regular',\n",
       "   'strike',\n",
       "   'thrust',\n",
       "   'slash',\n",
       "   'magic',\n",
       "   'crystal',\n",
       "   'fire',\n",
       "   'chaos',\n",
       "   'lightning',\n",
       "   'blessing',\n",
       "   'dark',\n",
       "   'critical hits',\n",
       "   'bleeding',\n",
       "   'poison',\n",
       "   'toxic',\n",
       "   'frost',\n",
       "   'curse',\n",
       "   'equipment breakage'],\n",
       "  'body parts': ['head',\n",
       "   'neck',\n",
       "   'stomach',\n",
       "   'back',\n",
       "   'arm',\n",
       "   'finger',\n",
       "   'leg',\n",
       "   'rear',\n",
       "   'tail',\n",
       "   'wings',\n",
       "   'anywhere',\n",
       "   'tounge',\n",
       "   'right arm',\n",
       "   'left arm',\n",
       "   'thumb',\n",
       "   'indexfinger',\n",
       "   'longfinger',\n",
       "   'ringfinger',\n",
       "   'smallfinger',\n",
       "   'right leg',\n",
       "   'left leg',\n",
       "   'right side',\n",
       "   'left side',\n",
       "   'pincer',\n",
       "   'wheel',\n",
       "   'core',\n",
       "   'mount'],\n",
       "  'concepts': ['chance',\n",
       "   'quagmire',\n",
       "   'hint',\n",
       "   'secret',\n",
       "   'sleeptalk',\n",
       "   'happiness',\n",
       "   'misfortune',\n",
       "   'life',\n",
       "   'death',\n",
       "   'demise',\n",
       "   'joy',\n",
       "   'fury',\n",
       "   'agony',\n",
       "   'sadness',\n",
       "   'tears',\n",
       "   'loyalty',\n",
       "   'betrayal',\n",
       "   'hope',\n",
       "   'despair',\n",
       "   'fear',\n",
       "   'losing sanity',\n",
       "   'victory',\n",
       "   'defeat',\n",
       "   'sacrafice',\n",
       "   'light',\n",
       "   'dark',\n",
       "   'bravery',\n",
       "   'confidence',\n",
       "   'vigor',\n",
       "   'revenge',\n",
       "   'resignation',\n",
       "   'overwhelming',\n",
       "   'regret',\n",
       "   'pointless',\n",
       "   'man',\n",
       "   'woman',\n",
       "   'friendship',\n",
       "   'love',\n",
       "   'recklessness',\n",
       "   'composure',\n",
       "   'guts',\n",
       "   'comfort',\n",
       "   'silence',\n",
       "   'deep',\n",
       "   'dregs'],\n",
       "  'creatures': ['enemy',\n",
       "   'monster',\n",
       "   'mob enemy',\n",
       "   'tough enemy',\n",
       "   'critical foe',\n",
       "   'Hollow',\n",
       "   'pilgrim',\n",
       "   'prisoner',\n",
       "   'monstrosity',\n",
       "   'skeleton',\n",
       "   'ghost',\n",
       "   'beast',\n",
       "   'lizard',\n",
       "   'bug',\n",
       "   'grub',\n",
       "   'crab',\n",
       "   'dwarf',\n",
       "   'giant',\n",
       "   'demon',\n",
       "   'dragon',\n",
       "   'knight',\n",
       "   'sellsword',\n",
       "   'warrior',\n",
       "   'herald',\n",
       "   'bandit',\n",
       "   'assassin',\n",
       "   'sorcerer',\n",
       "   'pyromancer',\n",
       "   'cleric',\n",
       "   'deprived',\n",
       "   'sniper',\n",
       "   'duo',\n",
       "   'trio',\n",
       "   'you',\n",
       "   'you bastard',\n",
       "   'good fellow',\n",
       "   'saint',\n",
       "   'wretch',\n",
       "   'charmer',\n",
       "   'poor soul',\n",
       "   'oddball',\n",
       "   'nimble one',\n",
       "   'laggard',\n",
       "   'moneybags',\n",
       "   'beggar',\n",
       "   'miscreant',\n",
       "   'liar',\n",
       "   'fatty',\n",
       "   'beanpole',\n",
       "   'youth',\n",
       "   'elder',\n",
       "   'old codger',\n",
       "   'old dear',\n",
       "   'merchant',\n",
       "   'artisan',\n",
       "   'master',\n",
       "   'sage',\n",
       "   'champion',\n",
       "   'Lord of Cinder',\n",
       "   'king',\n",
       "   'queen',\n",
       "   'prince',\n",
       "   'princess',\n",
       "   'angel',\n",
       "   'god',\n",
       "   'friend',\n",
       "   'ally',\n",
       "   'spouse',\n",
       "   'covenator',\n",
       "   'Phantom',\n",
       "   'Dark Spirit'],\n",
       "  'geography': ['boulder',\n",
       "   'lava',\n",
       "   'poison gas',\n",
       "   'enemy horde',\n",
       "   'forest',\n",
       "   'swamp',\n",
       "   'cave',\n",
       "   'shortcut',\n",
       "   'detour',\n",
       "   'hidden path',\n",
       "   'secret passage',\n",
       "   'dead end',\n",
       "   'labyrinth',\n",
       "   'hole',\n",
       "   'bright spot',\n",
       "   'dark spot',\n",
       "   'open area',\n",
       "   'tight spot',\n",
       "   'safe zone',\n",
       "   'danger zone',\n",
       "   'sniper spot',\n",
       "   'hidding place',\n",
       "   'illusory wall',\n",
       "   'ladder',\n",
       "   'lift',\n",
       "   'gorgeous view',\n",
       "   'looking away',\n",
       "   'overconfidence',\n",
       "   'slip-up',\n",
       "   'oversight',\n",
       "   'fatigue',\n",
       "   'bad luck',\n",
       "   'inattention',\n",
       "   'loss of stamina',\n",
       "   'chance encounter',\n",
       "   'planned encounter'],\n",
       "  'musings': ['good luck',\n",
       "   'fine work',\n",
       "   'I did it!',\n",
       "   \"I've failedâ€¦\",\n",
       "   'here!',\n",
       "   'not here!',\n",
       "   \"I can't take thisâ€¦\",\n",
       "   'lonelyâ€¦',\n",
       "   \"don't you dare!\",\n",
       "   'do it!',\n",
       "   'look carefully',\n",
       "   'listen carefully',\n",
       "   'think carefully',\n",
       "   'this place again?',\n",
       "   'now the real fight begins',\n",
       "   \"you don't deserve this\",\n",
       "   'keep moving',\n",
       "   'pull back',\n",
       "   'give it up',\n",
       "   \"don't give up\",\n",
       "   'help meâ€¦',\n",
       "   'impossibleâ€¦',\n",
       "   'bloody expensiveâ€¦',\n",
       "   'let me out of hereâ€¦',\n",
       "   'stay calm',\n",
       "   'like a dreamâ€¦',\n",
       "   'seems familiarâ€¦',\n",
       "   'are you ready?',\n",
       "   \"it'll happen to you too\",\n",
       "   'praise the Sun!',\n",
       "   'may the flames guide thee'],\n",
       "  'objects': ['bonfire',\n",
       "   'ember',\n",
       "   'fog wall',\n",
       "   'lever',\n",
       "   'contraption',\n",
       "   'key',\n",
       "   'trap',\n",
       "   'torch',\n",
       "   'door',\n",
       "   'treasure',\n",
       "   'chest',\n",
       "   'something',\n",
       "   'quite something',\n",
       "   'rubbish',\n",
       "   'filth',\n",
       "   'weapon',\n",
       "   'shield',\n",
       "   'projectile',\n",
       "   'armor',\n",
       "   'item',\n",
       "   'ring',\n",
       "   'ore',\n",
       "   'coal',\n",
       "   'transposing kiln',\n",
       "   'scroll',\n",
       "   'umbral ash',\n",
       "   'throne',\n",
       "   'rite',\n",
       "   'coffin',\n",
       "   'cinder',\n",
       "   'ash',\n",
       "   'moon',\n",
       "   'eye',\n",
       "   'brew',\n",
       "   'soup',\n",
       "   'message',\n",
       "   'bloodstain',\n",
       "   'illusion'],\n",
       "  'orientation': ['front',\n",
       "   'back',\n",
       "   'left',\n",
       "   'right',\n",
       "   'up',\n",
       "   'down',\n",
       "   'below',\n",
       "   'above',\n",
       "   'behind'],\n",
       "  'techniques': ['close-ranged battle',\n",
       "   'ranged battle',\n",
       "   'eliminating one at a time',\n",
       "   'luring it out',\n",
       "   'beating to a pulp',\n",
       "   'ambush',\n",
       "   'pincer attack',\n",
       "   'hitting them in one swoop',\n",
       "   'dual-wielding',\n",
       "   'stealth',\n",
       "   'mimicry',\n",
       "   'fleeing',\n",
       "   'charging',\n",
       "   'jumping off',\n",
       "   'dashing through',\n",
       "   'circling around',\n",
       "   'trapping inside',\n",
       "   'rescue',\n",
       "   'Skill',\n",
       "   'sorcery',\n",
       "   'pyromancy',\n",
       "   'miracles',\n",
       "   'pure luck',\n",
       "   'prudence',\n",
       "   'brief respite',\n",
       "   'play dead']}}"
      ]
     },
     "execution_count": 14,
     "metadata": {},
     "output_type": "execute_result"
    }
   ],
   "source": [
    "darksouls_data"
   ]
  },
  {
   "cell_type": "code",
   "execution_count": 17,
   "metadata": {},
   "outputs": [
    {
     "data": {
      "text/plain": [
       "dict"
      ]
     },
     "execution_count": 17,
     "metadata": {},
     "output_type": "execute_result"
    }
   ],
   "source": [
    "type (darksouls_data)"
   ]
  },
  {
   "cell_type": "code",
   "execution_count": 26,
   "metadata": {
    "scrolled": true
   },
   "outputs": [],
   "source": [
    "words = darksouls_data['words']"
   ]
  },
  {
   "cell_type": "markdown",
   "metadata": {},
   "source": [
    "## creating dictionaries using one json file ##\n",
    "I don't want to copy paste the all word lists on the Python file. Instead I'm using one single JSON file with all DarkSouls words in it and I'll create different dictionaries for each of the categories (objects, enemies, actions, etc).{ \n",
    "\n",
    "As explained [Here](https://github.com/aparrish/rwet/blob/master/dealing-with-json.ipynb \"Dealing with Jason\")"
   ]
  },
  {
   "cell_type": "code",
   "execution_count": 29,
   "metadata": {},
   "outputs": [
    {
     "data": {
      "text/plain": [
       "dict"
      ]
     },
     "execution_count": 29,
     "metadata": {},
     "output_type": "execute_result"
    }
   ],
   "source": [
    "type (words)"
   ]
  },
  {
   "cell_type": "code",
   "execution_count": 40,
   "metadata": {},
   "outputs": [
    {
     "data": {
      "text/plain": [
       "['enemy',\n",
       " 'monster',\n",
       " 'mob enemy',\n",
       " 'tough enemy',\n",
       " 'critical foe',\n",
       " 'Hollow',\n",
       " 'pilgrim',\n",
       " 'prisoner',\n",
       " 'monstrosity',\n",
       " 'skeleton',\n",
       " 'ghost',\n",
       " 'beast',\n",
       " 'lizard',\n",
       " 'bug',\n",
       " 'grub',\n",
       " 'crab',\n",
       " 'dwarf',\n",
       " 'giant',\n",
       " 'demon',\n",
       " 'dragon',\n",
       " 'knight',\n",
       " 'sellsword',\n",
       " 'warrior',\n",
       " 'herald',\n",
       " 'bandit',\n",
       " 'assassin',\n",
       " 'sorcerer',\n",
       " 'pyromancer',\n",
       " 'cleric',\n",
       " 'deprived',\n",
       " 'sniper',\n",
       " 'duo',\n",
       " 'trio',\n",
       " 'you',\n",
       " 'you bastard',\n",
       " 'good fellow',\n",
       " 'saint',\n",
       " 'wretch',\n",
       " 'charmer',\n",
       " 'poor soul',\n",
       " 'oddball',\n",
       " 'nimble one',\n",
       " 'laggard',\n",
       " 'moneybags',\n",
       " 'beggar',\n",
       " 'miscreant',\n",
       " 'liar',\n",
       " 'fatty',\n",
       " 'beanpole',\n",
       " 'youth',\n",
       " 'elder',\n",
       " 'old codger',\n",
       " 'old dear',\n",
       " 'merchant',\n",
       " 'artisan',\n",
       " 'master',\n",
       " 'sage',\n",
       " 'champion',\n",
       " 'Lord of Cinder',\n",
       " 'king',\n",
       " 'queen',\n",
       " 'prince',\n",
       " 'princess',\n",
       " 'angel',\n",
       " 'god',\n",
       " 'friend',\n",
       " 'ally',\n",
       " 'spouse',\n",
       " 'covenator',\n",
       " 'Phantom',\n",
       " 'Dark Spirit']"
      ]
     },
     "execution_count": 40,
     "metadata": {},
     "output_type": "execute_result"
    }
   ],
   "source": [
    "words['creatures']"
   ]
  },
  {
   "cell_type": "code",
   "execution_count": 41,
   "metadata": {
    "collapsed": true
   },
   "outputs": [],
   "source": [
    "creatures = words['creatures']"
   ]
  },
  {
   "cell_type": "code",
   "execution_count": 43,
   "metadata": {},
   "outputs": [],
   "source": [
    "objects = words['objects']"
   ]
  },
  {
   "cell_type": "code",
   "execution_count": 44,
   "metadata": {
    "collapsed": true
   },
   "outputs": [],
   "source": [
    "techniques = words['techniques']\n",
    "actions = words['actions']\n"
   ]
  },
  {
   "cell_type": "code",
   "execution_count": 47,
   "metadata": {},
   "outputs": [],
   "source": [
    "geography = words['geography']\n",
    "orientations = words['orientation']\n"
   ]
  },
  {
   "cell_type": "code",
   "execution_count": 48,
   "metadata": {},
   "outputs": [
    {
     "data": {
      "text/plain": [
       "['front', 'back', 'left', 'right', 'up', 'down', 'below', 'above', 'behind']"
      ]
     },
     "execution_count": 48,
     "metadata": {},
     "output_type": "execute_result"
    }
   ],
   "source": [
    "orientations\n"
   ]
  },
  {
   "cell_type": "code",
   "execution_count": 55,
   "metadata": {},
   "outputs": [],
   "source": [
    "bodyParts = words['body parts']"
   ]
  },
  {
   "cell_type": "code",
   "execution_count": 52,
   "metadata": {},
   "outputs": [],
   "source": [
    "attributes = words['attribute']"
   ]
  },
  {
   "cell_type": "code",
   "execution_count": 53,
   "metadata": {
    "collapsed": true
   },
   "outputs": [],
   "source": [
    "concepts = words['concepts']"
   ]
  },
  {
   "cell_type": "markdown",
   "metadata": {},
   "source": [
    "Now that my lists of words are ready I can copy my old **Dark Souls Rules** and start improving on it"
   ]
  },
  {
   "cell_type": "code",
   "execution_count": 62,
   "metadata": {},
   "outputs": [],
   "source": [
    "adverbs = json.loads(open(\"adverbs.json\").read())"
   ]
  },
  {
   "cell_type": "code",
   "execution_count": 63,
   "metadata": {},
   "outputs": [
    {
     "data": {
      "text/plain": [
       "{'adverbs': ['abnormally',\n",
       "  'absentmindedly',\n",
       "  'accidentally',\n",
       "  'acidly',\n",
       "  'actually',\n",
       "  'adventurously',\n",
       "  'afterwards',\n",
       "  'almost',\n",
       "  'always',\n",
       "  'angrily',\n",
       "  'annually',\n",
       "  'anxiously',\n",
       "  'arrogantly',\n",
       "  'awkwardly',\n",
       "  'badly',\n",
       "  'bashfully',\n",
       "  'beautifully',\n",
       "  'bitterly',\n",
       "  'bleakly',\n",
       "  'blindly',\n",
       "  'blissfully',\n",
       "  'boastfully',\n",
       "  'boldly',\n",
       "  'bravely',\n",
       "  'briefly',\n",
       "  'brightly',\n",
       "  'briskly',\n",
       "  'broadly',\n",
       "  'busily',\n",
       "  'calmly',\n",
       "  'carefully',\n",
       "  'carelessly',\n",
       "  'cautiously',\n",
       "  'certainly',\n",
       "  'cheerfully',\n",
       "  'clearly',\n",
       "  'cleverly',\n",
       "  'closely',\n",
       "  'coaxingly',\n",
       "  'colorfully',\n",
       "  'commonly',\n",
       "  'continually',\n",
       "  'coolly',\n",
       "  'correctly',\n",
       "  'courageously',\n",
       "  'crossly',\n",
       "  'cruelly',\n",
       "  'curiously',\n",
       "  'daily',\n",
       "  'daintily',\n",
       "  'dearly',\n",
       "  'deceivingly',\n",
       "  'deeply',\n",
       "  'defiantly',\n",
       "  'deliberately',\n",
       "  'delightfully',\n",
       "  'diligently',\n",
       "  'dimly',\n",
       "  'doubtfully',\n",
       "  'dreamily',\n",
       "  'easily',\n",
       "  'elegantly',\n",
       "  'energetically',\n",
       "  'enormously',\n",
       "  'enthusiastically',\n",
       "  'equally',\n",
       "  'especially',\n",
       "  'even',\n",
       "  'evenly',\n",
       "  'eventually',\n",
       "  'exactly',\n",
       "  'excitedly',\n",
       "  'extremely',\n",
       "  'fairly',\n",
       "  'faithfully',\n",
       "  'famously',\n",
       "  'far',\n",
       "  'fast',\n",
       "  'fatally',\n",
       "  'ferociously',\n",
       "  'fervently',\n",
       "  'fiercely',\n",
       "  'fondly',\n",
       "  'foolishly',\n",
       "  'fortunately',\n",
       "  'frankly',\n",
       "  'frantically',\n",
       "  'freely',\n",
       "  'frenetically',\n",
       "  'frightfully',\n",
       "  'fully',\n",
       "  'furiously',\n",
       "  'generally',\n",
       "  'generously',\n",
       "  'gently',\n",
       "  'gladly',\n",
       "  'gleefully',\n",
       "  'gracefully',\n",
       "  'gratefully',\n",
       "  'greatly',\n",
       "  'greedily',\n",
       "  'happily',\n",
       "  'hastily',\n",
       "  'healthily',\n",
       "  'heavily',\n",
       "  'helpfully',\n",
       "  'helplessly',\n",
       "  'highly',\n",
       "  'honestly',\n",
       "  'hopelessly',\n",
       "  'hourly',\n",
       "  'hungrily',\n",
       "  'immediately',\n",
       "  'innocently',\n",
       "  'inquisitively',\n",
       "  'instantly',\n",
       "  'intensely',\n",
       "  'intently',\n",
       "  'interestingly',\n",
       "  'inwardly',\n",
       "  'irritably',\n",
       "  'jaggedly',\n",
       "  'jealously',\n",
       "  'joshingly',\n",
       "  'jovially',\n",
       "  'joyfully',\n",
       "  'joyously',\n",
       "  'jubilantly',\n",
       "  'judgementally',\n",
       "  'justly',\n",
       "  'keenly',\n",
       "  'kiddingly',\n",
       "  'kindheartedly',\n",
       "  'kindly',\n",
       "  'kissingly',\n",
       "  'knavishly',\n",
       "  'knottily',\n",
       "  'knowingly',\n",
       "  'knowledgeably',\n",
       "  'kookily',\n",
       "  'lazily',\n",
       "  'less',\n",
       "  'lightly',\n",
       "  'likely',\n",
       "  'limply',\n",
       "  'lively',\n",
       "  'loftily',\n",
       "  'longingly',\n",
       "  'loosely',\n",
       "  'loudly',\n",
       "  'lovingly',\n",
       "  'loyally',\n",
       "  'madly',\n",
       "  'majestically',\n",
       "  'meaningfully',\n",
       "  'mechanically',\n",
       "  'merrily',\n",
       "  'miserably',\n",
       "  'mockingly',\n",
       "  'monthly',\n",
       "  'more',\n",
       "  'mortally',\n",
       "  'mostly',\n",
       "  'mysteriously',\n",
       "  'naturally',\n",
       "  'nearly',\n",
       "  'neatly',\n",
       "  'needily',\n",
       "  'nervously',\n",
       "  'never',\n",
       "  'nicely',\n",
       "  'noisily',\n",
       "  'not',\n",
       "  'obediently',\n",
       "  'obnoxiously',\n",
       "  'oddly',\n",
       "  'offensively',\n",
       "  'officially',\n",
       "  'often',\n",
       "  'only',\n",
       "  'openly',\n",
       "  'optimistically',\n",
       "  'overconfidently',\n",
       "  'owlishly',\n",
       "  'painfully',\n",
       "  'partially',\n",
       "  'patiently',\n",
       "  'perfectly',\n",
       "  'physically',\n",
       "  'playfully',\n",
       "  'politely',\n",
       "  'poorly',\n",
       "  'positively',\n",
       "  'potentially',\n",
       "  'powerfully',\n",
       "  'promptly',\n",
       "  'properly',\n",
       "  'punctually',\n",
       "  'quaintly',\n",
       "  'quarrelsomely',\n",
       "  'queasily',\n",
       "  'queerly',\n",
       "  'questionably',\n",
       "  'questioningly',\n",
       "  'quicker',\n",
       "  'quickly',\n",
       "  'quietly',\n",
       "  'quirkily',\n",
       "  'quizzically',\n",
       "  'rapidly',\n",
       "  'rarely',\n",
       "  'readily',\n",
       "  'really',\n",
       "  'reassuringly',\n",
       "  'recklessly',\n",
       "  'regularly',\n",
       "  'reluctantly',\n",
       "  'repeatedly',\n",
       "  'reproachfully',\n",
       "  'restfully',\n",
       "  'righteously',\n",
       "  'rightfully',\n",
       "  'rigidly',\n",
       "  'roughly',\n",
       "  'rudely',\n",
       "  'sadly',\n",
       "  'safely',\n",
       "  'scarcely',\n",
       "  'scarily',\n",
       "  'searchingly',\n",
       "  'sedately',\n",
       "  'seemingly',\n",
       "  'seldom',\n",
       "  'selfishly',\n",
       "  'separately',\n",
       "  'seriously',\n",
       "  'shakily',\n",
       "  'sharply',\n",
       "  'sheepishly',\n",
       "  'shrilly',\n",
       "  'shyly',\n",
       "  'silently',\n",
       "  'sleepily',\n",
       "  'slowly',\n",
       "  'smoothly',\n",
       "  'softly',\n",
       "  'solemnly',\n",
       "  'solidly',\n",
       "  'sometimes',\n",
       "  'soon',\n",
       "  'speedily',\n",
       "  'stealthily',\n",
       "  'sternly',\n",
       "  'strictly',\n",
       "  'successfully',\n",
       "  'suddenly',\n",
       "  'surprisingly',\n",
       "  'suspiciously',\n",
       "  'sweetly',\n",
       "  'swiftly',\n",
       "  'sympathetically',\n",
       "  'tenderly',\n",
       "  'tensely',\n",
       "  'terribly',\n",
       "  'thankfully',\n",
       "  'thoroughly',\n",
       "  'thoughtfully',\n",
       "  'tightly',\n",
       "  'tomorrow',\n",
       "  'too',\n",
       "  'tremendously',\n",
       "  'triumphantly',\n",
       "  'truly',\n",
       "  'truthfully',\n",
       "  'ultimately',\n",
       "  'unabashedly',\n",
       "  'unaccountably',\n",
       "  'unbearably',\n",
       "  'unethically',\n",
       "  'unexpectedly',\n",
       "  'unfortunately',\n",
       "  'unimpressively',\n",
       "  'unnaturally',\n",
       "  'unnecessarily',\n",
       "  'upbeat',\n",
       "  'upliftingly',\n",
       "  'upright',\n",
       "  'upside-down',\n",
       "  'upward',\n",
       "  'upwardly',\n",
       "  'urgently',\n",
       "  'usefully',\n",
       "  'uselessly',\n",
       "  'usually',\n",
       "  'utterly',\n",
       "  'vacantly',\n",
       "  'vaguely',\n",
       "  'vainly',\n",
       "  'valiantly',\n",
       "  'vastly',\n",
       "  'verbally',\n",
       "  'very',\n",
       "  'viciously',\n",
       "  'victoriously',\n",
       "  'violently',\n",
       "  'vivaciously',\n",
       "  'voluntarily',\n",
       "  'warmly',\n",
       "  'weakly',\n",
       "  'wearily',\n",
       "  'well',\n",
       "  'wetly',\n",
       "  'wholly',\n",
       "  'wildly',\n",
       "  'willfully',\n",
       "  'wisely',\n",
       "  'woefully',\n",
       "  'wonderfully',\n",
       "  'worriedly',\n",
       "  'wrongly',\n",
       "  'yawningly',\n",
       "  'yearly',\n",
       "  'yearningly',\n",
       "  'yesterday',\n",
       "  'yieldingly',\n",
       "  'youthfully']}"
      ]
     },
     "execution_count": 63,
     "metadata": {},
     "output_type": "execute_result"
    }
   ],
   "source": [
    "adverbs"
   ]
  },
  {
   "cell_type": "code",
   "execution_count": 64,
   "metadata": {
    "collapsed": true
   },
   "outputs": [],
   "source": [
    "conjunctions = [\n",
    "\n",
    "\"when\",\n",
    "\"once\",\n",
    "\"as soon as\",\n",
    "\"if\",\n",
    "\"till\",\n",
    "\"untill\",\n",
    "\"provided that\",\n",
    "\"unless\",\n",
    "\"even though\",\n",
    "\"although\",\n",
    "\"as\",\n",
    "\"because\",\n",
    "\"after\",\n",
    "\"before\",\n",
    "\"in spite of\",\n",
    "\"despite\",\n",
    "\n",
    "]"
   ]
  },
  {
   "cell_type": "markdown",
   "metadata": {},
   "source": [
    "## List of Word lists (in string form) ##\n",
    "* words\n",
    "* creatures\n",
    "* orientations\n",
    "* adverbs\n",
    "* actions\n",
    "* techniques\n",
    "* geography\n",
    "* bodyParts\n",
    "* concepts\n",
    "* attributes\n",
    "* verbs = verbsLove\n",
    "* moods\n",
    "* locations\n",
    "\n",
    "\n"
   ]
  },
  {
   "cell_type": "code",
   "execution_count": 83,
   "metadata": {},
   "outputs": [],
   "source": [
    "verbsLove = json.loads(open(\"verbsLove.json\").read())"
   ]
  },
  {
   "cell_type": "code",
   "execution_count": 84,
   "metadata": {},
   "outputs": [
    {
     "data": {
      "text/plain": [
       "{'verb': ['kissed', 'caressed', 'hugged', 'stroked', 'touched', 'rubbed']}"
      ]
     },
     "execution_count": 84,
     "metadata": {},
     "output_type": "execute_result"
    }
   ],
   "source": [
    "verbsLove"
   ]
  },
  {
   "cell_type": "code",
   "execution_count": 87,
   "metadata": {},
   "outputs": [],
   "source": [
    "verbs = verbsLove['verb']"
   ]
  },
  {
   "cell_type": "code",
   "execution_count": 90,
   "metadata": {},
   "outputs": [],
   "source": [
    "adverbsList = json.loads(open(\"adverbs.json\").read())"
   ]
  },
  {
   "cell_type": "code",
   "execution_count": 92,
   "metadata": {},
   "outputs": [],
   "source": [
    "adverbs = adverbsList[\"adverbs\"]"
   ]
  },
  {
   "cell_type": "code",
   "execution_count": 96,
   "metadata": {},
   "outputs": [
    {
     "name": "stdout",
     "output_type": "stream",
     "text": [
      "Only when a prince has his or her back dearly kissed by a king, will a you truly believe in love.\n",
      "Do you believe that a crab can love a spouse? Although a Phantom parrying a right side with a shield?\n",
      "Only when a fatty has his or her neck openly stroked by an ally, will a friend truly believe in love.\n",
      "Do you believe that a laggard can love a covenator? Unless a sniper rolling a core with a key?\n",
      "Do you believe that a miscreant can love an enemy? Untill a dwarf jumping an anywhere with a transposing kiln?\n",
      "Do you believe that a merchant can love a Dark Spirit? Although a beggar plunging attack a hint with an armor?\n",
      "Only when a charmer has his or her leg frankly caressed by a Hollow, will a beggar truly believe in love.\n",
      "Do you believe that a mob enemy can love a trio? Untill a critical foe shield breaking a weapon with a coffin?\n",
      "Do you believe that an elder can love a nimble one? Even though a bug jog a trap with a soup?\n",
      "Do you believe that a beggar can love a moneybags? Even though a nimble one rolling a dragon with a soup?\n"
     ]
    }
   ],
   "source": [
    "rules = {\n",
    "    \"origin\":[ \"Do you believe that #creature.a# can love #creature.a#? #conjunction.capitalize# #creature.a# #action# #noun.a# with #object.a#?\", \n",
    "    \"Only when #creature.a# has his or her #bodyPart# #adverb# #verb# by #creature.a#, will #creature.a# truly believe in love.\", \n",
    "     \"In a sad #location\"        ],\n",
    "    \"noun\": [ \"#creature#\", \"#bodyPart#\", \"#concept#\", \"#object#\"],\n",
    "    \n",
    "\"verb\": verbs,\n",
    "\n",
    "\"object\": objects,\n",
    "\"creature\": creatures,\n",
    "\"bodyPart\": bodyParts,\n",
    "\"action\": actions,\n",
    "\"concept\": concepts,\n",
    "\"conjunction\": conjunctions,\n",
    "\"adverb\": adverbs\n",
    "\n",
    "}\n",
    "    \n",
    "grammar = tracery.Grammar(rules)\n",
    "grammar.add_modifiers(base_english)\n",
    "for i in range(10): \n",
    "    print(grammar.flatten(\"#origin#\"))"
   ]
  },
  {
   "cell_type": "code",
   "execution_count": 99,
   "metadata": {
    "collapsed": true
   },
   "outputs": [],
   "source": [
    "locations_list = json.loads(open(\"locations_data.json\").read())"
   ]
  },
  {
   "cell_type": "code",
   "execution_count": 100,
   "metadata": {},
   "outputs": [],
   "source": [
    "locations = locations_list['locations']"
   ]
  },
  {
   "cell_type": "code",
   "execution_count": 116,
   "metadata": {},
   "outputs": [
    {
     "name": "stdout",
     "output_type": "stream",
     "text": [
      "One evening in Irithyll of the Boreal Valley, a liable bandit met a poor soul who asked:\n",
      "Do you believe that an ally can love a monstrosity?\n",
      "One evening in Smouldering Lake , a reconciled covenator met a Hollow who asked:\n",
      "Do you believe that a skeleton can love an oddball?\n",
      "Do you believe that an ally can love an angel?\n",
      "One evening in City of the Dead, a uncomfortable beggar met a skeleton who asked:\n",
      "Do you believe that a dragon can love an old dear?\n",
      "Do you believe that an oddball can love a crab?\n",
      "One evening in City of the Dead, a mocking charmer met an oddball who asked:\n",
      "Do you believe that a beast can love a charmer?\n"
     ]
    }
   ],
   "source": [
    "rules = {\n",
    "    \"origin\":[ \"Do you believe that #creature.a# can love #creature.a#?\", \n",
    "    \"Only when #creature.a# has his or her #bodyPart# #adverb# #verb# by #creature.a#, will #creature.a# truly believe in love.\", \n",
    "     \"One evening in #location#, a #mood# #creature# met #creature.a# who asked:\"  ],\n",
    "   \n",
    "    \"noun\": [ \"#creature#\", \"#bodyPart#\", \"#concept#\", \"#object#\"],\n",
    "    \n",
    "\"verb\": verbs,\n",
    "\"location\" : locations,\n",
    "\"object\": objects,\n",
    "\"creature\": creatures,\n",
    "\"bodyPart\": bodyParts,\n",
    "\"action\": actions,\n",
    "\"concept\": concepts,\n",
    "\"conjunction\": conjunctions,\n",
    "\"adverb\": adverbs,\n",
    "\"mood\" : moods\n",
    "\n",
    "}\n",
    "    \n",
    "grammar = tracery.Grammar(rules)\n",
    "grammar.add_modifiers(base_english)\n",
    "for i in range(10): \n",
    "    print(grammar.flatten(\"#origin#\"))"
   ]
  },
  {
   "cell_type": "code",
   "execution_count": 105,
   "metadata": {
    "collapsed": true
   },
   "outputs": [],
   "source": [
    "moods_list = json.loads(open(\"moods_data.json\").read())"
   ]
  },
  {
   "cell_type": "code",
   "execution_count": 106,
   "metadata": {
    "collapsed": true
   },
   "outputs": [],
   "source": [
    "moods = moods_list['moods']"
   ]
  },
  {
   "cell_type": "markdown",
   "metadata": {},
   "source": [
    "## Updating the original code - saving *expansions* ##\n",
    "Lists and basic rules are working properly. Also, added some new lists. Now I need to create more rules in order to generate **an overal arch** for the final piece. This means creatin a sense of beggining and end to the poem. \n",
    "For this I want to start by saving the objects generated so it can remain part of the generated narrative.\n",
    "\n",
    "[Kate Compton's Hero example 1](https://github.com/galaxykate/tracery \"Galaxy Kate Tracery Examples\" ) and [Her  Crystal Palace Tracery Tutorial](http://www.crystalcodepalace.com/traceryTut.html \"Galaxy Kates Tutorials\")\n",
    "\n",
    ">Often you want to save information. Tracery allows you to call actions, which are bracketed statements that appear before symbols in a tag #[someAction]someSymbol#. In their basic form, they create some new rules and push them onto a symbol, creating that symbol if it didn't exist, or hiding its previous value if it did.\n",
    "\n",
    "~~~\n",
    "{\n",
    "\t\"name\": [\"Arjun\",\"Yuuma\",\"Darcy\",\"Mia\",\"Chiaki\",\"Izzi\",\"Azra\",\"Lina\"]\n",
    ",\t\"animal\": [\"unicorn\",\"raven\",\"sparrow\",\"scorpion\",\"coyote\",\"eagle\",\"owl\",\"lizard\",\"zebra\",\"duck\",\"kitten\"]\n",
    ",\t\"mood\": [\"vexed\",\"indignant\",\"impassioned\",\"wistful\",\"astute\",\"courteous\"]\n",
    ",\t\"story\": [\"#hero# traveled with her pet #heroPet#.  #hero# was never #mood#, for the #heroPet# was always too #mood#.\"]\n",
    ",\t\"origin\": [\"#[hero:#name#][heroPet:#animal#]story#\"]\n",
    "\n",
    "}\n",
    "~~~\n"
   ]
  },
  {
   "cell_type": "code",
   "execution_count": 177,
   "metadata": {},
   "outputs": [
    {
     "name": "stdout",
     "output_type": "stream",
     "text": [
      "One evening in Ariandel, a apathetic old codger met a prince who asked: Do you believe that a critical foe can love an old codger?\n",
      "The prince looked at the old codger with a worthy mount and touched the old codger's tounge while saying:\n",
      "Only when an old codger has his or her left leg thankfully touched by a pilgrim, will a critical foe truly believe in love.\n",
      "One evening in City of the Dead, a disobedient enemy met an oddball who asked: Do you believe that a miscreant can love an enemy?\n",
      "The oddball looked at the enemy with a crazy left leg and touched the enemy's right leg while saying:\n",
      "Only when a charmer has his or her core sympathetically kissed by a good fellow, will a miscreant truly believe in love.\n"
     ]
    }
   ],
   "source": [
    "rules = {\n",
    "    \"origin\":[\"#[lover:#creature#][wise:#creature#][muse:#creature#]story#\"],\n",
    "    \n",
    "    \"story\": [\"One evening in #location#, a #mood# #lover# met #wise.a# who asked: Do you believe that #muse.a# can love #lover.a#?\\nThe #wise# looked at the #lover# with #mood.a# #bodyPart# and touched the #lover#'s #bodyPart# while saying:\\nOnly when #creature.a# has his or her #bodyPart# #adverb# #verb# by #creature.a#, will #muse.a# truly believe in love.\"],\n",
    "   \n",
    "    \"noun\": [ \"#creature#\", \"#bodyPart#\", \"#concept#\", \"#object#\"],\n",
    "    \n",
    "\"verb\": verbs,\n",
    "\"location\" : locations,\n",
    "\"object\": objects,\n",
    "\"creature\": creatures,\n",
    "\"bodyPart\": bodyParts,\n",
    "\"action\": actions,\n",
    "\"concept\": concepts,\n",
    "\"conjunction\": conjunctions,\n",
    "\"adverb\": adverbs,\n",
    "\"mood\" : moods\n",
    "\n",
    "}\n",
    "    \n",
    "grammar = tracery.Grammar(rules)\n",
    "grammar.add_modifiers(base_english)\n",
    "for i in range(2): \n",
    "    print(grammar.flatten(\"#origin#\"))\n",
    "\n"
   ]
  },
  {
   "cell_type": "markdown",
   "metadata": {},
   "source": [
    "## Prose or Poem? What about \"Prose Poem\"? \n",
    "\n",
    "I already have a prose generator, but what about creating a poem out of it? While researching about what really makes a poem now a days I've found this article about [*Prose Poems*](https://www.poets.org/poetsorg/text/prose-poem-poetic-form \"Prose Poems\").\n",
    "\n",
    "Also: want to find a way of rhyming content from different dictionaries/strings and using them inside the Tracery context.\n"
   ]
  },
  {
   "cell_type": "code",
   "execution_count": 175,
   "metadata": {},
   "outputs": [
    {
     "data": {
      "text/plain": [
       "25"
      ]
     },
     "execution_count": 175,
     "metadata": {},
     "output_type": "execute_result"
    }
   ],
   "source": [
    "len(\"suppose there is a pigeon\")\n"
   ]
  },
  {
   "cell_type": "code",
   "execution_count": null,
   "metadata": {
    "collapsed": true
   },
   "outputs": [],
   "source": []
  }
 ],
 "metadata": {
  "kernelspec": {
   "display_name": "Python 3",
   "language": "python",
   "name": "python3"
  },
  "language_info": {
   "codemirror_mode": {
    "name": "ipython",
    "version": 3
   },
   "file_extension": ".py",
   "mimetype": "text/x-python",
   "name": "python",
   "nbconvert_exporter": "python",
   "pygments_lexer": "ipython3",
   "version": "3.6.3"
  }
 },
 "nbformat": 4,
 "nbformat_minor": 2
}
