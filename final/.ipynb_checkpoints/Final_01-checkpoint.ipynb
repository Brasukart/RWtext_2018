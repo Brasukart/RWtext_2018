{
 "cells": [
  {
   "cell_type": "markdown",
   "metadata": {},
   "source": [
    "# Dark Souls Love #\n"
   ]
  },
  {
   "cell_type": "code",
   "execution_count": 2,
   "metadata": {},
   "outputs": [],
   "source": [
    "import tracery\n"
   ]
  },
  {
   "cell_type": "code",
   "execution_count": 5,
   "metadata": {
    "collapsed": true
   },
   "outputs": [],
   "source": [
    "import random"
   ]
  },
  {
   "cell_type": "code",
   "execution_count": 7,
   "metadata": {
    "collapsed": true
   },
   "outputs": [],
   "source": [
    "import json"
   ]
  },
  {
   "cell_type": "code",
   "execution_count": 9,
   "metadata": {
    "collapsed": true
   },
   "outputs": [],
   "source": [
    "import spacy"
   ]
  },
  {
   "cell_type": "code",
   "execution_count": 68,
   "metadata": {},
   "outputs": [],
   "source": [
    "from tracery.modifiers import base_english"
   ]
  },
  {
   "cell_type": "code",
   "execution_count": 12,
   "metadata": {
    "scrolled": true
   },
   "outputs": [],
   "source": [
    "animal_data = json.loads(open(\"darksouls_edit.json\").read())\n"
   ]
  },
  {
   "cell_type": "code",
   "execution_count": 244,
   "metadata": {
    "collapsed": true
   },
   "outputs": [],
   "source": [
    "darksouls_data = json.loads(open(\"darksouls_edit.json\").read())"
   ]
  },
  {
   "cell_type": "code",
   "execution_count": 14,
   "metadata": {},
   "outputs": [
    {
     "data": {
      "text/plain": [
       "{'description': 'Organized components from the Dark Souls III message system',\n",
       " 'templates': ['**** ahead',\n",
       "  'No **** ahead',\n",
       "  '**** required ahead',\n",
       "  'be wary of ****',\n",
       "  'try ****',\n",
       "  'Could this be a ****?',\n",
       "  'If only I had a ****â€¦',\n",
       "  'visions of ****â€¦',\n",
       "  'Time for ****',\n",
       "  '****',\n",
       "  '****!',\n",
       "  '****?',\n",
       "  '****â€¦',\n",
       "  \"Huh. It's a ****â€¦\",\n",
       "  'praise the ****!',\n",
       "  'Let there be ****',\n",
       "  'Ahh, ****â€¦'],\n",
       " 'words': {'actions': ['jog',\n",
       "   'dash',\n",
       "   'rolling',\n",
       "   'backstepping',\n",
       "   'jumping',\n",
       "   'attacking',\n",
       "   'jump attack',\n",
       "   'dash attack',\n",
       "   'counter attack',\n",
       "   'stabbing in the back',\n",
       "   'guard stun & stab',\n",
       "   'plunging attack',\n",
       "   'sweeping attack',\n",
       "   'shield breaking',\n",
       "   'blocking',\n",
       "   'parrying',\n",
       "   'locking-on',\n",
       "   'no lock-on',\n",
       "   'two-handing',\n",
       "   'gesture',\n",
       "   'control',\n",
       "   'destroy'],\n",
       "  'attribute': ['regular',\n",
       "   'strike',\n",
       "   'thrust',\n",
       "   'slash',\n",
       "   'magic',\n",
       "   'crystal',\n",
       "   'fire',\n",
       "   'chaos',\n",
       "   'lightning',\n",
       "   'blessing',\n",
       "   'dark',\n",
       "   'critical hits',\n",
       "   'bleeding',\n",
       "   'poison',\n",
       "   'toxic',\n",
       "   'frost',\n",
       "   'curse',\n",
       "   'equipment breakage'],\n",
       "  'body parts': ['head',\n",
       "   'neck',\n",
       "   'stomach',\n",
       "   'back',\n",
       "   'arm',\n",
       "   'finger',\n",
       "   'leg',\n",
       "   'rear',\n",
       "   'tail',\n",
       "   'wings',\n",
       "   'anywhere',\n",
       "   'tounge',\n",
       "   'right arm',\n",
       "   'left arm',\n",
       "   'thumb',\n",
       "   'indexfinger',\n",
       "   'longfinger',\n",
       "   'ringfinger',\n",
       "   'smallfinger',\n",
       "   'right leg',\n",
       "   'left leg',\n",
       "   'right side',\n",
       "   'left side',\n",
       "   'pincer',\n",
       "   'wheel',\n",
       "   'core',\n",
       "   'mount'],\n",
       "  'concepts': ['chance',\n",
       "   'quagmire',\n",
       "   'hint',\n",
       "   'secret',\n",
       "   'sleeptalk',\n",
       "   'happiness',\n",
       "   'misfortune',\n",
       "   'life',\n",
       "   'death',\n",
       "   'demise',\n",
       "   'joy',\n",
       "   'fury',\n",
       "   'agony',\n",
       "   'sadness',\n",
       "   'tears',\n",
       "   'loyalty',\n",
       "   'betrayal',\n",
       "   'hope',\n",
       "   'despair',\n",
       "   'fear',\n",
       "   'losing sanity',\n",
       "   'victory',\n",
       "   'defeat',\n",
       "   'sacrafice',\n",
       "   'light',\n",
       "   'dark',\n",
       "   'bravery',\n",
       "   'confidence',\n",
       "   'vigor',\n",
       "   'revenge',\n",
       "   'resignation',\n",
       "   'overwhelming',\n",
       "   'regret',\n",
       "   'pointless',\n",
       "   'man',\n",
       "   'woman',\n",
       "   'friendship',\n",
       "   'love',\n",
       "   'recklessness',\n",
       "   'composure',\n",
       "   'guts',\n",
       "   'comfort',\n",
       "   'silence',\n",
       "   'deep',\n",
       "   'dregs'],\n",
       "  'creatures': ['enemy',\n",
       "   'monster',\n",
       "   'mob enemy',\n",
       "   'tough enemy',\n",
       "   'critical foe',\n",
       "   'Hollow',\n",
       "   'pilgrim',\n",
       "   'prisoner',\n",
       "   'monstrosity',\n",
       "   'skeleton',\n",
       "   'ghost',\n",
       "   'beast',\n",
       "   'lizard',\n",
       "   'bug',\n",
       "   'grub',\n",
       "   'crab',\n",
       "   'dwarf',\n",
       "   'giant',\n",
       "   'demon',\n",
       "   'dragon',\n",
       "   'knight',\n",
       "   'sellsword',\n",
       "   'warrior',\n",
       "   'herald',\n",
       "   'bandit',\n",
       "   'assassin',\n",
       "   'sorcerer',\n",
       "   'pyromancer',\n",
       "   'cleric',\n",
       "   'deprived',\n",
       "   'sniper',\n",
       "   'duo',\n",
       "   'trio',\n",
       "   'you',\n",
       "   'you bastard',\n",
       "   'good fellow',\n",
       "   'saint',\n",
       "   'wretch',\n",
       "   'charmer',\n",
       "   'poor soul',\n",
       "   'oddball',\n",
       "   'nimble one',\n",
       "   'laggard',\n",
       "   'moneybags',\n",
       "   'beggar',\n",
       "   'miscreant',\n",
       "   'liar',\n",
       "   'fatty',\n",
       "   'beanpole',\n",
       "   'youth',\n",
       "   'elder',\n",
       "   'old codger',\n",
       "   'old dear',\n",
       "   'merchant',\n",
       "   'artisan',\n",
       "   'master',\n",
       "   'sage',\n",
       "   'champion',\n",
       "   'Lord of Cinder',\n",
       "   'king',\n",
       "   'queen',\n",
       "   'prince',\n",
       "   'princess',\n",
       "   'angel',\n",
       "   'god',\n",
       "   'friend',\n",
       "   'ally',\n",
       "   'spouse',\n",
       "   'covenator',\n",
       "   'Phantom',\n",
       "   'Dark Spirit'],\n",
       "  'geography': ['boulder',\n",
       "   'lava',\n",
       "   'poison gas',\n",
       "   'enemy horde',\n",
       "   'forest',\n",
       "   'swamp',\n",
       "   'cave',\n",
       "   'shortcut',\n",
       "   'detour',\n",
       "   'hidden path',\n",
       "   'secret passage',\n",
       "   'dead end',\n",
       "   'labyrinth',\n",
       "   'hole',\n",
       "   'bright spot',\n",
       "   'dark spot',\n",
       "   'open area',\n",
       "   'tight spot',\n",
       "   'safe zone',\n",
       "   'danger zone',\n",
       "   'sniper spot',\n",
       "   'hidding place',\n",
       "   'illusory wall',\n",
       "   'ladder',\n",
       "   'lift',\n",
       "   'gorgeous view',\n",
       "   'looking away',\n",
       "   'overconfidence',\n",
       "   'slip-up',\n",
       "   'oversight',\n",
       "   'fatigue',\n",
       "   'bad luck',\n",
       "   'inattention',\n",
       "   'loss of stamina',\n",
       "   'chance encounter',\n",
       "   'planned encounter'],\n",
       "  'musings': ['good luck',\n",
       "   'fine work',\n",
       "   'I did it!',\n",
       "   \"I've failedâ€¦\",\n",
       "   'here!',\n",
       "   'not here!',\n",
       "   \"I can't take thisâ€¦\",\n",
       "   'lonelyâ€¦',\n",
       "   \"don't you dare!\",\n",
       "   'do it!',\n",
       "   'look carefully',\n",
       "   'listen carefully',\n",
       "   'think carefully',\n",
       "   'this place again?',\n",
       "   'now the real fight begins',\n",
       "   \"you don't deserve this\",\n",
       "   'keep moving',\n",
       "   'pull back',\n",
       "   'give it up',\n",
       "   \"don't give up\",\n",
       "   'help meâ€¦',\n",
       "   'impossibleâ€¦',\n",
       "   'bloody expensiveâ€¦',\n",
       "   'let me out of hereâ€¦',\n",
       "   'stay calm',\n",
       "   'like a dreamâ€¦',\n",
       "   'seems familiarâ€¦',\n",
       "   'are you ready?',\n",
       "   \"it'll happen to you too\",\n",
       "   'praise the Sun!',\n",
       "   'may the flames guide thee'],\n",
       "  'objects': ['bonfire',\n",
       "   'ember',\n",
       "   'fog wall',\n",
       "   'lever',\n",
       "   'contraption',\n",
       "   'key',\n",
       "   'trap',\n",
       "   'torch',\n",
       "   'door',\n",
       "   'treasure',\n",
       "   'chest',\n",
       "   'something',\n",
       "   'quite something',\n",
       "   'rubbish',\n",
       "   'filth',\n",
       "   'weapon',\n",
       "   'shield',\n",
       "   'projectile',\n",
       "   'armor',\n",
       "   'item',\n",
       "   'ring',\n",
       "   'ore',\n",
       "   'coal',\n",
       "   'transposing kiln',\n",
       "   'scroll',\n",
       "   'umbral ash',\n",
       "   'throne',\n",
       "   'rite',\n",
       "   'coffin',\n",
       "   'cinder',\n",
       "   'ash',\n",
       "   'moon',\n",
       "   'eye',\n",
       "   'brew',\n",
       "   'soup',\n",
       "   'message',\n",
       "   'bloodstain',\n",
       "   'illusion'],\n",
       "  'orientation': ['front',\n",
       "   'back',\n",
       "   'left',\n",
       "   'right',\n",
       "   'up',\n",
       "   'down',\n",
       "   'below',\n",
       "   'above',\n",
       "   'behind'],\n",
       "  'techniques': ['close-ranged battle',\n",
       "   'ranged battle',\n",
       "   'eliminating one at a time',\n",
       "   'luring it out',\n",
       "   'beating to a pulp',\n",
       "   'ambush',\n",
       "   'pincer attack',\n",
       "   'hitting them in one swoop',\n",
       "   'dual-wielding',\n",
       "   'stealth',\n",
       "   'mimicry',\n",
       "   'fleeing',\n",
       "   'charging',\n",
       "   'jumping off',\n",
       "   'dashing through',\n",
       "   'circling around',\n",
       "   'trapping inside',\n",
       "   'rescue',\n",
       "   'Skill',\n",
       "   'sorcery',\n",
       "   'pyromancy',\n",
       "   'miracles',\n",
       "   'pure luck',\n",
       "   'prudence',\n",
       "   'brief respite',\n",
       "   'play dead']}}"
      ]
     },
     "execution_count": 14,
     "metadata": {},
     "output_type": "execute_result"
    }
   ],
   "source": [
    "darksouls_data"
   ]
  },
  {
   "cell_type": "code",
   "execution_count": 17,
   "metadata": {},
   "outputs": [
    {
     "data": {
      "text/plain": [
       "dict"
      ]
     },
     "execution_count": 17,
     "metadata": {},
     "output_type": "execute_result"
    }
   ],
   "source": [
    "type (darksouls_data)"
   ]
  },
  {
   "cell_type": "code",
   "execution_count": 26,
   "metadata": {
    "scrolled": true
   },
   "outputs": [],
   "source": [
    "words = darksouls_data['words']"
   ]
  },
  {
   "cell_type": "markdown",
   "metadata": {},
   "source": [
    "## creating dictionaries using one json file ##\n",
    "I don't want to copy paste the all word lists on the Python file. Instead I'm using one single JSON file with all DarkSouls words in it and I'll create different dictionaries for each of the categories (objects, enemies, actions, etc).{ \n",
    "\n",
    "As explained [Here](https://github.com/aparrish/rwet/blob/master/dealing-with-json.ipynb \"Dealing with Jason\")"
   ]
  },
  {
   "cell_type": "code",
   "execution_count": 29,
   "metadata": {},
   "outputs": [
    {
     "data": {
      "text/plain": [
       "dict"
      ]
     },
     "execution_count": 29,
     "metadata": {},
     "output_type": "execute_result"
    }
   ],
   "source": [
    "type (words)"
   ]
  },
  {
   "cell_type": "code",
   "execution_count": 40,
   "metadata": {},
   "outputs": [
    {
     "data": {
      "text/plain": [
       "['enemy',\n",
       " 'monster',\n",
       " 'mob enemy',\n",
       " 'tough enemy',\n",
       " 'critical foe',\n",
       " 'Hollow',\n",
       " 'pilgrim',\n",
       " 'prisoner',\n",
       " 'monstrosity',\n",
       " 'skeleton',\n",
       " 'ghost',\n",
       " 'beast',\n",
       " 'lizard',\n",
       " 'bug',\n",
       " 'grub',\n",
       " 'crab',\n",
       " 'dwarf',\n",
       " 'giant',\n",
       " 'demon',\n",
       " 'dragon',\n",
       " 'knight',\n",
       " 'sellsword',\n",
       " 'warrior',\n",
       " 'herald',\n",
       " 'bandit',\n",
       " 'assassin',\n",
       " 'sorcerer',\n",
       " 'pyromancer',\n",
       " 'cleric',\n",
       " 'deprived',\n",
       " 'sniper',\n",
       " 'duo',\n",
       " 'trio',\n",
       " 'you',\n",
       " 'you bastard',\n",
       " 'good fellow',\n",
       " 'saint',\n",
       " 'wretch',\n",
       " 'charmer',\n",
       " 'poor soul',\n",
       " 'oddball',\n",
       " 'nimble one',\n",
       " 'laggard',\n",
       " 'moneybags',\n",
       " 'beggar',\n",
       " 'miscreant',\n",
       " 'liar',\n",
       " 'fatty',\n",
       " 'beanpole',\n",
       " 'youth',\n",
       " 'elder',\n",
       " 'old codger',\n",
       " 'old dear',\n",
       " 'merchant',\n",
       " 'artisan',\n",
       " 'master',\n",
       " 'sage',\n",
       " 'champion',\n",
       " 'Lord of Cinder',\n",
       " 'king',\n",
       " 'queen',\n",
       " 'prince',\n",
       " 'princess',\n",
       " 'angel',\n",
       " 'god',\n",
       " 'friend',\n",
       " 'ally',\n",
       " 'spouse',\n",
       " 'covenator',\n",
       " 'Phantom',\n",
       " 'Dark Spirit']"
      ]
     },
     "execution_count": 40,
     "metadata": {},
     "output_type": "execute_result"
    }
   ],
   "source": [
    "words['creatures']"
   ]
  },
  {
   "cell_type": "code",
   "execution_count": 41,
   "metadata": {
    "collapsed": true
   },
   "outputs": [],
   "source": [
    "creatures = words['creatures']"
   ]
  },
  {
   "cell_type": "code",
   "execution_count": 43,
   "metadata": {},
   "outputs": [],
   "source": [
    "objects = words['objects']"
   ]
  },
  {
   "cell_type": "code",
   "execution_count": 250,
   "metadata": {
    "collapsed": true
   },
   "outputs": [],
   "source": [
    "techniques = words['techniques']\n",
    "actions = words['actions']\n"
   ]
  },
  {
   "cell_type": "code",
   "execution_count": 251,
   "metadata": {},
   "outputs": [],
   "source": [
    "geography = words['geography']\n",
    "orientations = words['orientation']\n"
   ]
  },
  {
   "cell_type": "code",
   "execution_count": 48,
   "metadata": {},
   "outputs": [
    {
     "data": {
      "text/plain": [
       "['front', 'back', 'left', 'right', 'up', 'down', 'below', 'above', 'behind']"
      ]
     },
     "execution_count": 48,
     "metadata": {},
     "output_type": "execute_result"
    }
   ],
   "source": [
    "orientations\n"
   ]
  },
  {
   "cell_type": "code",
   "execution_count": 55,
   "metadata": {},
   "outputs": [],
   "source": [
    "bodyParts = words['body parts']"
   ]
  },
  {
   "cell_type": "code",
   "execution_count": 52,
   "metadata": {},
   "outputs": [],
   "source": [
    "attributes = words['attribute']"
   ]
  },
  {
   "cell_type": "code",
   "execution_count": 53,
   "metadata": {
    "collapsed": true
   },
   "outputs": [],
   "source": [
    "concepts = words['concepts']"
   ]
  },
  {
   "cell_type": "markdown",
   "metadata": {},
   "source": [
    "Now that my lists of words are ready I can copy my old **Dark Souls Rules** and start improving on it"
   ]
  },
  {
   "cell_type": "code",
   "execution_count": 62,
   "metadata": {},
   "outputs": [],
   "source": [
    "adverbs = json.loads(open(\"adverbs.json\").read())"
   ]
  },
  {
   "cell_type": "code",
   "execution_count": 63,
   "metadata": {},
   "outputs": [
    {
     "data": {
      "text/plain": [
       "{'adverbs': ['abnormally',\n",
       "  'absentmindedly',\n",
       "  'accidentally',\n",
       "  'acidly',\n",
       "  'actually',\n",
       "  'adventurously',\n",
       "  'afterwards',\n",
       "  'almost',\n",
       "  'always',\n",
       "  'angrily',\n",
       "  'annually',\n",
       "  'anxiously',\n",
       "  'arrogantly',\n",
       "  'awkwardly',\n",
       "  'badly',\n",
       "  'bashfully',\n",
       "  'beautifully',\n",
       "  'bitterly',\n",
       "  'bleakly',\n",
       "  'blindly',\n",
       "  'blissfully',\n",
       "  'boastfully',\n",
       "  'boldly',\n",
       "  'bravely',\n",
       "  'briefly',\n",
       "  'brightly',\n",
       "  'briskly',\n",
       "  'broadly',\n",
       "  'busily',\n",
       "  'calmly',\n",
       "  'carefully',\n",
       "  'carelessly',\n",
       "  'cautiously',\n",
       "  'certainly',\n",
       "  'cheerfully',\n",
       "  'clearly',\n",
       "  'cleverly',\n",
       "  'closely',\n",
       "  'coaxingly',\n",
       "  'colorfully',\n",
       "  'commonly',\n",
       "  'continually',\n",
       "  'coolly',\n",
       "  'correctly',\n",
       "  'courageously',\n",
       "  'crossly',\n",
       "  'cruelly',\n",
       "  'curiously',\n",
       "  'daily',\n",
       "  'daintily',\n",
       "  'dearly',\n",
       "  'deceivingly',\n",
       "  'deeply',\n",
       "  'defiantly',\n",
       "  'deliberately',\n",
       "  'delightfully',\n",
       "  'diligently',\n",
       "  'dimly',\n",
       "  'doubtfully',\n",
       "  'dreamily',\n",
       "  'easily',\n",
       "  'elegantly',\n",
       "  'energetically',\n",
       "  'enormously',\n",
       "  'enthusiastically',\n",
       "  'equally',\n",
       "  'especially',\n",
       "  'even',\n",
       "  'evenly',\n",
       "  'eventually',\n",
       "  'exactly',\n",
       "  'excitedly',\n",
       "  'extremely',\n",
       "  'fairly',\n",
       "  'faithfully',\n",
       "  'famously',\n",
       "  'far',\n",
       "  'fast',\n",
       "  'fatally',\n",
       "  'ferociously',\n",
       "  'fervently',\n",
       "  'fiercely',\n",
       "  'fondly',\n",
       "  'foolishly',\n",
       "  'fortunately',\n",
       "  'frankly',\n",
       "  'frantically',\n",
       "  'freely',\n",
       "  'frenetically',\n",
       "  'frightfully',\n",
       "  'fully',\n",
       "  'furiously',\n",
       "  'generally',\n",
       "  'generously',\n",
       "  'gently',\n",
       "  'gladly',\n",
       "  'gleefully',\n",
       "  'gracefully',\n",
       "  'gratefully',\n",
       "  'greatly',\n",
       "  'greedily',\n",
       "  'happily',\n",
       "  'hastily',\n",
       "  'healthily',\n",
       "  'heavily',\n",
       "  'helpfully',\n",
       "  'helplessly',\n",
       "  'highly',\n",
       "  'honestly',\n",
       "  'hopelessly',\n",
       "  'hourly',\n",
       "  'hungrily',\n",
       "  'immediately',\n",
       "  'innocently',\n",
       "  'inquisitively',\n",
       "  'instantly',\n",
       "  'intensely',\n",
       "  'intently',\n",
       "  'interestingly',\n",
       "  'inwardly',\n",
       "  'irritably',\n",
       "  'jaggedly',\n",
       "  'jealously',\n",
       "  'joshingly',\n",
       "  'jovially',\n",
       "  'joyfully',\n",
       "  'joyously',\n",
       "  'jubilantly',\n",
       "  'judgementally',\n",
       "  'justly',\n",
       "  'keenly',\n",
       "  'kiddingly',\n",
       "  'kindheartedly',\n",
       "  'kindly',\n",
       "  'kissingly',\n",
       "  'knavishly',\n",
       "  'knottily',\n",
       "  'knowingly',\n",
       "  'knowledgeably',\n",
       "  'kookily',\n",
       "  'lazily',\n",
       "  'less',\n",
       "  'lightly',\n",
       "  'likely',\n",
       "  'limply',\n",
       "  'lively',\n",
       "  'loftily',\n",
       "  'longingly',\n",
       "  'loosely',\n",
       "  'loudly',\n",
       "  'lovingly',\n",
       "  'loyally',\n",
       "  'madly',\n",
       "  'majestically',\n",
       "  'meaningfully',\n",
       "  'mechanically',\n",
       "  'merrily',\n",
       "  'miserably',\n",
       "  'mockingly',\n",
       "  'monthly',\n",
       "  'more',\n",
       "  'mortally',\n",
       "  'mostly',\n",
       "  'mysteriously',\n",
       "  'naturally',\n",
       "  'nearly',\n",
       "  'neatly',\n",
       "  'needily',\n",
       "  'nervously',\n",
       "  'never',\n",
       "  'nicely',\n",
       "  'noisily',\n",
       "  'not',\n",
       "  'obediently',\n",
       "  'obnoxiously',\n",
       "  'oddly',\n",
       "  'offensively',\n",
       "  'officially',\n",
       "  'often',\n",
       "  'only',\n",
       "  'openly',\n",
       "  'optimistically',\n",
       "  'overconfidently',\n",
       "  'owlishly',\n",
       "  'painfully',\n",
       "  'partially',\n",
       "  'patiently',\n",
       "  'perfectly',\n",
       "  'physically',\n",
       "  'playfully',\n",
       "  'politely',\n",
       "  'poorly',\n",
       "  'positively',\n",
       "  'potentially',\n",
       "  'powerfully',\n",
       "  'promptly',\n",
       "  'properly',\n",
       "  'punctually',\n",
       "  'quaintly',\n",
       "  'quarrelsomely',\n",
       "  'queasily',\n",
       "  'queerly',\n",
       "  'questionably',\n",
       "  'questioningly',\n",
       "  'quicker',\n",
       "  'quickly',\n",
       "  'quietly',\n",
       "  'quirkily',\n",
       "  'quizzically',\n",
       "  'rapidly',\n",
       "  'rarely',\n",
       "  'readily',\n",
       "  'really',\n",
       "  'reassuringly',\n",
       "  'recklessly',\n",
       "  'regularly',\n",
       "  'reluctantly',\n",
       "  'repeatedly',\n",
       "  'reproachfully',\n",
       "  'restfully',\n",
       "  'righteously',\n",
       "  'rightfully',\n",
       "  'rigidly',\n",
       "  'roughly',\n",
       "  'rudely',\n",
       "  'sadly',\n",
       "  'safely',\n",
       "  'scarcely',\n",
       "  'scarily',\n",
       "  'searchingly',\n",
       "  'sedately',\n",
       "  'seemingly',\n",
       "  'seldom',\n",
       "  'selfishly',\n",
       "  'separately',\n",
       "  'seriously',\n",
       "  'shakily',\n",
       "  'sharply',\n",
       "  'sheepishly',\n",
       "  'shrilly',\n",
       "  'shyly',\n",
       "  'silently',\n",
       "  'sleepily',\n",
       "  'slowly',\n",
       "  'smoothly',\n",
       "  'softly',\n",
       "  'solemnly',\n",
       "  'solidly',\n",
       "  'sometimes',\n",
       "  'soon',\n",
       "  'speedily',\n",
       "  'stealthily',\n",
       "  'sternly',\n",
       "  'strictly',\n",
       "  'successfully',\n",
       "  'suddenly',\n",
       "  'surprisingly',\n",
       "  'suspiciously',\n",
       "  'sweetly',\n",
       "  'swiftly',\n",
       "  'sympathetically',\n",
       "  'tenderly',\n",
       "  'tensely',\n",
       "  'terribly',\n",
       "  'thankfully',\n",
       "  'thoroughly',\n",
       "  'thoughtfully',\n",
       "  'tightly',\n",
       "  'tomorrow',\n",
       "  'too',\n",
       "  'tremendously',\n",
       "  'triumphantly',\n",
       "  'truly',\n",
       "  'truthfully',\n",
       "  'ultimately',\n",
       "  'unabashedly',\n",
       "  'unaccountably',\n",
       "  'unbearably',\n",
       "  'unethically',\n",
       "  'unexpectedly',\n",
       "  'unfortunately',\n",
       "  'unimpressively',\n",
       "  'unnaturally',\n",
       "  'unnecessarily',\n",
       "  'upbeat',\n",
       "  'upliftingly',\n",
       "  'upright',\n",
       "  'upside-down',\n",
       "  'upward',\n",
       "  'upwardly',\n",
       "  'urgently',\n",
       "  'usefully',\n",
       "  'uselessly',\n",
       "  'usually',\n",
       "  'utterly',\n",
       "  'vacantly',\n",
       "  'vaguely',\n",
       "  'vainly',\n",
       "  'valiantly',\n",
       "  'vastly',\n",
       "  'verbally',\n",
       "  'very',\n",
       "  'viciously',\n",
       "  'victoriously',\n",
       "  'violently',\n",
       "  'vivaciously',\n",
       "  'voluntarily',\n",
       "  'warmly',\n",
       "  'weakly',\n",
       "  'wearily',\n",
       "  'well',\n",
       "  'wetly',\n",
       "  'wholly',\n",
       "  'wildly',\n",
       "  'willfully',\n",
       "  'wisely',\n",
       "  'woefully',\n",
       "  'wonderfully',\n",
       "  'worriedly',\n",
       "  'wrongly',\n",
       "  'yawningly',\n",
       "  'yearly',\n",
       "  'yearningly',\n",
       "  'yesterday',\n",
       "  'yieldingly',\n",
       "  'youthfully']}"
      ]
     },
     "execution_count": 63,
     "metadata": {},
     "output_type": "execute_result"
    }
   ],
   "source": [
    "adverbs"
   ]
  },
  {
   "cell_type": "code",
   "execution_count": 64,
   "metadata": {
    "collapsed": true
   },
   "outputs": [],
   "source": [
    "conjunctions = [\n",
    "\n",
    "\"when\",\n",
    "\"once\",\n",
    "\"as soon as\",\n",
    "\"if\",\n",
    "\"till\",\n",
    "\"untill\",\n",
    "\"provided that\",\n",
    "\"unless\",\n",
    "\"even though\",\n",
    "\"although\",\n",
    "\"as\",\n",
    "\"because\",\n",
    "\"after\",\n",
    "\"before\",\n",
    "\"in spite of\",\n",
    "\"despite\",\n",
    "\n",
    "]"
   ]
  },
  {
   "cell_type": "markdown",
   "metadata": {},
   "source": [
    "## List of Word lists (in string form) ##\n",
    "* words\n",
    "* creatures\n",
    "* orientations\n",
    "* adverbs\n",
    "* actions\n",
    "* techniques\n",
    "* geography\n",
    "* bodyParts\n",
    "* concepts\n",
    "* attributes\n",
    "* verbs = verbsLove\n",
    "* moods\n",
    "* locations\n",
    "\n",
    "\n"
   ]
  },
  {
   "cell_type": "code",
   "execution_count": 83,
   "metadata": {},
   "outputs": [],
   "source": [
    "verbsLove = json.loads(open(\"verbsLove.json\").read())"
   ]
  },
  {
   "cell_type": "code",
   "execution_count": 84,
   "metadata": {},
   "outputs": [
    {
     "data": {
      "text/plain": [
       "{'verb': ['kissed', 'caressed', 'hugged', 'stroked', 'touched', 'rubbed']}"
      ]
     },
     "execution_count": 84,
     "metadata": {},
     "output_type": "execute_result"
    }
   ],
   "source": [
    "verbsLove"
   ]
  },
  {
   "cell_type": "code",
   "execution_count": 87,
   "metadata": {},
   "outputs": [],
   "source": [
    "verbs = verbsLove['verb']"
   ]
  },
  {
   "cell_type": "code",
   "execution_count": 90,
   "metadata": {},
   "outputs": [],
   "source": [
    "adverbsList = json.loads(open(\"adverbs.json\").read())"
   ]
  },
  {
   "cell_type": "code",
   "execution_count": 92,
   "metadata": {},
   "outputs": [],
   "source": [
    "adverbs = adverbsList[\"adverbs\"]"
   ]
  },
  {
   "cell_type": "code",
   "execution_count": 96,
   "metadata": {},
   "outputs": [
    {
     "name": "stdout",
     "output_type": "stream",
     "text": [
      "Only when a prince has his or her back dearly kissed by a king, will a you truly believe in love.\n",
      "Do you believe that a crab can love a spouse? Although a Phantom parrying a right side with a shield?\n",
      "Only when a fatty has his or her neck openly stroked by an ally, will a friend truly believe in love.\n",
      "Do you believe that a laggard can love a covenator? Unless a sniper rolling a core with a key?\n",
      "Do you believe that a miscreant can love an enemy? Untill a dwarf jumping an anywhere with a transposing kiln?\n",
      "Do you believe that a merchant can love a Dark Spirit? Although a beggar plunging attack a hint with an armor?\n",
      "Only when a charmer has his or her leg frankly caressed by a Hollow, will a beggar truly believe in love.\n",
      "Do you believe that a mob enemy can love a trio? Untill a critical foe shield breaking a weapon with a coffin?\n",
      "Do you believe that an elder can love a nimble one? Even though a bug jog a trap with a soup?\n",
      "Do you believe that a beggar can love a moneybags? Even though a nimble one rolling a dragon with a soup?\n"
     ]
    }
   ],
   "source": [
    "rules = {\n",
    "    \"origin\":[ \"Do you believe that #creature.a# can love #creature.a#? #conjunction.capitalize# #creature.a# #action# #noun.a# with #object.a#?\", \n",
    "    \"Only when #creature.a# has his or her #bodyPart# #adverb# #verb# by #creature.a#, will #creature.a# truly believe in love.\", \n",
    "     \"In a sad #location\"        ],\n",
    "    \"noun\": [ \"#creature#\", \"#bodyPart#\", \"#concept#\", \"#object#\"],\n",
    "    \n",
    "\"verb\": verbs,\n",
    "\n",
    "\"object\": objects,\n",
    "\"creature\": creatures,\n",
    "\"bodyPart\": bodyParts,\n",
    "\"action\": actions,\n",
    "\"concept\": concepts,\n",
    "\"conjunction\": conjunctions,\n",
    "\"adverb\": adverbs\n",
    "\n",
    "}\n",
    "    \n",
    "grammar = tracery.Grammar(rules)\n",
    "grammar.add_modifiers(base_english)\n",
    "for i in range(10): \n",
    "    print(grammar.flatten(\"#origin#\"))"
   ]
  },
  {
   "cell_type": "code",
   "execution_count": 99,
   "metadata": {
    "collapsed": true
   },
   "outputs": [],
   "source": [
    "locations_list = json.loads(open(\"locations_data.json\").read())"
   ]
  },
  {
   "cell_type": "code",
   "execution_count": 100,
   "metadata": {},
   "outputs": [],
   "source": [
    "locations = locations_list['locations']"
   ]
  },
  {
   "cell_type": "code",
   "execution_count": 116,
   "metadata": {},
   "outputs": [
    {
     "name": "stdout",
     "output_type": "stream",
     "text": [
      "One evening in Irithyll of the Boreal Valley, a liable bandit met a poor soul who asked:\n",
      "Do you believe that an ally can love a monstrosity?\n",
      "One evening in Smouldering Lake , a reconciled covenator met a Hollow who asked:\n",
      "Do you believe that a skeleton can love an oddball?\n",
      "Do you believe that an ally can love an angel?\n",
      "One evening in City of the Dead, a uncomfortable beggar met a skeleton who asked:\n",
      "Do you believe that a dragon can love an old dear?\n",
      "Do you believe that an oddball can love a crab?\n",
      "One evening in City of the Dead, a mocking charmer met an oddball who asked:\n",
      "Do you believe that a beast can love a charmer?\n"
     ]
    }
   ],
   "source": [
    "rules = {\n",
    "    \"origin\":[ \"Do you believe that #creature.a# can love #creature.a#?\", \n",
    "    \"Only when #creature.a# has his or her #bodyPart# #adverb# #verb# by #creature.a#, will #creature.a# truly believe in love.\", \n",
    "     \"One evening in #location#, a #mood# #creature# met #creature.a# who asked:\"  ],\n",
    "   \n",
    "    \"noun\": [ \"#creature#\", \"#bodyPart#\", \"#concept#\", \"#object#\"],\n",
    "    \n",
    "\"verb\": verbs,\n",
    "\"location\" : locations,\n",
    "\"object\": objects,\n",
    "\"creature\": creatures,\n",
    "\"bodyPart\": bodyParts,\n",
    "\"action\": actions,\n",
    "\"concept\": concepts,\n",
    "\"conjunction\": conjunctions,\n",
    "\"adverb\": adverbs,\n",
    "\"mood\" : moods\n",
    "\n",
    "}\n",
    "    \n",
    "grammar = tracery.Grammar(rules)\n",
    "grammar.add_modifiers(base_english)\n",
    "for i in range(10): \n",
    "    print(grammar.flatten(\"#origin#\"))"
   ]
  },
  {
   "cell_type": "code",
   "execution_count": 105,
   "metadata": {
    "collapsed": true
   },
   "outputs": [],
   "source": [
    "moods_list = json.loads(open(\"moods_data.json\").read())"
   ]
  },
  {
   "cell_type": "code",
   "execution_count": 106,
   "metadata": {
    "collapsed": true
   },
   "outputs": [],
   "source": [
    "moods = moods_list['moods']"
   ]
  },
  {
   "cell_type": "markdown",
   "metadata": {},
   "source": [
    "## Updating the original code - saving *expansions* ##\n",
    "Lists and basic rules are working properly. Also, added some new lists. Now I need to create more rules in order to generate **an overal arch** for the final piece. This means creatin a sense of beggining and end to the poem. \n",
    "For this I want to start by saving the objects generated so it can remain part of the generated narrative.\n",
    "\n",
    "[Kate Compton's Hero example 1](https://github.com/galaxykate/tracery \"Galaxy Kate Tracery Examples\" ) and [Her  Crystal Palace Tracery Tutorial](http://www.crystalcodepalace.com/traceryTut.html \"Galaxy Kates Tutorials\")\n",
    "\n",
    ">Often you want to save information. Tracery allows you to call actions, which are bracketed statements that appear before symbols in a tag #[someAction]someSymbol#. In their basic form, they create some new rules and push them onto a symbol, creating that symbol if it didn't exist, or hiding its previous value if it did.\n",
    "\n",
    "~~~\n",
    "{\n",
    "\t\"name\": [\"Arjun\",\"Yuuma\",\"Darcy\",\"Mia\",\"Chiaki\",\"Izzi\",\"Azra\",\"Lina\"]\n",
    ",\t\"animal\": [\"unicorn\",\"raven\",\"sparrow\",\"scorpion\",\"coyote\",\"eagle\",\"owl\",\"lizard\",\"zebra\",\"duck\",\"kitten\"]\n",
    ",\t\"mood\": [\"vexed\",\"indignant\",\"impassioned\",\"wistful\",\"astute\",\"courteous\"]\n",
    ",\t\"story\": [\"#hero# traveled with her pet #heroPet#.  #hero# was never #mood#, for the #heroPet# was always too #mood#.\"]\n",
    ",\t\"origin\": [\"#[hero:#name#][heroPet:#animal#]story#\"]\n",
    "\n",
    "}\n",
    "~~~\n"
   ]
  },
  {
   "cell_type": "code",
   "execution_count": 177,
   "metadata": {},
   "outputs": [
    {
     "name": "stdout",
     "output_type": "stream",
     "text": [
      "One evening in Ariandel, a apathetic old codger met a prince who asked: Do you believe that a critical foe can love an old codger?\n",
      "The prince looked at the old codger with a worthy mount and touched the old codger's tounge while saying:\n",
      "Only when an old codger has his or her left leg thankfully touched by a pilgrim, will a critical foe truly believe in love.\n",
      "One evening in City of the Dead, a disobedient enemy met an oddball who asked: Do you believe that a miscreant can love an enemy?\n",
      "The oddball looked at the enemy with a crazy left leg and touched the enemy's right leg while saying:\n",
      "Only when a charmer has his or her core sympathetically kissed by a good fellow, will a miscreant truly believe in love.\n"
     ]
    }
   ],
   "source": [
    "rules = {\n",
    "    \"origin\":[\"#[lover:#creature#][wise:#creature#][muse:#creature#]story#\"],\n",
    "    \n",
    "    \"story\": [\"One evening in #location#, a #mood# #lover# met #wise.a# who asked: Do you believe that #muse.a# can love #lover.a#?\\nThe #wise# looked at the #lover# with #mood.a# #bodyPart# and touched the #lover#'s #bodyPart# while saying:\\nOnly when #creature.a# has his or her #bodyPart# #adverb# #verb# by #creature.a#, will #muse.a# truly believe in love.\"],\n",
    "   \n",
    "    \"noun\": [ \"#creature#\", \"#bodyPart#\", \"#concept#\", \"#object#\"],\n",
    "    \n",
    "\"verb\": verbs,\n",
    "\"location\" : locations,\n",
    "\"object\": objects,\n",
    "\"creature\": creatures,\n",
    "\"bodyPart\": bodyParts,\n",
    "\"action\": actions,\n",
    "\"concept\": concepts,\n",
    "\"conjunction\": conjunctions,\n",
    "\"adverb\": adverbs,\n",
    "\"mood\" : moods\n",
    "\n",
    "}\n",
    "    \n",
    "grammar = tracery.Grammar(rules)\n",
    "grammar.add_modifiers(base_english)\n",
    "for i in range(2): \n",
    "    print(grammar.flatten(\"#origin#\"))\n",
    "\n"
   ]
  },
  {
   "cell_type": "markdown",
   "metadata": {},
   "source": [
    "## Prose or Poem? What about \"Prose Poem\"? \n",
    "\n",
    "I already have a prose generator, but what about creating a poem out of it? While researching about what really makes a poem now a days I've found this article about [*Prose Poems*](https://www.poets.org/poetsorg/text/prose-poem-poetic-form \"Prose Poems\").\n",
    "\n",
    "Also: want to find a way of rhyming content from different dictionaries/strings and using them inside the Tracery context.\n"
   ]
  },
  {
   "cell_type": "code",
   "execution_count": 175,
   "metadata": {},
   "outputs": [
    {
     "data": {
      "text/plain": [
       "25"
      ]
     },
     "execution_count": 175,
     "metadata": {},
     "output_type": "execute_result"
    }
   ],
   "source": [
    "len(\"suppose there is a pigeon\")\n"
   ]
  },
  {
   "cell_type": "markdown",
   "metadata": {},
   "source": [
    "## Importing code from my Word Vector Notebook ##\n",
    "\n",
    "Managed to make spaCy and word vectors work in conjunction with the Tracery code. I'll import the code from the Word Vectors Notebook to this one for organizational purposes."
   ]
  },
  {
   "cell_type": "code",
   "execution_count": 178,
   "metadata": {
    "collapsed": true
   },
   "outputs": [],
   "source": [
    "import math"
   ]
  },
  {
   "cell_type": "markdown",
   "metadata": {},
   "source": [
    "Create the functions that allow for Vector arithmetic to find distances between points in several dimensions (trippy!)\n",
    "\n",
    "Tried on paper...using a ruler. Math still works. Here's what's happening: √(x2-x1)²+(y2-y1)²\n",
    "\n",
    "No idea what's the \"zip\" for though...\n",
    "\n",
    "**Distance between points**"
   ]
  },
  {
   "cell_type": "code",
   "execution_count": 179,
   "metadata": {
    "collapsed": true
   },
   "outputs": [],
   "source": [
    "def distance(coord1, coord2):\n",
    "    # VERY SLOW - use for learning purposed only!\n",
    "    return math.sqrt(sum([(i-j)**2 for i, j in zip(coord1, coord2)]))"
   ]
  },
  {
   "cell_type": "markdown",
   "metadata": {},
   "source": [
    "**Subtract Vectors**"
   ]
  },
  {
   "cell_type": "code",
   "execution_count": 180,
   "metadata": {
    "collapsed": true
   },
   "outputs": [],
   "source": [
    "def subtractv (coord1, coord2):\n",
    "    return [c1 - c2 for c1, c2 in zip (coord1, coord2)]"
   ]
  },
  {
   "cell_type": "markdown",
   "metadata": {},
   "source": [
    "**Add Vectors**"
   ]
  },
  {
   "cell_type": "code",
   "execution_count": 182,
   "metadata": {},
   "outputs": [
    {
     "data": {
      "text/plain": [
       "[15, 3]"
      ]
     },
     "execution_count": 182,
     "metadata": {},
     "output_type": "execute_result"
    }
   ],
   "source": [
    "def addv(coord1, coord2):\n",
    "    return[c1 + c2 for c1, c2 in zip(coord1, coord2)]\n",
    "addv([10,1], [5,2])"
   ]
  },
  {
   "cell_type": "markdown",
   "metadata": {},
   "source": [
    "**Average between a list of vectors**"
   ]
  },
  {
   "cell_type": "code",
   "execution_count": 184,
   "metadata": {},
   "outputs": [
    {
     "data": {
      "text/plain": [
       "[2.0, 2.0]"
      ]
     },
     "execution_count": 184,
     "metadata": {},
     "output_type": "execute_result"
    }
   ],
   "source": [
    "def meanv(coords):\n",
    "    sumv = [0] * len(coords[0])\n",
    "    for item in coords:\n",
    "        for i in range(len(item)):\n",
    "            sumv[i] += item[i]\n",
    "    mean = [0] * len(sumv)\n",
    "    for i in range(len(sumv)):\n",
    "        mean[i] = float(sumv[i]) / len(coords)\n",
    "    return mean\n",
    "meanv([[0, 1], [2, 2], [4, 3]])"
   ]
  },
  {
   "cell_type": "code",
   "execution_count": 185,
   "metadata": {
    "collapsed": true
   },
   "outputs": [],
   "source": [
    "nlp = spacy.load('en_core_web_md')"
   ]
  },
  {
   "cell_type": "markdown",
   "metadata": {},
   "source": [
    "### Text feeding Spacy ###\n",
    "\n",
    "Grabbed frankenstein (84-0.txt) from the gutenberg page, renamed it and ran using the \", encoding=\"utf8\" command - Withouth the charset I had errors."
   ]
  },
  {
   "cell_type": "code",
   "execution_count": 186,
   "metadata": {
    "collapsed": true
   },
   "outputs": [],
   "source": [
    "doc = nlp(open(\"frankenstein.txt\", encoding=\"utf8\").read())"
   ]
  },
  {
   "cell_type": "code",
   "execution_count": 187,
   "metadata": {
    "collapsed": true
   },
   "outputs": [],
   "source": [
    "# add all the words in the text file\n",
    "tokens = list(set([w.text for w in doc if w.is_alpha]))"
   ]
  },
  {
   "cell_type": "code",
   "execution_count": 188,
   "metadata": {},
   "outputs": [
    {
     "data": {
      "text/plain": [
       "array([ -2.27430001e-01,  -5.14639989e-02,  -4.34210002e-02,\n",
       "        -1.05230004e-01,  -3.33889991e-01,  -4.96109992e-01,\n",
       "        -6.43419981e-01,  -4.69940007e-01,   3.96930009e-01,\n",
       "         8.49020004e-01,  -4.08450007e-01,  -1.83119997e-01,\n",
       "        -6.25639975e-01,  -1.01599999e-01,  -3.69139999e-01,\n",
       "         6.86339974e-01,   2.66070008e-01,   3.29849988e-01,\n",
       "        -9.85699967e-02,  -1.32809997e-01,  -4.75050002e-01,\n",
       "        -1.92489997e-01,  -3.19169998e-01,  -1.85360000e-01,\n",
       "         1.11180000e-01,   7.37719983e-02,  -3.04069996e-01,\n",
       "        -2.75519997e-01,   6.11079991e-01,  -3.63440007e-01,\n",
       "        -4.58490014e-01,  -1.28720000e-01,   1.51749998e-01,\n",
       "         3.32480013e-01,   3.08999985e-01,  -2.84880012e-01,\n",
       "         2.55439997e-01,  -9.43319976e-01,  -5.57460010e-01,\n",
       "         5.87639995e-02,   1.11740001e-01,   2.00320005e-01,\n",
       "        -4.10899997e-01,  -5.44439971e-01,  -4.38309982e-02,\n",
       "         1.62650004e-01,  -6.80280030e-01,   2.82660007e-01,\n",
       "         1.81769997e-01,  -5.61839998e-01,   7.09109977e-02,\n",
       "        -3.49959999e-01,  -3.16390008e-01,   1.76660001e-01,\n",
       "        -9.45680030e-03,   4.43890005e-01,   7.66839981e-02,\n",
       "        -2.17969999e-01,   1.37279998e-03,   2.34740004e-01,\n",
       "        -1.85640007e-01,  -4.22769994e-01,   2.55849987e-01,\n",
       "        -6.25530005e-01,  -1.43350005e-01,  -1.88350007e-01,\n",
       "         3.52400005e-01,   2.07640007e-01,   8.86439979e-02,\n",
       "        -2.08729997e-01,  -3.90810013e-01,  -1.50790006e-01,\n",
       "        -3.44689995e-01,  -3.21280003e-01,  -1.20940000e-01,\n",
       "        -6.64439984e-03,  -1.67420000e-01,  -3.54119986e-01,\n",
       "         3.54570001e-01,  -6.87290013e-01,   4.27179992e-01,\n",
       "         3.27389985e-01,  -5.21889985e-01,   1.90160006e-01,\n",
       "        -2.02030003e-01,  -2.51030009e-02,   1.41700006e+00,\n",
       "         5.48640013e-01,   6.32319987e-01,   9.10779983e-02,\n",
       "         1.66140005e-01,   6.42250001e-01,   9.42849964e-02,\n",
       "        -5.88769972e-01,  -5.80169976e-01,   2.41999999e-02,\n",
       "        -5.97180016e-02,  -2.03559995e-01,   3.67870003e-01,\n",
       "        -2.15990003e-04,   1.26420006e-01,   2.18630001e-01,\n",
       "         1.47829995e-01,   1.14560001e-01,   5.17250001e-01,\n",
       "        -5.23790002e-01,   1.99200004e-01,  -3.41569990e-01,\n",
       "        -4.56790000e-01,  -3.62489998e-01,  -1.58940002e-01,\n",
       "         4.13260013e-01,   3.30379993e-01,  -6.07919991e-01,\n",
       "         3.38370018e-02,  -1.31850004e-01,  -2.39429995e-01,\n",
       "         2.09580004e-01,   5.46469986e-01,  -1.61660001e-01,\n",
       "        -8.49860013e-02,  -3.70660005e-03,   4.18130010e-01,\n",
       "        -6.28130019e-01,  -1.55959994e-01,   2.71739990e-01,\n",
       "         2.67490000e-01,  -3.14660013e-01,  -3.00049990e-01,\n",
       "        -1.17539999e-03,  -7.65639991e-02,  -4.15960014e-01,\n",
       "        -5.12009978e-01,   3.39949995e-01,   3.35150003e-01,\n",
       "         2.31810004e-01,  -2.31260002e-01,   6.48670018e-01,\n",
       "        -1.73270002e-01,   2.19060004e-01,  -2.48250008e+00,\n",
       "        -3.82530004e-01,  -2.75009990e-01,   3.82499993e-01,\n",
       "         3.99089992e-01,  -3.47660005e-01,  -3.47499996e-01,\n",
       "         1.14229999e-01,   3.84259999e-01,  -4.53969985e-02,\n",
       "         3.30790013e-01,   3.06109995e-01,  -1.63650006e-01,\n",
       "        -2.18400002e-01,  -4.96219993e-01,   3.20690006e-01,\n",
       "        -1.00560002e-01,   4.79649991e-01,  -6.16919994e-01,\n",
       "        -7.10389972e-01,   6.72939979e-03,  -1.37600005e-01,\n",
       "        -2.45340005e-01,  -6.32000029e-01,  -1.35810003e-01,\n",
       "         5.06570004e-02,  -2.64970005e-01,   4.73500006e-02,\n",
       "        -2.16700003e-01,   1.19750001e-01,  -1.59299999e-01,\n",
       "         6.50969967e-02,   6.28329992e-01,  -4.14849997e-01,\n",
       "        -4.90770012e-01,   5.33590019e-01,  -2.85120010e-01,\n",
       "        -6.87379986e-02,  -1.59209996e-01,   7.19609976e-01,\n",
       "        -9.95189995e-02,  -4.43820000e-01,   1.29370004e-01,\n",
       "        -3.00419986e-01,  -4.53449994e-01,  -1.21330000e-01,\n",
       "        -5.75889982e-02,   1.76150003e-03,  -1.40159994e-01,\n",
       "        -5.43479979e-01,  -2.73130000e-01,   7.91470036e-02,\n",
       "         9.23260003e-02,  -3.28810006e-01,   4.27040011e-01,\n",
       "         2.20249996e-01,  -2.81839997e-01,  -1.06679998e-01,\n",
       "         7.89950013e-01,   1.04330003e-01,  -7.11600006e-01,\n",
       "         5.08750021e-01,  -4.48989987e-01,  -1.58140004e-01,\n",
       "         8.90310034e-02,   1.97789997e-01,   1.78320006e-01,\n",
       "        -1.58370003e-01,   4.19200003e-01,   1.15249999e-01,\n",
       "        -5.61510026e-01,   1.59769994e-03,  -6.34710014e-01,\n",
       "         1.73690006e-01,  -1.66600004e-01,   1.12209998e-01,\n",
       "        -6.84550032e-02,   2.52849996e-01,   3.22070003e-01,\n",
       "        -9.73789990e-02,  -6.07049987e-02,   2.16139993e-03,\n",
       "         4.79620010e-01,  -6.21259987e-01,  -3.85080010e-01,\n",
       "        -3.39290015e-02,   1.64499998e-01,   8.48559976e-01,\n",
       "         1.67989999e-01,   7.00920001e-02,  -3.71760011e-01,\n",
       "         3.37989986e-01,  -4.43809986e-01,  -4.17670012e-01,\n",
       "         4.54030007e-01,  -1.24100000e-01,  -1.20789997e-01,\n",
       "        -1.72610000e-01,   6.01239979e-01,  -4.04540002e-01,\n",
       "        -7.56489992e-01,  -8.00929964e-02,  -4.01630014e-01,\n",
       "         1.41120002e-01,  -1.03500001e-01,  -3.30890007e-02,\n",
       "         1.14929996e-01,   5.87339997e-01,   3.38079989e-01,\n",
       "         2.37120003e-01,  -1.81189999e-01,  -9.04619992e-02,\n",
       "        -7.50899985e-02,   3.00949991e-01,   2.42880002e-01,\n",
       "        -1.19099997e-01,  -7.98820019e-01,   1.85900003e-01,\n",
       "         1.88690007e-01,  -3.06439996e-01,  -1.16990000e-01,\n",
       "        -1.99249998e-01,  -2.58680005e-02,  -1.90410003e-01,\n",
       "        -2.10179999e-01,   3.73439997e-01,  -4.62689996e-01,\n",
       "        -2.22800002e-01,  -3.75299990e-01,  -2.10849997e-02,\n",
       "        -4.12360013e-01,   7.10030019e-01,  -1.32080004e-01,\n",
       "         1.57490000e-01,  -2.31069997e-01,   1.02450000e-02,\n",
       "         1.26000002e-01,   2.53969997e-01,   4.68010008e-02,\n",
       "         8.99000000e-03,   2.92459995e-01,   1.71409994e-01,\n",
       "         1.79199994e-01,  -4.31890011e-01,   5.12139976e-01,\n",
       "         4.92559999e-01,   3.19449991e-01,  -3.59429985e-01,\n",
       "         1.00879997e-01,  -3.75149995e-01,   2.12810002e-02,\n",
       "         2.02470005e-01,  -3.42379995e-02,   3.35110009e-01,\n",
       "        -4.28079993e-01,   7.49679983e-01,  -1.21359996e-01,\n",
       "         4.35389996e-01,   1.50979996e-01,  -1.59520000e-01], dtype=float32)"
      ]
     },
     "execution_count": 188,
     "metadata": {},
     "output_type": "execute_result"
    }
   ],
   "source": [
    "nlp.vocab['kitten'].vector"
   ]
  },
  {
   "cell_type": "markdown",
   "metadata": {},
   "source": [
    "**Define VEC:**"
   ]
  },
  {
   "cell_type": "code",
   "execution_count": 197,
   "metadata": {
    "collapsed": true
   },
   "outputs": [],
   "source": [
    "def vec(s): \n",
    "    return nlp.vocab[s].vector"
   ]
  },
  {
   "cell_type": "markdown",
   "metadata": {},
   "source": [
    "## Cosine similarity and closest neighbors ##\n",
    "consine() returns cosine similarity of two vector. This is another way to see similarities \"more suited to hight-dimensional spaces\", like all the words in Frankenstein.\n",
    "\n",
    "**Have to install numpy**"
   ]
  },
  {
   "cell_type": "code",
   "execution_count": 193,
   "metadata": {
    "collapsed": true
   },
   "outputs": [],
   "source": [
    "import numpy as np"
   ]
  },
  {
   "cell_type": "code",
   "execution_count": 194,
   "metadata": {
    "collapsed": true
   },
   "outputs": [],
   "source": [
    "from numpy import dot\n",
    "\n",
    "from numpy.linalg import norm"
   ]
  },
  {
   "cell_type": "code",
   "execution_count": 195,
   "metadata": {
    "collapsed": true
   },
   "outputs": [],
   "source": [
    "def cosine(v1, v2):\n",
    "    if norm(v1) > 0 and norm(v2) > 0:\n",
    "        return dot(v1,v2) / (norm(v1) * norm(v2))\n",
    "    else:\n",
    "        return 0.0"
   ]
  },
  {
   "cell_type": "code",
   "execution_count": 200,
   "metadata": {},
   "outputs": [
    {
     "data": {
      "text/plain": [
       "True"
      ]
     },
     "execution_count": 200,
     "metadata": {},
     "output_type": "execute_result"
    }
   ],
   "source": [
    "cosine(vec('human'), vec('person')) > cosine(vec('dog'), vec ('peace'))"
   ]
  },
  {
   "cell_type": "markdown",
   "metadata": {},
   "source": [
    "**SPACY Closest:** "
   ]
  },
  {
   "cell_type": "code",
   "execution_count": 201,
   "metadata": {
    "collapsed": true
   },
   "outputs": [],
   "source": [
    "def spacy_closest(token_list, vec_to_check, n=10):\n",
    "    return sorted(token_list,\n",
    "                 key=lambda x: cosine(vec_to_check, vec(x)),\n",
    "                 reverse=True) [:n]"
   ]
  },
  {
   "cell_type": "code",
   "execution_count": 202,
   "metadata": {},
   "outputs": [
    {
     "data": {
      "text/plain": [
       "['truth',\n",
       " 'faith',\n",
       " 'believing',\n",
       " 'belief',\n",
       " 'true',\n",
       " 'Believe',\n",
       " 'believe',\n",
       " 'reality',\n",
       " 'Nothing',\n",
       " 'nothing']"
      ]
     },
     "execution_count": 202,
     "metadata": {},
     "output_type": "execute_result"
    }
   ],
   "source": [
    "spacy_closest(tokens, vec(\"truth\"))"
   ]
  },
  {
   "cell_type": "markdown",
   "metadata": {},
   "source": [
    "**Finding the halfway point between two words**"
   ]
  },
  {
   "cell_type": "code",
   "execution_count": 203,
   "metadata": {},
   "outputs": [
    {
     "data": {
      "text/plain": [
       "['war',\n",
       " 'truth',\n",
       " 'Nothing',\n",
       " 'nothing',\n",
       " 'Fear',\n",
       " 'fear',\n",
       " 'conflict',\n",
       " 'strife',\n",
       " 'wars',\n",
       " 'humanity']"
      ]
     },
     "execution_count": 203,
     "metadata": {},
     "output_type": "execute_result"
    }
   ],
   "source": [
    "spacy_closest(tokens, meanv([vec(\"truth\"), vec(\"war\")]))"
   ]
  },
  {
   "cell_type": "markdown",
   "metadata": {},
   "source": [
    "**Using a third word**\n",
    "created a variable \"men_to_god that subtracts the vectors for \"men\" and \"god\". Then it see how close they are from another word \"industry\""
   ]
  },
  {
   "cell_type": "code",
   "execution_count": 205,
   "metadata": {},
   "outputs": [
    {
     "data": {
      "text/plain": [
       "['Men',\n",
       " 'men',\n",
       " 'women',\n",
       " 'business',\n",
       " 'among',\n",
       " 'Among',\n",
       " 'market',\n",
       " 'professional',\n",
       " 'opportunities',\n",
       " 'employees']"
      ]
     },
     "execution_count": 205,
     "metadata": {},
     "output_type": "execute_result"
    }
   ],
   "source": [
    "men_to_god = subtractv(vec(\"men\"), vec(\"god\"))\n",
    "spacy_closest(tokens, addv(men_to_god, vec(\"industry\")))"
   ]
  },
  {
   "cell_type": "markdown",
   "metadata": {},
   "source": [
    "**Calling a specific word from the array generated by spacy**"
   ]
  },
  {
   "cell_type": "code",
   "execution_count": 206,
   "metadata": {
    "collapsed": true
   },
   "outputs": [],
   "source": [
    "closest_truWar = spacy_closest(tokens, meanv([vec(\"truth\"), vec(\"war\")]))"
   ]
  },
  {
   "cell_type": "code",
   "execution_count": 207,
   "metadata": {},
   "outputs": [
    {
     "data": {
      "text/plain": [
       "list"
      ]
     },
     "execution_count": 207,
     "metadata": {},
     "output_type": "execute_result"
    }
   ],
   "source": [
    "type (closest_truWar)"
   ]
  },
  {
   "cell_type": "code",
   "execution_count": 208,
   "metadata": {},
   "outputs": [
    {
     "data": {
      "text/plain": [
       "['war',\n",
       " 'truth',\n",
       " 'Nothing',\n",
       " 'nothing',\n",
       " 'Fear',\n",
       " 'fear',\n",
       " 'conflict',\n",
       " 'strife',\n",
       " 'wars',\n",
       " 'humanity']"
      ]
     },
     "execution_count": 208,
     "metadata": {},
     "output_type": "execute_result"
    }
   ],
   "source": [
    "closest_truWar"
   ]
  },
  {
   "cell_type": "code",
   "execution_count": 209,
   "metadata": {},
   "outputs": [
    {
     "data": {
      "text/plain": [
       "'conflict'"
      ]
     },
     "execution_count": 209,
     "metadata": {},
     "output_type": "execute_result"
    }
   ],
   "source": [
    "closest_truWar[6]"
   ]
  },
  {
   "cell_type": "markdown",
   "metadata": {},
   "source": [
    "## Mixing with Tracery Dark Souls Code ##"
   ]
  },
  {
   "cell_type": "markdown",
   "metadata": {},
   "source": [
    "changed from \"darksould.json\" to an edited version \"darksouls_edit.json\".  The rest of the libraries were already added to this notebook several cells above this one."
   ]
  },
  {
   "cell_type": "code",
   "execution_count": 210,
   "metadata": {
    "collapsed": true
   },
   "outputs": [],
   "source": [
    "darksouls_data = json.loads(open(\"darksouls_edit.json\").read())"
   ]
  },
  {
   "cell_type": "code",
   "execution_count": 222,
   "metadata": {},
   "outputs": [],
   "source": [
    "techniques = words['techniques']"
   ]
  },
  {
   "cell_type": "code",
   "execution_count": 224,
   "metadata": {
    "collapsed": true
   },
   "outputs": [],
   "source": [
    "geographies = words['geography']"
   ]
  },
  {
   "cell_type": "code",
   "execution_count": 225,
   "metadata": {},
   "outputs": [
    {
     "name": "stdout",
     "output_type": "stream",
     "text": [
      "torment.......One evening in Catacombs of Carthus, a embarrassed bug met a wretch who asked: Do you believe that a covenator can love a bug?\n",
      "The wretch looked at the bug with a silly leg and touched the bug's rear while saying:\n",
      "Only when a bandit has his or her right arm even caressed by a grub, will a covenator truly believe in love.\n",
      " The bug looked at a mirror and murmured an irretrievable and a precipice and a Leave...\n",
      " Not a single covenator, in his/her mind only images of trapped a despicable and an odious and a detestable.\n",
      " bug roamed until arrinving at a sniper spot in Lothric Castle . His/her mastery of jumping off was of no use to defeat this monster that grows inside.\n",
      "bug\n"
     ]
    },
    {
     "data": {
      "text/plain": [
       "['anyone',\n",
       " 'torment',\n",
       " 'irretrievable',\n",
       " 'perceptions',\n",
       " 'Leave',\n",
       " 'moonshine',\n",
       " 'precipice',\n",
       " 'nerves',\n",
       " 'ceasing',\n",
       " 'include']"
      ]
     },
     "execution_count": 225,
     "metadata": {},
     "output_type": "execute_result"
    }
   ],
   "source": [
    "rules = {\n",
    "    \"origin\":[\"#[lover:#creature#][wise:#creature#][muse:#creature#]story#\"],\n",
    "    \n",
    "\"story\": [\"#tracery_halfsies#.......One evening in #location#, a #mood# #lover# met #wise.a# who asked: Do you believe that #muse.a# can love #lover.a#?\\nThe #wise# looked at the #lover# with #mood.a# #bodyPart# and touched the #lover#'s #bodyPart# while saying:\\nOnly when #creature.a# has his or her #bodyPart# #adverb# #verb# by #creature.a#, will #muse.a# truly believe in love.\\n The #lover# looked at a mirror and murmured #tracery_lover.a# and #tracery_lover.a# and #tracery_lover.a#...\\n Not a single #muse#, in his/her mind only images of #mood# #tracery_muse.a# and #tracery_muse.a# and #tracery_muse.a#.\\n #lover# roamed until arrinving at #geography.a# in #location#. His/her mastery of #technique# was of no use to defeat this #creature# that grows inside.\"],\n",
    "  \n",
    "    \"noun\": [ \"#creature#\", \"#bodyPart#\", \"#concept#\", \"#object#\"],\n",
    "    \n",
    "\"verb\": verbs,\n",
    "\"location\" : locations,\n",
    "\"object\": objects,\n",
    "\"creature\": creatures,\n",
    "\"bodyPart\": bodyParts,\n",
    "\"action\": actions,\n",
    "\"concept\": concepts,\n",
    "\"conjunction\": conjunctions,\n",
    "\"adverb\": adverbs,\n",
    "\"mood\" : moods,\n",
    "\"technique\" : techniques,\n",
    "    \"geography\" : geographies,\n",
    "\n",
    "\"tracery_lover\": spacy_closest(tokens, vec(grammar.flatten(\"#lover#\"))),\n",
    "\"tracery_muse\": spacy_closest(tokens, vec(grammar.flatten(\"#muse#\"))),\n",
    "\"tracery_halfsies\": spacy_closest(tokens, meanv([vec(\"#lover#\"), vec(\"#muse#\")]))\n",
    "}\n",
    "    \n",
    "grammar = tracery.Grammar(rules)\n",
    "grammar.add_modifiers(base_english)\n",
    "for i in range(1): \n",
    "    print(grammar.flatten(\"#origin#\"))\n",
    "    \n",
    "print(grammar.flatten(\"#lover#\"))\n",
    "spacy_closest(tokens, vec(grammar.flatten(\"#lover#\")))\n",
    "\n",
    "spacy_closest(tokens, vec(grammar.flatten(\"#muse#\")))\n"
   ]
  },
  {
   "cell_type": "markdown",
   "metadata": {},
   "source": [
    "Check if it is really reading the tracery code: "
   ]
  },
  {
   "cell_type": "code",
   "execution_count": 212,
   "metadata": {},
   "outputs": [
    {
     "data": {
      "text/plain": [
       "['lover',\n",
       " 'lovers',\n",
       " 'playmate',\n",
       " 'Friend',\n",
       " 'friend',\n",
       " 'husband',\n",
       " 'kiss',\n",
       " 'lady',\n",
       " 'girl',\n",
       " 'caresses']"
      ]
     },
     "execution_count": 212,
     "metadata": {},
     "output_type": "execute_result"
    }
   ],
   "source": [
    "spacy_closest(tokens, vec(grammar.flatten(\"lover\")))"
   ]
  },
  {
   "cell_type": "markdown",
   "metadata": {},
   "source": [
    "## Sentence Similarities ##"
   ]
  },
  {
   "cell_type": "code",
   "execution_count": 226,
   "metadata": {
    "collapsed": true
   },
   "outputs": [],
   "source": [
    "def sentvec(s):\n",
    "    sent=nlp(s)\n",
    "    return meanv([w.vector for w in sent])"
   ]
  },
  {
   "cell_type": "code",
   "execution_count": 227,
   "metadata": {
    "collapsed": true
   },
   "outputs": [],
   "source": [
    "sentences = list(doc.sents)"
   ]
  },
  {
   "cell_type": "code",
   "execution_count": 228,
   "metadata": {
    "collapsed": true
   },
   "outputs": [],
   "source": [
    "def spacy_closest_sent(space, input_str, n=10):\n",
    "    input_vec = sentvec(input_str)\n",
    "    return sorted(space, \n",
    "                 key=lambda x: cosine(np.mean([w.vector for w in x], axis=0), input_vec), reverse=True)[:n]"
   ]
  },
  {
   "cell_type": "markdown",
   "metadata": {},
   "source": [
    ">>Here are the sentences in Frankenstein closest in meaning to \"My favorite food is strawberry ice cream.\" (Extra linebreaks are present because we didn't strip them out when we originally read in the source text.)"
   ]
  },
  {
   "cell_type": "code",
   "execution_count": 229,
   "metadata": {},
   "outputs": [
    {
     "name": "stdout",
     "output_type": "stream",
     "text": [
      "I dare not ask you to do what I think right, for I\n",
      "may still be misled by passion.\n",
      "\n",
      "\n",
      "---\n",
      "I know,\n",
      "---\n",
      "Dear sir, you are very\n",
      "kind to visit me; you, I hope, do not believe that I am guilty?\n",
      "---\n",
      "but if it be all true, if indeed I did not dream, I am sorry that I am\n",
      "still alive to feel this misery and horror.\n",
      "---\n",
      "Do you not love another?\n",
      "\n",
      "\n",
      "---\n",
      "I do refuse it,\n",
      "---\n",
      "do you also believe that I am so very, very wicked?  \n",
      "---\n",
      "I do not\n",
      "mean that she made any professions I never heard\n",
      "---\n",
      "Yet do not suppose, because I complain a little or because I can\n",
      "conceive a consolation for my toils which I may never know, that I am\n",
      "wavering in my resolutions.  \n",
      "---\n",
      "I will\n",
      "revenge my injuries; if I cannot inspire love, I will cause fear, and\n",
      "chiefly towards you my arch-enemy, because my creator, do I swear\n",
      "inextinguishable hatred.\n",
      "---\n"
     ]
    }
   ],
   "source": [
    "for sent in spacy_closest_sent(sentences, \"I don't love you, because I love\"):\n",
    "    print(sent.text)\n",
    "    print(\"---\")"
   ]
  },
  {
   "cell_type": "markdown",
   "metadata": {},
   "source": [
    "## Comparing Tracery generated sentences with Frankenstein ##\n",
    "Also: Getting the result of the Tracery code and returning it as an array for future use.\n",
    "\n",
    "Also2.....adding more paths to the darksouls_edit json categories"
   ]
  },
  {
   "cell_type": "code",
   "execution_count": 233,
   "metadata": {
    "collapsed": true
   },
   "outputs": [],
   "source": [
    "moods_list = json.loads(open(\"moods_data.json\").read())"
   ]
  },
  {
   "cell_type": "code",
   "execution_count": 234,
   "metadata": {
    "collapsed": true
   },
   "outputs": [],
   "source": [
    "moods = moods_list['moods']"
   ]
  },
  {
   "cell_type": "code",
   "execution_count": 235,
   "metadata": {
    "collapsed": true
   },
   "outputs": [],
   "source": [
    "moods = moods_list['moods']"
   ]
  },
  {
   "cell_type": "code",
   "execution_count": 236,
   "metadata": {
    "collapsed": true
   },
   "outputs": [],
   "source": [
    "locations = locations_list['locations']"
   ]
  },
  {
   "cell_type": "code",
   "execution_count": null,
   "metadata": {
    "collapsed": true
   },
   "outputs": [],
   "source": []
  },
  {
   "cell_type": "code",
   "execution_count": 280,
   "metadata": {},
   "outputs": [],
   "source": [
    "rules = {\n",
    "    \"origin\":[\"#[lover:#creature#][wise:#creature#][muse:#creature#]part01#\"\"#part02#\"\"#part03#\"\"#part04#\"],\n",
    "\n",
    "\"part01\": [\"#tracery_halfsies.capitalize#.......One evening in #location#, a #mood# #lover# met #wise.a# who asked: Do you believe that #muse.a# can love #lover.a#?\"],\n",
    "\n",
    "\"part02\": [\"The #wise# looked at the #lover# with #mood.a# #bodyPart# and touched the #lover#'s #bodyPart# while saying:\\n Only when #creature.a# has his or her #bodyPart# #adverb# #verb# by #creature.a#, will #muse.a# truly believe in love.\"],\n",
    "\n",
    "\"part03\": [\"The #lover# looked the reflection in a mirror and murmured and saw #tracery_lover.a# and #tracery_lover.a# and #tracery_lover.a#...\\n Not a single #muse#, in his/her mind only images of #mood# #tracery_muse# and #tracery_muse# and #tracery_muse#.\\n #lover# roamed until arriving at #geography.a# in #location#. His/her mastery of #technique# was of no use to defeat this #creature# that grows inside.\"],\n",
    "\n",
    "\n",
    "\"part04\": [\"#tracery_halfsies# is what makes #lover# #action# through #location# and #tracery_lover#\"],\n",
    "\n",
    "\"part05\": [\"As #lover# dreams of #muse# - a sound like #object#, a sound like #tracery_muse# echoes. Then nothing else as #lover# is killed once more by a #adverb# #technique# from the relentless undying player.\"],\n",
    "\n",
    "\"part06\": [\"You Died....#lover#\"],\n",
    "\n",
    "\"verb\": verbs,\n",
    "\"location\" : locations,\n",
    "\"object\": objects,\n",
    "\"creature\": creatures,\n",
    "\"bodyPart\": bodyParts,\n",
    "\"action\": actions,\n",
    "\"concept\": concepts,\n",
    "\"conjunction\": conjunctions,\n",
    "\"adverb\": adverbs,\n",
    "\"mood\" : moods,\n",
    "\"location\": locations,\n",
    "\"technique\": techniques,\n",
    "    \"geography\": geographies,\n",
    "\n",
    "\"tracery_lover\": spacy_closest(tokens, vec(grammar.flatten(\"#lover#\"))),\n",
    "\"tracery_muse\": spacy_closest(tokens, vec(grammar.flatten(\"#muse#\"))),\n",
    "\"tracery_halfsies\": spacy_closest(tokens, meanv([vec(\"#lover#\"), vec(\"#muse#\")]))\n",
    "}\n",
    "    \n",
    "grammar = tracery.Grammar(rules)\n",
    "grammar.add_modifiers(base_english)\n",
    "\n",
    "grammar = tracery.Grammar(rules)\n",
    "grammar.add_modifiers(base_english)\n",
    "\n",
    "many_stories = []\n",
    "for i in range(3): \n",
    "    story = grammar.flatten(\"#origin#\")\n",
    "    many_stories.append(story)\n",
    "\n",
    "    \n",
    "\n",
    "\n",
    "\n"
   ]
  },
  {
   "cell_type": "code",
   "execution_count": 281,
   "metadata": {},
   "outputs": [
    {
     "data": {
      "text/plain": [
       "\"Precipice.......One evening in Grand Archives, a lazy sorcerer met a duo who asked: Do you believe that an oddball can love a sorcerer?The duo looked at the sorcerer with a mischievous tail and touched the sorcerer's right side while saying:\\n Only when a prince has his or her longfinger joyfully touched by a monstrosity, will an oddball truly believe in love.The sorcerer looked the reflection in a mirror and murmured and saw a resembled and a bones and a bones...\\n Not a single oddball, in his/her mind only images of liberated brute and monster and gnashes.\\n sorcerer roamed until arriving at a secret passage in Church of Yorshka. His/her mastery of pure luck was of no use to defeat this sellsword that grows inside.Leave is what makes sorcerer stabbing in the back through Cathedral of the Deep and coffin\""
      ]
     },
     "execution_count": 281,
     "metadata": {},
     "output_type": "execute_result"
    }
   ],
   "source": [
    "story"
   ]
  },
  {
   "cell_type": "code",
   "execution_count": 257,
   "metadata": {},
   "outputs": [
    {
     "data": {
      "text/plain": [
       "[\"Moonshine.......One evening in High Wall of Lothric, a evil old dear met an assassin who asked: Do you believe that a cleric can love an old dear?The assassin looked at the old dear with a trapped longfinger and touched the old dear's left arm while saying:\\n Only when an artisan has his or her stomach gleefully rubbed by a poor soul, will a cleric truly believe in love.The old dear looked the reflection in a mirror and murmured and saw a monster and a haunted and a shadows...\\n Not a single cleric, in his/her mind only images of convicted include and irretrievable and ceasing.\\n old dear roamed until arriving at a secret passage in Road of Sacrifices . His/her mastery of play dead was of no use to defeat this bug that grows inside.precipice is what makes old dear shield breaking through Archdragon Peak and invisible\",\n",
       " \"Precipice.......One evening in  Untended Graves, a inhibited friend met a sellsword who asked: Do you believe that a Lord of Cinder can love a friend?The sellsword looked at the friend with an unwise wheel and touched the friend's thumb while saying:\\n Only when a Hollow has his or her right side queasily touched by a mob enemy, will a Lord of Cinder truly believe in love.The friend looked the reflection in a mirror and murmured and saw a beast and an imaginary and a Haunted...\\n Not a single Lord of Cinder, in his/her mind only images of loving include and ceasing and moonshine.\\n friend roamed until arriving at a danger zone in Road of Sacrifices . His/her mastery of rescue was of no use to defeat this pilgrim that grows inside.precipice is what makes friend backstepping through Lothric Castle  and Haunted\",\n",
       " \"Leave.......One evening in Sunlight Altar , a impatient herald met an oddball who asked: Do you believe that a master can love a herald?The oddball looked at the herald with a special wheel and touched the herald's mount while saying:\\n Only when a cleric has his or her right leg reproachfully hugged by a dwarf, will a master truly believe in love.The herald looked the reflection in a mirror and murmured and saw a monster and a shadow and an imaginary...\\n Not a single master, in his/her mind only images of blah nerves and perceptions and include.\\n herald roamed until arriving at a sniper spot in Firelink Shrine. His/her mastery of circling around was of no use to defeat this Hollow that grows inside.moonshine is what makes herald parrying through Sunlight Altar  and ghosts\"]"
      ]
     },
     "execution_count": 257,
     "metadata": {},
     "output_type": "execute_result"
    }
   ],
   "source": [
    "many_stories"
   ]
  },
  {
   "cell_type": "markdown",
   "metadata": {},
   "source": [
    "## Using Pronouncing ##\n",
    "[Notes from Class](\"https://gist.github.com/aparrish/4621bd5300676cb0762557a3d6ef7057\")"
   ]
  },
  {
   "cell_type": "code",
   "execution_count": 258,
   "metadata": {},
   "outputs": [
    {
     "name": "stdout",
     "output_type": "stream",
     "text": [
      "Collecting pronouncing\n",
      "  Downloading https://files.pythonhosted.org/packages/10/c9/59894c9573fefcb37b4962122abfaa4dc27ec44e4550d66db110a3b18475/pronouncing-0.1.5.tar.gz (913kB)\n",
      "Building wheels for collected packages: pronouncing\n",
      "  Running setup.py bdist_wheel for pronouncing: started\n",
      "  Running setup.py bdist_wheel for pronouncing: finished with status 'done'\n",
      "  Stored in directory: C:\\Users\\GabrielBR\\AppData\\Local\\pip\\Cache\\wheels\\86\\24\\20\\ec3fbe19cfcd8282415e287fb6f8cb805332cdc30eae7427c6\n",
      "Successfully built pronouncing\n",
      "Installing collected packages: pronouncing\n",
      "Successfully installed pronouncing-0.1.5\n"
     ]
    },
    {
     "name": "stderr",
     "output_type": "stream",
     "text": [
      "You are using pip version 9.0.1, however version 10.0.1 is available.\n",
      "You should consider upgrading via the 'python -m pip install --upgrade pip' command.\n"
     ]
    }
   ],
   "source": [
    "!pip install pronouncing"
   ]
  },
  {
   "cell_type": "code",
   "execution_count": 259,
   "metadata": {
    "collapsed": true
   },
   "outputs": [],
   "source": [
    "import pronouncing"
   ]
  },
  {
   "cell_type": "code",
   "execution_count": 260,
   "metadata": {
    "collapsed": true
   },
   "outputs": [],
   "source": [
    "from collections import Counter"
   ]
  },
  {
   "cell_type": "code",
   "execution_count": 262,
   "metadata": {},
   "outputs": [
    {
     "data": {
      "text/plain": [
       "[(' ', 134),\n",
       " ('e', 68),\n",
       " ('a', 64),\n",
       " ('n', 47),\n",
       " ('i', 46),\n",
       " ('r', 45),\n",
       " ('l', 42),\n",
       " ('h', 40),\n",
       " ('t', 37),\n",
       " ('o', 37)]"
      ]
     },
     "execution_count": 262,
     "metadata": {},
     "output_type": "execute_result"
    }
   ],
   "source": [
    "Counter(story).most_common(10)"
   ]
  },
  {
   "cell_type": "code",
   "execution_count": 263,
   "metadata": {},
   "outputs": [
    {
     "data": {
      "text/plain": [
       "['mailings', 'railings', 'tailings']"
      ]
     },
     "execution_count": 263,
     "metadata": {},
     "output_type": "execute_result"
    }
   ],
   "source": [
    "pronouncing.rhymes(\"failings\")"
   ]
  },
  {
   "cell_type": "code",
   "execution_count": 269,
   "metadata": {},
   "outputs": [
    {
     "data": {
      "text/plain": [
       "'aside'"
      ]
     },
     "execution_count": 269,
     "metadata": {},
     "output_type": "execute_result"
    }
   ],
   "source": [
    "pronouncing.rhymes(\"died\")[4]"
   ]
  },
  {
   "cell_type": "code",
   "execution_count": 284,
   "metadata": {},
   "outputs": [
    {
     "ename": "IndexError",
     "evalue": "Cannot choose from an empty sequence",
     "output_type": "error",
     "traceback": [
      "\u001b[1;31m---------------------------------------------------------------------------\u001b[0m",
      "\u001b[1;31mIndexError\u001b[0m                                Traceback (most recent call last)",
      "\u001b[1;32m<ipython-input-284-fa4f334be47b>\u001b[0m in \u001b[0;36m<module>\u001b[1;34m()\u001b[0m\n\u001b[0;32m     46\u001b[0m \u001b[0mmany_stories\u001b[0m \u001b[1;33m=\u001b[0m \u001b[1;33m[\u001b[0m\u001b[1;33m]\u001b[0m\u001b[1;33m\u001b[0m\u001b[0m\n\u001b[0;32m     47\u001b[0m \u001b[1;32mfor\u001b[0m \u001b[0mi\u001b[0m \u001b[1;32min\u001b[0m \u001b[0mrange\u001b[0m\u001b[1;33m(\u001b[0m\u001b[1;36m3\u001b[0m\u001b[1;33m)\u001b[0m\u001b[1;33m:\u001b[0m\u001b[1;33m\u001b[0m\u001b[0m\n\u001b[1;32m---> 48\u001b[1;33m     \u001b[0mstory\u001b[0m \u001b[1;33m=\u001b[0m \u001b[0mgrammar\u001b[0m\u001b[1;33m.\u001b[0m\u001b[0mflatten\u001b[0m\u001b[1;33m(\u001b[0m\u001b[1;34m\"#origin#\"\u001b[0m\u001b[1;33m)\u001b[0m\u001b[1;33m\u001b[0m\u001b[0m\n\u001b[0m\u001b[0;32m     49\u001b[0m     \u001b[0mmany_stories\u001b[0m\u001b[1;33m.\u001b[0m\u001b[0mappend\u001b[0m\u001b[1;33m(\u001b[0m\u001b[0mstory\u001b[0m\u001b[1;33m)\u001b[0m\u001b[1;33m\u001b[0m\u001b[0m\n\u001b[0;32m     50\u001b[0m \u001b[1;33m\u001b[0m\u001b[0m\n",
      "\u001b[1;32mC:\\ProgramData\\Anaconda3\\lib\\site-packages\\tracery\\__init__.py\u001b[0m in \u001b[0;36mflatten\u001b[1;34m(self, rule, allow_escape_chars)\u001b[0m\n\u001b[0;32m    242\u001b[0m \u001b[1;33m\u001b[0m\u001b[0m\n\u001b[0;32m    243\u001b[0m     \u001b[1;32mdef\u001b[0m \u001b[0mflatten\u001b[0m\u001b[1;33m(\u001b[0m\u001b[0mself\u001b[0m\u001b[1;33m,\u001b[0m \u001b[0mrule\u001b[0m\u001b[1;33m,\u001b[0m \u001b[0mallow_escape_chars\u001b[0m\u001b[1;33m=\u001b[0m\u001b[1;32mFalse\u001b[0m\u001b[1;33m)\u001b[0m\u001b[1;33m:\u001b[0m\u001b[1;33m\u001b[0m\u001b[0m\n\u001b[1;32m--> 244\u001b[1;33m         \u001b[0mroot\u001b[0m \u001b[1;33m=\u001b[0m \u001b[0mself\u001b[0m\u001b[1;33m.\u001b[0m\u001b[0mexpand\u001b[0m\u001b[1;33m(\u001b[0m\u001b[0mrule\u001b[0m\u001b[1;33m,\u001b[0m \u001b[0mallow_escape_chars\u001b[0m\u001b[1;33m)\u001b[0m\u001b[1;33m\u001b[0m\u001b[0m\n\u001b[0m\u001b[0;32m    245\u001b[0m         \u001b[1;32mreturn\u001b[0m \u001b[0mroot\u001b[0m\u001b[1;33m.\u001b[0m\u001b[0mfinished_text\u001b[0m\u001b[1;33m\u001b[0m\u001b[0m\n\u001b[0;32m    246\u001b[0m \u001b[1;33m\u001b[0m\u001b[0m\n",
      "\u001b[1;32mC:\\ProgramData\\Anaconda3\\lib\\site-packages\\tracery\\__init__.py\u001b[0m in \u001b[0;36mexpand\u001b[1;34m(self, rule, allow_escape_chars)\u001b[0m\n\u001b[0;32m    235\u001b[0m     \u001b[1;32mdef\u001b[0m \u001b[0mexpand\u001b[0m\u001b[1;33m(\u001b[0m\u001b[0mself\u001b[0m\u001b[1;33m,\u001b[0m \u001b[0mrule\u001b[0m\u001b[1;33m,\u001b[0m \u001b[0mallow_escape_chars\u001b[0m\u001b[1;33m=\u001b[0m\u001b[1;32mFalse\u001b[0m\u001b[1;33m)\u001b[0m\u001b[1;33m:\u001b[0m\u001b[1;33m\u001b[0m\u001b[0m\n\u001b[0;32m    236\u001b[0m         \u001b[0mroot\u001b[0m \u001b[1;33m=\u001b[0m \u001b[0mself\u001b[0m\u001b[1;33m.\u001b[0m\u001b[0mcreate_root\u001b[0m\u001b[1;33m(\u001b[0m\u001b[0mrule\u001b[0m\u001b[1;33m)\u001b[0m\u001b[1;33m\u001b[0m\u001b[0m\n\u001b[1;32m--> 237\u001b[1;33m         \u001b[0mroot\u001b[0m\u001b[1;33m.\u001b[0m\u001b[0mexpand\u001b[0m\u001b[1;33m(\u001b[0m\u001b[1;33m)\u001b[0m\u001b[1;33m\u001b[0m\u001b[0m\n\u001b[0m\u001b[0;32m    238\u001b[0m         \u001b[1;32mif\u001b[0m \u001b[1;32mnot\u001b[0m \u001b[0mallow_escape_chars\u001b[0m\u001b[1;33m:\u001b[0m\u001b[1;33m\u001b[0m\u001b[0m\n\u001b[0;32m    239\u001b[0m             \u001b[0mroot\u001b[0m\u001b[1;33m.\u001b[0m\u001b[0mclear_escape_chars\u001b[0m\u001b[1;33m(\u001b[0m\u001b[1;33m)\u001b[0m\u001b[1;33m\u001b[0m\u001b[0m\n",
      "\u001b[1;32mC:\\ProgramData\\Anaconda3\\lib\\site-packages\\tracery\\__init__.py\u001b[0m in \u001b[0;36mexpand\u001b[1;34m(self, prevent_recursion)\u001b[0m\n\u001b[0;32m     61\u001b[0m             \u001b[1;31m#     more in the future)\u001b[0m\u001b[1;33m\u001b[0m\u001b[1;33m\u001b[0m\u001b[0m\n\u001b[0;32m     62\u001b[0m             \u001b[1;32mif\u001b[0m \u001b[0mself\u001b[0m\u001b[1;33m.\u001b[0m\u001b[0mtype\u001b[0m \u001b[1;33m==\u001b[0m \u001b[1;33m-\u001b[0m\u001b[1;36m1\u001b[0m\u001b[1;33m:\u001b[0m\u001b[1;33m\u001b[0m\u001b[0m\n\u001b[1;32m---> 63\u001b[1;33m                 \u001b[0mself\u001b[0m\u001b[1;33m.\u001b[0m\u001b[0mexpand_children\u001b[0m\u001b[1;33m(\u001b[0m\u001b[0mself\u001b[0m\u001b[1;33m.\u001b[0m\u001b[0mraw\u001b[0m\u001b[1;33m,\u001b[0m \u001b[0mprevent_recursion\u001b[0m\u001b[1;33m)\u001b[0m\u001b[1;33m\u001b[0m\u001b[0m\n\u001b[0m\u001b[0;32m     64\u001b[0m \u001b[1;33m\u001b[0m\u001b[0m\n\u001b[0;32m     65\u001b[0m             \u001b[1;32melif\u001b[0m \u001b[0mself\u001b[0m\u001b[1;33m.\u001b[0m\u001b[0mtype\u001b[0m \u001b[1;33m==\u001b[0m \u001b[1;36m0\u001b[0m\u001b[1;33m:\u001b[0m\u001b[1;33m\u001b[0m\u001b[0m\n",
      "\u001b[1;32mC:\\ProgramData\\Anaconda3\\lib\\site-packages\\tracery\\__init__.py\u001b[0m in \u001b[0;36mexpand_children\u001b[1;34m(self, child_rule, prevent_recursion)\u001b[0m\n\u001b[0;32m     44\u001b[0m                 \u001b[0mself\u001b[0m\u001b[1;33m.\u001b[0m\u001b[0mchildren\u001b[0m\u001b[1;33m.\u001b[0m\u001b[0mappend\u001b[0m\u001b[1;33m(\u001b[0m\u001b[0mnode\u001b[0m\u001b[1;33m)\u001b[0m\u001b[1;33m\u001b[0m\u001b[0m\n\u001b[0;32m     45\u001b[0m                 \u001b[1;32mif\u001b[0m \u001b[1;32mnot\u001b[0m \u001b[0mprevent_recursion\u001b[0m\u001b[1;33m:\u001b[0m\u001b[1;33m\u001b[0m\u001b[0m\n\u001b[1;32m---> 46\u001b[1;33m                     \u001b[0mnode\u001b[0m\u001b[1;33m.\u001b[0m\u001b[0mexpand\u001b[0m\u001b[1;33m(\u001b[0m\u001b[0mprevent_recursion\u001b[0m\u001b[1;33m)\u001b[0m\u001b[1;33m\u001b[0m\u001b[0m\n\u001b[0m\u001b[0;32m     47\u001b[0m                 \u001b[0mself\u001b[0m\u001b[1;33m.\u001b[0m\u001b[0mfinished_text\u001b[0m \u001b[1;33m+=\u001b[0m \u001b[0mnode\u001b[0m\u001b[1;33m.\u001b[0m\u001b[0mfinished_text\u001b[0m\u001b[1;33m\u001b[0m\u001b[0m\n\u001b[0;32m     48\u001b[0m         \u001b[1;32melse\u001b[0m\u001b[1;33m:\u001b[0m\u001b[1;33m\u001b[0m\u001b[0m\n",
      "\u001b[1;32mC:\\ProgramData\\Anaconda3\\lib\\site-packages\\tracery\\__init__.py\u001b[0m in \u001b[0;36mexpand\u001b[1;34m(self, prevent_recursion)\u001b[0m\n\u001b[0;32m     82\u001b[0m                 selected_rule = self.grammar.select_rule(self.symbol, self,\n\u001b[0;32m     83\u001b[0m                                                          self.errors)\n\u001b[1;32m---> 84\u001b[1;33m                 \u001b[0mself\u001b[0m\u001b[1;33m.\u001b[0m\u001b[0mexpand_children\u001b[0m\u001b[1;33m(\u001b[0m\u001b[0mselected_rule\u001b[0m\u001b[1;33m,\u001b[0m \u001b[0mprevent_recursion\u001b[0m\u001b[1;33m)\u001b[0m\u001b[1;33m\u001b[0m\u001b[0m\n\u001b[0m\u001b[0;32m     85\u001b[0m \u001b[1;33m\u001b[0m\u001b[0m\n\u001b[0;32m     86\u001b[0m                 \u001b[1;31m# apply modifiers\u001b[0m\u001b[1;33m\u001b[0m\u001b[1;33m\u001b[0m\u001b[0m\n",
      "\u001b[1;32mC:\\ProgramData\\Anaconda3\\lib\\site-packages\\tracery\\__init__.py\u001b[0m in \u001b[0;36mexpand_children\u001b[1;34m(self, child_rule, prevent_recursion)\u001b[0m\n\u001b[0;32m     44\u001b[0m                 \u001b[0mself\u001b[0m\u001b[1;33m.\u001b[0m\u001b[0mchildren\u001b[0m\u001b[1;33m.\u001b[0m\u001b[0mappend\u001b[0m\u001b[1;33m(\u001b[0m\u001b[0mnode\u001b[0m\u001b[1;33m)\u001b[0m\u001b[1;33m\u001b[0m\u001b[0m\n\u001b[0;32m     45\u001b[0m                 \u001b[1;32mif\u001b[0m \u001b[1;32mnot\u001b[0m \u001b[0mprevent_recursion\u001b[0m\u001b[1;33m:\u001b[0m\u001b[1;33m\u001b[0m\u001b[0m\n\u001b[1;32m---> 46\u001b[1;33m                     \u001b[0mnode\u001b[0m\u001b[1;33m.\u001b[0m\u001b[0mexpand\u001b[0m\u001b[1;33m(\u001b[0m\u001b[0mprevent_recursion\u001b[0m\u001b[1;33m)\u001b[0m\u001b[1;33m\u001b[0m\u001b[0m\n\u001b[0m\u001b[0;32m     47\u001b[0m                 \u001b[0mself\u001b[0m\u001b[1;33m.\u001b[0m\u001b[0mfinished_text\u001b[0m \u001b[1;33m+=\u001b[0m \u001b[0mnode\u001b[0m\u001b[1;33m.\u001b[0m\u001b[0mfinished_text\u001b[0m\u001b[1;33m\u001b[0m\u001b[0m\n\u001b[0;32m     48\u001b[0m         \u001b[1;32melse\u001b[0m\u001b[1;33m:\u001b[0m\u001b[1;33m\u001b[0m\u001b[0m\n",
      "\u001b[1;32mC:\\ProgramData\\Anaconda3\\lib\\site-packages\\tracery\\__init__.py\u001b[0m in \u001b[0;36mexpand\u001b[1;34m(self, prevent_recursion)\u001b[0m\n\u001b[0;32m     82\u001b[0m                 selected_rule = self.grammar.select_rule(self.symbol, self,\n\u001b[0;32m     83\u001b[0m                                                          self.errors)\n\u001b[1;32m---> 84\u001b[1;33m                 \u001b[0mself\u001b[0m\u001b[1;33m.\u001b[0m\u001b[0mexpand_children\u001b[0m\u001b[1;33m(\u001b[0m\u001b[0mselected_rule\u001b[0m\u001b[1;33m,\u001b[0m \u001b[0mprevent_recursion\u001b[0m\u001b[1;33m)\u001b[0m\u001b[1;33m\u001b[0m\u001b[0m\n\u001b[0m\u001b[0;32m     85\u001b[0m \u001b[1;33m\u001b[0m\u001b[0m\n\u001b[0;32m     86\u001b[0m                 \u001b[1;31m# apply modifiers\u001b[0m\u001b[1;33m\u001b[0m\u001b[1;33m\u001b[0m\u001b[0m\n",
      "\u001b[1;32mC:\\ProgramData\\Anaconda3\\lib\\site-packages\\tracery\\__init__.py\u001b[0m in \u001b[0;36mexpand_children\u001b[1;34m(self, child_rule, prevent_recursion)\u001b[0m\n\u001b[0;32m     44\u001b[0m                 \u001b[0mself\u001b[0m\u001b[1;33m.\u001b[0m\u001b[0mchildren\u001b[0m\u001b[1;33m.\u001b[0m\u001b[0mappend\u001b[0m\u001b[1;33m(\u001b[0m\u001b[0mnode\u001b[0m\u001b[1;33m)\u001b[0m\u001b[1;33m\u001b[0m\u001b[0m\n\u001b[0;32m     45\u001b[0m                 \u001b[1;32mif\u001b[0m \u001b[1;32mnot\u001b[0m \u001b[0mprevent_recursion\u001b[0m\u001b[1;33m:\u001b[0m\u001b[1;33m\u001b[0m\u001b[0m\n\u001b[1;32m---> 46\u001b[1;33m                     \u001b[0mnode\u001b[0m\u001b[1;33m.\u001b[0m\u001b[0mexpand\u001b[0m\u001b[1;33m(\u001b[0m\u001b[0mprevent_recursion\u001b[0m\u001b[1;33m)\u001b[0m\u001b[1;33m\u001b[0m\u001b[0m\n\u001b[0m\u001b[0;32m     47\u001b[0m                 \u001b[0mself\u001b[0m\u001b[1;33m.\u001b[0m\u001b[0mfinished_text\u001b[0m \u001b[1;33m+=\u001b[0m \u001b[0mnode\u001b[0m\u001b[1;33m.\u001b[0m\u001b[0mfinished_text\u001b[0m\u001b[1;33m\u001b[0m\u001b[0m\n\u001b[0;32m     48\u001b[0m         \u001b[1;32melse\u001b[0m\u001b[1;33m:\u001b[0m\u001b[1;33m\u001b[0m\u001b[0m\n",
      "\u001b[1;32mC:\\ProgramData\\Anaconda3\\lib\\site-packages\\tracery\\__init__.py\u001b[0m in \u001b[0;36mexpand\u001b[1;34m(self, prevent_recursion)\u001b[0m\n\u001b[0;32m     81\u001b[0m                 \u001b[0mself\u001b[0m\u001b[1;33m.\u001b[0m\u001b[0mfinished_text\u001b[0m \u001b[1;33m=\u001b[0m \u001b[0mself\u001b[0m\u001b[1;33m.\u001b[0m\u001b[0mraw\u001b[0m\u001b[1;33m\u001b[0m\u001b[0m\n\u001b[0;32m     82\u001b[0m                 selected_rule = self.grammar.select_rule(self.symbol, self,\n\u001b[1;32m---> 83\u001b[1;33m                                                          self.errors)\n\u001b[0m\u001b[0;32m     84\u001b[0m                 \u001b[0mself\u001b[0m\u001b[1;33m.\u001b[0m\u001b[0mexpand_children\u001b[0m\u001b[1;33m(\u001b[0m\u001b[0mselected_rule\u001b[0m\u001b[1;33m,\u001b[0m \u001b[0mprevent_recursion\u001b[0m\u001b[1;33m)\u001b[0m\u001b[1;33m\u001b[0m\u001b[0m\n\u001b[0;32m     85\u001b[0m \u001b[1;33m\u001b[0m\u001b[0m\n",
      "\u001b[1;32mC:\\ProgramData\\Anaconda3\\lib\\site-packages\\tracery\\__init__.py\u001b[0m in \u001b[0;36mselect_rule\u001b[1;34m(self, key, node, errors)\u001b[0m\n\u001b[0;32m    259\u001b[0m     \u001b[1;32mdef\u001b[0m \u001b[0mselect_rule\u001b[0m\u001b[1;33m(\u001b[0m\u001b[0mself\u001b[0m\u001b[1;33m,\u001b[0m \u001b[0mkey\u001b[0m\u001b[1;33m,\u001b[0m \u001b[0mnode\u001b[0m\u001b[1;33m,\u001b[0m \u001b[0merrors\u001b[0m\u001b[1;33m)\u001b[0m\u001b[1;33m:\u001b[0m\u001b[1;33m\u001b[0m\u001b[0m\n\u001b[0;32m    260\u001b[0m         \u001b[1;32mif\u001b[0m \u001b[0mkey\u001b[0m \u001b[1;32min\u001b[0m \u001b[0mself\u001b[0m\u001b[1;33m.\u001b[0m\u001b[0msymbols\u001b[0m\u001b[1;33m:\u001b[0m\u001b[1;33m\u001b[0m\u001b[0m\n\u001b[1;32m--> 261\u001b[1;33m             \u001b[1;32mreturn\u001b[0m \u001b[0mself\u001b[0m\u001b[1;33m.\u001b[0m\u001b[0msymbols\u001b[0m\u001b[1;33m[\u001b[0m\u001b[0mkey\u001b[0m\u001b[1;33m]\u001b[0m\u001b[1;33m.\u001b[0m\u001b[0mselect_rule\u001b[0m\u001b[1;33m(\u001b[0m\u001b[0mnode\u001b[0m\u001b[1;33m,\u001b[0m \u001b[0merrors\u001b[0m\u001b[1;33m)\u001b[0m\u001b[1;33m\u001b[0m\u001b[0m\n\u001b[0m\u001b[0;32m    262\u001b[0m         \u001b[1;32melse\u001b[0m\u001b[1;33m:\u001b[0m\u001b[1;33m\u001b[0m\u001b[0m\n\u001b[0;32m    263\u001b[0m             \u001b[0merrors\u001b[0m\u001b[1;33m.\u001b[0m\u001b[0mappend\u001b[0m\u001b[1;33m(\u001b[0m\u001b[1;34m\"No symbol for \"\u001b[0m \u001b[1;33m+\u001b[0m \u001b[0mstr\u001b[0m\u001b[1;33m(\u001b[0m\u001b[0mkey\u001b[0m\u001b[1;33m)\u001b[0m\u001b[1;33m)\u001b[0m\u001b[1;33m\u001b[0m\u001b[0m\n",
      "\u001b[1;32mC:\\ProgramData\\Anaconda3\\lib\\site-packages\\tracery\\__init__.py\u001b[0m in \u001b[0;36mselect_rule\u001b[1;34m(self, node, errors)\u001b[0m\n\u001b[0;32m    198\u001b[0m             errors.append(\"The rule stack for '\" + self.key +\n\u001b[0;32m    199\u001b[0m                           \"' is empty, too many pops?\")\n\u001b[1;32m--> 200\u001b[1;33m         \u001b[1;32mreturn\u001b[0m \u001b[0mself\u001b[0m\u001b[1;33m.\u001b[0m\u001b[0mstack\u001b[0m\u001b[1;33m[\u001b[0m\u001b[1;33m-\u001b[0m\u001b[1;36m1\u001b[0m\u001b[1;33m]\u001b[0m\u001b[1;33m.\u001b[0m\u001b[0mselect_rule\u001b[0m\u001b[1;33m(\u001b[0m\u001b[1;33m)\u001b[0m\u001b[1;33m\u001b[0m\u001b[0m\n\u001b[0m\u001b[0;32m    201\u001b[0m \u001b[1;33m\u001b[0m\u001b[0m\n\u001b[0;32m    202\u001b[0m     \u001b[1;32mdef\u001b[0m \u001b[0mget_active_rules\u001b[0m\u001b[1;33m(\u001b[0m\u001b[0mself\u001b[0m\u001b[1;33m)\u001b[0m\u001b[1;33m:\u001b[0m\u001b[1;33m\u001b[0m\u001b[0m\n",
      "\u001b[1;32mC:\\ProgramData\\Anaconda3\\lib\\site-packages\\tracery\\__init__.py\u001b[0m in \u001b[0;36mselect_rule\u001b[1;34m(self)\u001b[0m\n\u001b[0;32m    167\u001b[0m         \u001b[1;31m# selecting a rule, none of which seem to be implemented yet! so for\u001b[0m\u001b[1;33m\u001b[0m\u001b[1;33m\u001b[0m\u001b[0m\n\u001b[0;32m    168\u001b[0m         \u001b[1;31m# now I'm just going to ...\u001b[0m\u001b[1;33m\u001b[0m\u001b[1;33m\u001b[0m\u001b[0m\n\u001b[1;32m--> 169\u001b[1;33m         \u001b[1;32mreturn\u001b[0m \u001b[0mrandom\u001b[0m\u001b[1;33m.\u001b[0m\u001b[0mchoice\u001b[0m\u001b[1;33m(\u001b[0m\u001b[0mself\u001b[0m\u001b[1;33m.\u001b[0m\u001b[0mdefault_rules\u001b[0m\u001b[1;33m)\u001b[0m\u001b[1;33m\u001b[0m\u001b[0m\n\u001b[0m\u001b[0;32m    170\u001b[0m \u001b[1;33m\u001b[0m\u001b[0m\n\u001b[0;32m    171\u001b[0m     \u001b[1;32mdef\u001b[0m \u001b[0mclear_state\u001b[0m\u001b[1;33m(\u001b[0m\u001b[0mself\u001b[0m\u001b[1;33m)\u001b[0m\u001b[1;33m:\u001b[0m\u001b[1;33m\u001b[0m\u001b[0m\n",
      "\u001b[1;32mC:\\ProgramData\\Anaconda3\\lib\\random.py\u001b[0m in \u001b[0;36mchoice\u001b[1;34m(self, seq)\u001b[0m\n\u001b[0;32m    255\u001b[0m             \u001b[0mi\u001b[0m \u001b[1;33m=\u001b[0m \u001b[0mself\u001b[0m\u001b[1;33m.\u001b[0m\u001b[0m_randbelow\u001b[0m\u001b[1;33m(\u001b[0m\u001b[0mlen\u001b[0m\u001b[1;33m(\u001b[0m\u001b[0mseq\u001b[0m\u001b[1;33m)\u001b[0m\u001b[1;33m)\u001b[0m\u001b[1;33m\u001b[0m\u001b[0m\n\u001b[0;32m    256\u001b[0m         \u001b[1;32mexcept\u001b[0m \u001b[0mValueError\u001b[0m\u001b[1;33m:\u001b[0m\u001b[1;33m\u001b[0m\u001b[0m\n\u001b[1;32m--> 257\u001b[1;33m             \u001b[1;32mraise\u001b[0m \u001b[0mIndexError\u001b[0m\u001b[1;33m(\u001b[0m\u001b[1;34m'Cannot choose from an empty sequence'\u001b[0m\u001b[1;33m)\u001b[0m \u001b[1;32mfrom\u001b[0m \u001b[1;32mNone\u001b[0m\u001b[1;33m\u001b[0m\u001b[0m\n\u001b[0m\u001b[0;32m    258\u001b[0m         \u001b[1;32mreturn\u001b[0m \u001b[0mseq\u001b[0m\u001b[1;33m[\u001b[0m\u001b[0mi\u001b[0m\u001b[1;33m]\u001b[0m\u001b[1;33m\u001b[0m\u001b[0m\n\u001b[0;32m    259\u001b[0m \u001b[1;33m\u001b[0m\u001b[0m\n",
      "\u001b[1;31mIndexError\u001b[0m: Cannot choose from an empty sequence"
     ]
    }
   ],
   "source": [
    "rules = {\n",
    "    \"origin\":[\"#[lover:#creature#][wise:#creature#][muse:#creature#]part01#\"\"#part02#\"\"#part03#\"\"#part04#\"\"#part5#\"\"#part06#\"],\n",
    "\n",
    "\"part01\": [\"#tracery_halfsies.capitalize#.......One evening in #location#, a #mood# #lover# met #wise.a# who asked: Do you believe that #muse.a# can love #lover.a#?\"],\n",
    "\n",
    "\"part02\": [\"The #wise# looked at the #lover# with #mood.a# #bodyPart# and touched the #lover#'s #bodyPart# while saying:\\n Only when #creature.a# has his or her #bodyPart# #adverb# #verb# by #creature.a#, will #muse.a# truly believe in love.\"],\n",
    "\n",
    "\"part03\": [\"The #lover# looked the reflection in a mirror and murmured and saw #tracery_lover.a# and #tracery_lover.a# and #tracery_lover.a#...\\n Not a single #muse#, in his/her mind only images of #mood# #tracery_muse# and #tracery_muse# and #tracery_muse#.\\n #lover# roamed until arriving at #geography.a# in #location#. His/her mastery of #technique# was of no use to defeat this #creature# that grows inside.\"],\n",
    "\n",
    "\n",
    "\"part04\": [\"#tracery_halfsies# is what makes #lover# #action# through #location# and #tracery_lover#\"],\n",
    "\n",
    "\"part05\": [\"As #lover# dreams of #muse# - a sound like #object#, a sound like #tracery_muse# echoes. Then nothing else as #lover# is killed once more by a #adverb# #technique# from the relentless undying player.\"],\n",
    "\n",
    "\"part06\": [\"You Died....#lover#. You Died #rhyme#, You Died #rhyme#, YOU DIED #rhyme#.\"],\n",
    "\n",
    "\"verb\": verbs,\n",
    "\"location\" : locations,\n",
    "\"object\": objects,\n",
    "\"creature\": creatures,\n",
    "\"bodyPart\": bodyParts,\n",
    "\"action\": actions,\n",
    "\"concept\": concepts,\n",
    "\"conjunction\": conjunctions,\n",
    "\"adverb\": adverbs,\n",
    "\"mood\" : moods,\n",
    "\"location\": locations,\n",
    "\"technique\": techniques,\n",
    "\"geography\": geographies,\n",
    "\n",
    "\"tracery_lover\": spacy_closest(tokens, vec(grammar.flatten(\"#lover#\"))),\n",
    "\"tracery_muse\": spacy_closest(tokens, vec(grammar.flatten(\"#muse#\"))),\n",
    "\"tracery_halfsies\": spacy_closest(tokens, meanv([vec(\"#lover#\"), vec(\"#muse#\")]))\n",
    " \n",
    "    ,\n",
    "\n",
    "\"rhyme\": pronouncing.rhymes(\"#lover#\")\n",
    "}\n",
    "    \n",
    "grammar = tracery.Grammar(rules)\n",
    "grammar.add_modifiers(base_english)\n",
    "\n",
    "grammar = tracery.Grammar(rules)\n",
    "grammar.add_modifiers(base_english)\n",
    "\n",
    "many_stories = []\n",
    "for i in range(3): \n",
    "    story = grammar.flatten(\"#origin#\")\n",
    "    many_stories.append(story)\n",
    "\n",
    "\n",
    "    \n",
    "\n",
    "\n",
    "\n"
   ]
  },
  {
   "cell_type": "code",
   "execution_count": 273,
   "metadata": {},
   "outputs": [
    {
     "data": {
      "text/plain": [
       "['abdul',\n",
       " 'apostolopoul',\n",
       " 'baiul',\n",
       " 'bellefeuille',\n",
       " 'boole',\n",
       " 'boule',\n",
       " 'bruehl',\n",
       " 'brule',\n",
       " 'buehl',\n",
       " 'buel',\n",
       " 'buhl',\n",
       " 'cool',\n",
       " 'coole',\n",
       " 'cruel',\n",
       " 'drogoul',\n",
       " 'drool',\n",
       " 'dual',\n",
       " 'duell',\n",
       " 'duell',\n",
       " 'dule',\n",
       " 'dzhambul',\n",
       " 'fool',\n",
       " 'fuel',\n",
       " 'gurule',\n",
       " 'home-school',\n",
       " 'hoole',\n",
       " 'istanbul',\n",
       " 'jewel',\n",
       " 'joule',\n",
       " 'juel',\n",
       " 'jule',\n",
       " 'kool',\n",
       " 'kreul',\n",
       " 'luelle',\n",
       " 'makhoul',\n",
       " 'mccool',\n",
       " 'misrule',\n",
       " 'muehl',\n",
       " 'mule',\n",
       " 'nepool',\n",
       " \"o'toole\",\n",
       " 'old-school',\n",
       " 'pool',\n",
       " 'poole',\n",
       " 'poul',\n",
       " 'preschool',\n",
       " 'rahul',\n",
       " 'rantoul',\n",
       " 'raoul',\n",
       " 'raul',\n",
       " 'retool',\n",
       " 'reul',\n",
       " 'reule',\n",
       " 'rhule',\n",
       " 'ruel',\n",
       " 'ruhul',\n",
       " 'rule',\n",
       " 'school',\n",
       " 'schuele',\n",
       " 'spool',\n",
       " 'sproule',\n",
       " 'sproull',\n",
       " 'spruell',\n",
       " 'spruiell',\n",
       " 'spruill',\n",
       " 'stool',\n",
       " 'supercool',\n",
       " 'tool',\n",
       " 'toole',\n",
       " 'tuel',\n",
       " 'tuell',\n",
       " 'tuyle',\n",
       " 'uncool',\n",
       " 'vipul',\n",
       " \"who'll\",\n",
       " \"you'll\",\n",
       " 'yuill',\n",
       " 'yuille',\n",
       " 'yule']"
      ]
     },
     "execution_count": 273,
     "metadata": {},
     "output_type": "execute_result"
    }
   ],
   "source": [
    "pronouncing.rhymes(\"ghoul\")"
   ]
  },
  {
   "cell_type": "code",
   "execution_count": 283,
   "metadata": {},
   "outputs": [
    {
     "data": {
      "text/plain": [
       "[\"Torment.......One evening in Grand Archives, a devoted fatty met a you who asked: Do you believe that a sellsword can love a fatty?The you looked at the fatty with a testy indexfinger and touched the fatty's tounge while saying:\\n Only when a prisoner has his or her thumb limply stroked by an old dear, will a sellsword truly believe in love.The fatty looked the reflection in a mirror and murmured and saw a mien and a vampire and a dungeons...\\n Not a single sellsword, in his/her mind only images of nightmarish wondrously and lighthearted and playfully.\\n fatty roamed until arriving at a lava in Cathedral of the Deep. His/her mastery of trapping inside was of no use to defeat this Hollow that grows inside.nerves is what makes fatty jumping through Catacombs of Carthus and priest((part5))You Died....fatty. You Died ((rhyme)), You Died ((rhyme)), YOU DIED ((rhyme)).\",\n",
       " \"Precipice.......One evening in Painted World of Ariandel , a enlightened oddball met a beast who asked: Do you believe that an enemy can love an oddball?The beast looked at the oddball with a jolly finger and touched the oddball's right arm while saying:\\n Only when a king has his or her leg knavishly stroked by an artisan, will an enemy truly believe in love.The oddball looked the reflection in a mirror and murmured and saw an alchemists and an ogre and a vampire...\\n Not a single enemy, in his/her mind only images of admired wonderfully and delightful and rustic.\\n oddball roamed until arriving at a bad luck in Cathedral of the Deep. His/her mastery of pincer attack was of no use to defeat this moneybags that grows inside.irretrievable is what makes oddball sweeping attack through Church of Yorshka and confessor((part5))You Died....oddball. You Died ((rhyme)), You Died ((rhyme)), YOU DIED ((rhyme)).\",\n",
       " \"Ceasing.......One evening in Archdragon Peak, a self-confident king met a good fellow who asked: Do you believe that a good fellow can love a king?The good fellow looked at the king with a submissive rear and touched the king's ringfinger while saying:\\n Only when a nimble one has his or her left arm enormously rubbed by an angel, will a good fellow truly believe in love.The king looked the reflection in a mirror and murmured and saw a mien and a vampire and a mien...\\n Not a single good fellow, in his/her mind only images of enthusiastic lighthearted and wondrously and rustic.\\n king roamed until arriving at a ladder in Catacombs of Carthus. His/her mastery of play dead was of no use to defeat this skeleton that grows inside.moonshine is what makes king stabbing in the back through High Wall of Lothric and confessor((part5))You Died....king. You Died ((rhyme)), You Died ((rhyme)), YOU DIED ((rhyme)).\"]"
      ]
     },
     "execution_count": 283,
     "metadata": {},
     "output_type": "execute_result"
    }
   ],
   "source": [
    "many_stories\n"
   ]
  },
  {
   "cell_type": "code",
   "execution_count": null,
   "metadata": {
    "collapsed": true
   },
   "outputs": [],
   "source": []
  }
 ],
 "metadata": {
  "kernelspec": {
   "display_name": "Python 3",
   "language": "python",
   "name": "python3"
  },
  "language_info": {
   "codemirror_mode": {
    "name": "ipython",
    "version": 3
   },
   "file_extension": ".py",
   "mimetype": "text/x-python",
   "name": "python",
   "nbconvert_exporter": "python",
   "pygments_lexer": "ipython3",
   "version": "3.6.3"
  }
 },
 "nbformat": 4,
 "nbformat_minor": 2
}
