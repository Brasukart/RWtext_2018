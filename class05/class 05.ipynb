{
 "cells": [
  {
   "cell_type": "code",
   "execution_count": 2,
   "metadata": {
    "collapsed": true
   },
   "outputs": [],
   "source": [
    "## Class 5 ##\n"
   ]
  },
  {
   "cell_type": "markdown",
   "metadata": {},
   "source": [
    "## Class 5 - Gabriel notes for 2018-02-23 ##\n",
    "\n",
    "**For** loops in Python\n"
   ]
  },
  {
   "cell_type": "code",
   "execution_count": 8,
   "metadata": {},
   "outputs": [
    {
     "name": "stdout",
     "output_type": "stream",
     "text": [
      "0\n",
      "Little piggies\n",
      "1\n",
      "Little piggies\n",
      "2\n",
      "Little piggies\n",
      "3\n",
      "Little piggies\n",
      "4\n",
      "Little piggies\n",
      "5\n",
      "Little piggies\n",
      "6\n",
      "Little piggies\n",
      "7\n",
      "Little piggies\n",
      "8\n",
      "Little piggies\n",
      "9\n",
      "Little piggies\n",
      "10\n",
      "Little piggies\n",
      "11\n",
      "Little piggies\n",
      "12\n",
      "Little piggies\n",
      "13\n",
      "Little piggies\n",
      "14\n",
      "Little piggies\n",
      "15\n",
      "Little piggies\n",
      "16\n",
      "Little piggies\n",
      "17\n",
      "Little piggies\n",
      "18\n",
      "Little piggies\n",
      "19\n",
      "Little piggies\n"
     ]
    }
   ],
   "source": [
    "for i in range (20):\n",
    "    print (i)\n",
    "    print (\"Little piggies\")"
   ]
  },
  {
   "cell_type": "markdown",
   "metadata": {},
   "source": [
    "## My computer generated Acrostic ##"
   ]
  },
  {
   "cell_type": "code",
   "execution_count": 9,
   "metadata": {},
   "outputs": [
    {
     "ename": "SyntaxError",
     "evalue": "unexpected EOF while parsing (<ipython-input-9-6fb5f2c5ca07>, line 7)",
     "output_type": "error",
     "traceback": [
      "\u001b[1;36m  File \u001b[1;32m\"<ipython-input-9-6fb5f2c5ca07>\"\u001b[1;36m, line \u001b[1;32m7\u001b[0m\n\u001b[1;33m    for item in words:\u001b[0m\n\u001b[1;37m                       ^\u001b[0m\n\u001b[1;31mSyntaxError\u001b[0m\u001b[1;31m:\u001b[0m unexpected EOF while parsing\n"
     ]
    }
   ],
   "source": [
    "initial = {}\n",
    "# look at the first letter of each woord\n",
    "# check to see if there's already an entry in initials\n",
    "# if the first letter is not already a key: add it with an empty list\n",
    "# if it is, then add the word to t (list) value\n",
    "\n",
    "for item in words: "
   ]
  },
  {
   "cell_type": "code",
   "execution_count": 11,
   "metadata": {},
   "outputs": [
    {
     "ename": "NameError",
     "evalue": "name 'words' is not defined",
     "output_type": "error",
     "traceback": [
      "\u001b[1;31m---------------------------------------------------------------------------\u001b[0m",
      "\u001b[1;31mNameError\u001b[0m                                 Traceback (most recent call last)",
      "\u001b[1;32m<ipython-input-11-7d8f67c1ac54>\u001b[0m in \u001b[0;36m<module>\u001b[1;34m()\u001b[0m\n\u001b[0;32m      1\u001b[0m \u001b[0minitials\u001b[0m \u001b[1;33m=\u001b[0m \u001b[1;33m{\u001b[0m\u001b[1;33m}\u001b[0m\u001b[1;33m\u001b[0m\u001b[0m\n\u001b[0;32m      2\u001b[0m \u001b[1;33m\u001b[0m\u001b[0m\n\u001b[1;32m----> 3\u001b[1;33m \u001b[1;32mfor\u001b[0m \u001b[0mitem\u001b[0m \u001b[1;32min\u001b[0m \u001b[0mwords\u001b[0m\u001b[1;33m:\u001b[0m\u001b[1;33m\u001b[0m\u001b[0m\n\u001b[0m\u001b[0;32m      4\u001b[0m     \u001b[0mfirst_let\u001b[0m \u001b[1;33m=\u001b[0m \u001b[0mitem\u001b[0m\u001b[1;33m[\u001b[0m\u001b[1;36m0\u001b[0m\u001b[1;33m]\u001b[0m\u001b[1;33m\u001b[0m\u001b[0m\n\u001b[0;32m      5\u001b[0m     \u001b[1;32mif\u001b[0m \u001b[0mfirst_let\u001b[0m \u001b[1;32mnot\u001b[0m \u001b[1;32min\u001b[0m \u001b[0minitials\u001b[0m\u001b[1;33m:\u001b[0m\u001b[1;33m\u001b[0m\u001b[0m\n",
      "\u001b[1;31mNameError\u001b[0m: name 'words' is not defined"
     ]
    }
   ],
   "source": [
    "initials = {}\n",
    "\n",
    "for item in words:\n",
    "    first_let = item[0]\n",
    "    if first_let not in initials:\n",
    "            initials[first_let] = []\n",
    "            initials[first_let].append(item)\n",
    "            "
   ]
  },
  {
   "cell_type": "code",
   "execution_count": null,
   "metadata": {
    "collapsed": true
   },
   "outputs": [],
   "source": []
  }
 ],
 "metadata": {
  "kernelspec": {
   "display_name": "Python 3",
   "language": "python",
   "name": "python3"
  },
  "language_info": {
   "codemirror_mode": {
    "name": "ipython",
    "version": 3
   },
   "file_extension": ".py",
   "mimetype": "text/x-python",
   "name": "python",
   "nbconvert_exporter": "python",
   "pygments_lexer": "ipython3",
   "version": "3.6.3"
  }
 },
 "nbformat": 4,
 "nbformat_minor": 2
}
