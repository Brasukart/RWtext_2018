{
 "cells": [
  {
   "cell_type": "code",
   "execution_count": 1,
   "metadata": {},
   "outputs": [
    {
     "data": {
      "text/plain": [
       "[5, 30, 45, 56, 23]"
      ]
     },
     "execution_count": 1,
     "metadata": {},
     "output_type": "execute_result"
    }
   ],
   "source": [
    "[5, 30, 45, 56, 23]"
   ]
  },
  {
   "cell_type": "code",
   "execution_count": 2,
   "metadata": {},
   "outputs": [
    {
     "data": {
      "text/plain": [
       "list"
      ]
     },
     "execution_count": 2,
     "metadata": {},
     "output_type": "execute_result"
    }
   ],
   "source": [
    "type ([2,4,55])"
   ]
  },
  {
   "cell_type": "code",
   "execution_count": 4,
   "metadata": {
    "collapsed": true
   },
   "outputs": [],
   "source": [
    "gabriel_numbers = [44, 34, 233, 4, 23234]"
   ]
  },
  {
   "cell_type": "code",
   "execution_count": 6,
   "metadata": {},
   "outputs": [
    {
     "data": {
      "text/plain": [
       "23234"
      ]
     },
     "execution_count": 6,
     "metadata": {},
     "output_type": "execute_result"
    }
   ],
   "source": [
    "gabriel_numbers[4]"
   ]
  },
  {
   "cell_type": "code",
   "execution_count": 8,
   "metadata": {},
   "outputs": [
    {
     "data": {
      "text/plain": [
       "True"
      ]
     },
     "execution_count": 8,
     "metadata": {},
     "output_type": "execute_result"
    }
   ],
   "source": [
    "34 in gabriel_numbers"
   ]
  },
  {
   "cell_type": "code",
   "execution_count": 11,
   "metadata": {},
   "outputs": [
    {
     "data": {
      "text/plain": [
       "['NANANAN!!',\n",
       " 'NANANAN!!',\n",
       " 'NANANAN!!',\n",
       " 'NANANAN!!',\n",
       " 'NANANAN!!',\n",
       " 'NANANAN!!',\n",
       " 'NANANAN!!',\n",
       " 'NANANAN!!',\n",
       " 'NANANAN!!',\n",
       " 'NANANAN!!',\n",
       " 'NANANAN!!',\n",
       " 'NANANAN!!',\n",
       " 'NANANAN!!',\n",
       " 'NANANAN!!',\n",
       " 'NANANAN!!',\n",
       " 'NANANAN!!',\n",
       " 'NANANAN!!',\n",
       " 'NANANAN!!',\n",
       " 'NANANAN!!',\n",
       " 'NANANAN!!',\n",
       " 'NANANAN!!',\n",
       " 'NANANAN!!',\n",
       " 'NANANAN!!',\n",
       " 'NANANAN!!',\n",
       " 'NANANAN!!',\n",
       " 'NANANAN!!',\n",
       " 'NANANAN!!',\n",
       " 'NANANAN!!',\n",
       " 'NANANAN!!',\n",
       " 'NANANAN!!',\n",
       " 'NANANAN!!',\n",
       " 'NANANAN!!',\n",
       " 'NANANAN!!',\n",
       " 'NANANAN!!',\n",
       " 'NANANAN!!',\n",
       " 'NANANAN!!',\n",
       " 'NANANAN!!',\n",
       " 'NANANAN!!',\n",
       " 'NANANAN!!',\n",
       " 'NANANAN!!',\n",
       " 'NANANAN!!',\n",
       " 'NANANAN!!',\n",
       " 'NANANAN!!',\n",
       " 'NANANAN!!',\n",
       " 'NANANAN!!',\n",
       " 'NANANAN!!',\n",
       " 'NANANAN!!',\n",
       " 'NANANAN!!',\n",
       " 'NANANAN!!',\n",
       " 'NANANAN!!',\n",
       " 'NANANAN!!',\n",
       " 'NANANAN!!',\n",
       " 'NANANAN!!',\n",
       " 'NANANAN!!',\n",
       " 'NANANAN!!',\n",
       " 'NANANAN!!',\n",
       " 'NANANAN!!',\n",
       " 'NANANAN!!',\n",
       " 'NANANAN!!',\n",
       " 'NANANAN!!',\n",
       " 'NANANAN!!',\n",
       " 'NANANAN!!',\n",
       " 'NANANAN!!',\n",
       " 'NANANAN!!',\n",
       " 'NANANAN!!',\n",
       " 'NANANAN!!',\n",
       " 'NANANAN!!',\n",
       " 'NANANAN!!',\n",
       " 'NANANAN!!',\n",
       " 'NANANAN!!',\n",
       " 'NANANAN!!',\n",
       " 'NANANAN!!',\n",
       " 'NANANAN!!',\n",
       " 'NANANAN!!',\n",
       " 'NANANAN!!',\n",
       " 'NANANAN!!',\n",
       " 'NANANAN!!',\n",
       " 'NANANAN!!',\n",
       " 'NANANAN!!',\n",
       " 'NANANAN!!',\n",
       " 'NANANAN!!',\n",
       " 'NANANAN!!',\n",
       " 'NANANAN!!',\n",
       " 'NANANAN!!',\n",
       " 'NANANAN!!',\n",
       " 'NANANAN!!',\n",
       " 'NANANAN!!',\n",
       " 'NANANAN!!',\n",
       " 'NANANAN!!',\n",
       " 'NANANAN!!',\n",
       " 'NANANAN!!',\n",
       " 'NANANAN!!',\n",
       " 'NANANAN!!',\n",
       " 'NANANAN!!',\n",
       " 'NANANAN!!',\n",
       " 'NANANAN!!',\n",
       " 'NANANAN!!',\n",
       " 'NANANAN!!',\n",
       " 'NANANAN!!',\n",
       " 'NANANAN!!']"
      ]
     },
     "execution_count": 11,
     "metadata": {},
     "output_type": "execute_result"
    }
   ],
   "source": [
    "[\"NANANAN!!\" for i in range(100)]"
   ]
  },
  {
   "cell_type": "code",
   "execution_count": 13,
   "metadata": {},
   "outputs": [
    {
     "data": {
      "text/plain": [
       "['this', 'is', 'a', 'test']"
      ]
     },
     "execution_count": 13,
     "metadata": {},
     "output_type": "execute_result"
    }
   ],
   "source": [
    "\"this is a test\".split()"
   ]
  },
  {
   "cell_type": "code",
   "execution_count": 15,
   "metadata": {},
   "outputs": [
    {
     "data": {
      "text/plain": [
       "['th', 's ', 's a test']"
      ]
     },
     "execution_count": 15,
     "metadata": {},
     "output_type": "execute_result"
    }
   ],
   "source": [
    "\"this is a test\".split(\"i\")"
   ]
  },
  {
   "cell_type": "code",
   "execution_count": 16,
   "metadata": {
    "collapsed": true
   },
   "outputs": [],
   "source": [
    "beatles = [\"john\", \"michael\", \"robertson\", ]"
   ]
  },
  {
   "cell_type": "code",
   "execution_count": 17,
   "metadata": {
    "collapsed": true
   },
   "outputs": [],
   "source": [
    "glue = \" or \""
   ]
  },
  {
   "cell_type": "code",
   "execution_count": 18,
   "metadata": {},
   "outputs": [
    {
     "data": {
      "text/plain": [
       "'john or michael or robertson'"
      ]
     },
     "execution_count": 18,
     "metadata": {},
     "output_type": "execute_result"
    }
   ],
   "source": [
    "glue.join(beatles)"
   ]
  },
  {
   "cell_type": "code",
   "execution_count": 19,
   "metadata": {
    "collapsed": true
   },
   "outputs": [],
   "source": [
    "import random\n"
   ]
  },
  {
   "cell_type": "code",
   "execution_count": 21,
   "metadata": {},
   "outputs": [
    {
     "data": {
      "text/plain": [
       "['john', 'michael', 'robertson']"
      ]
     },
     "execution_count": 21,
     "metadata": {},
     "output_type": "execute_result"
    }
   ],
   "source": [
    "beatles"
   ]
  },
  {
   "cell_type": "code",
   "execution_count": 22,
   "metadata": {
    "collapsed": true
   },
   "outputs": [],
   "source": [
    "text= \"Guns don't kill people: people kill people\""
   ]
  },
  {
   "cell_type": "code",
   "execution_count": 24,
   "metadata": {
    "collapsed": true
   },
   "outputs": [],
   "source": [
    "words = text.split()"
   ]
  },
  {
   "cell_type": "code",
   "execution_count": 26,
   "metadata": {
    "collapsed": true
   },
   "outputs": [],
   "source": [
    "random.shuffle(words)"
   ]
  },
  {
   "cell_type": "code",
   "execution_count": 28,
   "metadata": {},
   "outputs": [
    {
     "name": "stdout",
     "output_type": "stream",
     "text": [
      "Guns people don't kill people: people kill\n"
     ]
    }
   ],
   "source": [
    "print(\" \".join(words))"
   ]
  },
  {
   "cell_type": "code",
   "execution_count": 31,
   "metadata": {},
   "outputs": [
    {
     "data": {
      "text/plain": [
       "\"Guns people don't kill people: people kill\""
      ]
     },
     "execution_count": 31,
     "metadata": {},
     "output_type": "execute_result"
    }
   ],
   "source": [
    "\" \".join(words)"
   ]
  },
  {
   "cell_type": "code",
   "execution_count": 34,
   "metadata": {},
   "outputs": [],
   "source": [
    "random.shuffle(words)\n"
   ]
  },
  {
   "cell_type": "code",
   "execution_count": 35,
   "metadata": {
    "collapsed": true
   },
   "outputs": [],
   "source": [
    "text = \"guns don't kill people: people kill people\""
   ]
  },
  {
   "cell_type": "code",
   "execution_count": 38,
   "metadata": {},
   "outputs": [
    {
     "name": "stdout",
     "output_type": "stream",
     "text": [
      "people kill guns don't kill people: people\n"
     ]
    }
   ],
   "source": [
    "words = text.split()\n",
    "random.shuffle(words)\n",
    "print(\" \".join(words))"
   ]
  },
  {
   "cell_type": "code",
   "execution_count": 48,
   "metadata": {},
   "outputs": [
    {
     "data": {
      "text/plain": [
       "'people'"
      ]
     },
     "execution_count": 48,
     "metadata": {},
     "output_type": "execute_result"
    }
   ],
   "source": [
    "random.choice(words)"
   ]
  },
  {
   "cell_type": "code",
   "execution_count": 52,
   "metadata": {
    "collapsed": true
   },
   "outputs": [],
   "source": [
    "disaster = open(\"gullarDisaster.txt\")\n"
   ]
  },
  {
   "cell_type": "code",
   "execution_count": 55,
   "metadata": {},
   "outputs": [
    {
     "data": {
      "text/plain": [
       "_io.TextIOWrapper"
      ]
     },
     "execution_count": 55,
     "metadata": {},
     "output_type": "execute_result"
    }
   ],
   "source": [
    "type (disaster)"
   ]
  },
  {
   "cell_type": "code",
   "execution_count": 58,
   "metadata": {},
   "outputs": [
    {
     "ename": "TypeError",
     "evalue": "object of type '_io.TextIOWrapper' has no len()",
     "output_type": "error",
     "traceback": [
      "\u001b[1;31m---------------------------------------------------------------------------\u001b[0m",
      "\u001b[1;31mTypeError\u001b[0m                                 Traceback (most recent call last)",
      "\u001b[1;32m<ipython-input-58-b49b4e86f61b>\u001b[0m in \u001b[0;36m<module>\u001b[1;34m()\u001b[0m\n\u001b[1;32m----> 1\u001b[1;33m \u001b[0mrandom\u001b[0m\u001b[1;33m.\u001b[0m\u001b[0mchoice\u001b[0m\u001b[1;33m(\u001b[0m\u001b[0mdisaster\u001b[0m\u001b[1;33m)\u001b[0m\u001b[1;33m\u001b[0m\u001b[0m\n\u001b[0m",
      "\u001b[1;32mC:\\ProgramData\\Anaconda3\\lib\\random.py\u001b[0m in \u001b[0;36mchoice\u001b[1;34m(self, seq)\u001b[0m\n\u001b[0;32m    253\u001b[0m         \u001b[1;34m\"\"\"Choose a random element from a non-empty sequence.\"\"\"\u001b[0m\u001b[1;33m\u001b[0m\u001b[0m\n\u001b[0;32m    254\u001b[0m         \u001b[1;32mtry\u001b[0m\u001b[1;33m:\u001b[0m\u001b[1;33m\u001b[0m\u001b[0m\n\u001b[1;32m--> 255\u001b[1;33m             \u001b[0mi\u001b[0m \u001b[1;33m=\u001b[0m \u001b[0mself\u001b[0m\u001b[1;33m.\u001b[0m\u001b[0m_randbelow\u001b[0m\u001b[1;33m(\u001b[0m\u001b[0mlen\u001b[0m\u001b[1;33m(\u001b[0m\u001b[0mseq\u001b[0m\u001b[1;33m)\u001b[0m\u001b[1;33m)\u001b[0m\u001b[1;33m\u001b[0m\u001b[0m\n\u001b[0m\u001b[0;32m    256\u001b[0m         \u001b[1;32mexcept\u001b[0m \u001b[0mValueError\u001b[0m\u001b[1;33m:\u001b[0m\u001b[1;33m\u001b[0m\u001b[0m\n\u001b[0;32m    257\u001b[0m             \u001b[1;32mraise\u001b[0m \u001b[0mIndexError\u001b[0m\u001b[1;33m(\u001b[0m\u001b[1;34m'Cannot choose from an empty sequence'\u001b[0m\u001b[1;33m)\u001b[0m \u001b[1;32mfrom\u001b[0m \u001b[1;32mNone\u001b[0m\u001b[1;33m\u001b[0m\u001b[0m\n",
      "\u001b[1;31mTypeError\u001b[0m: object of type '_io.TextIOWrapper' has no len()"
     ]
    }
   ],
   "source": [
    "random.choice(disaster)"
   ]
  },
  {
   "cell_type": "code",
   "execution_count": 61,
   "metadata": {},
   "outputs": [
    {
     "ename": "FileNotFoundError",
     "evalue": "[Errno 2] No such file or directory: 'disaster.txt'",
     "output_type": "error",
     "traceback": [
      "\u001b[1;31m---------------------------------------------------------------------------\u001b[0m",
      "\u001b[1;31mFileNotFoundError\u001b[0m                         Traceback (most recent call last)",
      "\u001b[1;32m<ipython-input-61-50f3d935ac23>\u001b[0m in \u001b[0;36m<module>\u001b[1;34m()\u001b[0m\n\u001b[1;32m----> 1\u001b[1;33m \u001b[1;33m[\u001b[0m\u001b[0mline\u001b[0m \u001b[1;32mfor\u001b[0m \u001b[0mline\u001b[0m \u001b[1;32min\u001b[0m \u001b[0mopen\u001b[0m\u001b[1;33m(\u001b[0m\u001b[1;34m\"disaster.txt\"\u001b[0m\u001b[1;33m)\u001b[0m\u001b[1;33m]\u001b[0m\u001b[1;33m\u001b[0m\u001b[0m\n\u001b[0m",
      "\u001b[1;31mFileNotFoundError\u001b[0m: [Errno 2] No such file or directory: 'disaster.txt'"
     ]
    }
   ],
   "source": [
    "[line for line in open(\"disaster.txt\")]"
   ]
  },
  {
   "cell_type": "code",
   "execution_count": 63,
   "metadata": {},
   "outputs": [
    {
     "data": {
      "text/plain": [
       "<_io.TextIOWrapper name='gullarDisaster.txt' mode='r' encoding='cp1252'>"
      ]
     },
     "execution_count": 63,
     "metadata": {},
     "output_type": "execute_result"
    }
   ],
   "source": [
    "open (\"gullarDisaster.txt\")"
   ]
  },
  {
   "cell_type": "code",
   "execution_count": 66,
   "metadata": {},
   "outputs": [
    {
     "data": {
      "text/plain": [
       "['Disaster\\n',\n",
       " '\\n',\n",
       " '\\n',\n",
       " '\\n',\n",
       " 'Some wish\\n',\n",
       " '\\n',\n",
       " '         their poem to be\\n',\n",
       " '\\n',\n",
       " '         marble\\n',\n",
       " '\\n',\n",
       " 'or crystal. I wanted\\n',\n",
       " '\\n',\n",
       " 'mine to be a peach\\n',\n",
       " '\\n',\n",
       " '         or pear\\n',\n",
       " '\\n',\n",
       " '         or banana rotting on a plate\\n',\n",
       " '\\n',\n",
       " 'preferably\\n',\n",
       " '\\n',\n",
       " 'on a verandah\\n',\n",
       " '\\n',\n",
       " 'where people talk and work\\n',\n",
       " '\\n',\n",
       " 'and can hear\\n',\n",
       " '\\n',\n",
       " '         the noise from the street.\\n',\n",
       " '\\n',\n",
       " '\\n',\n",
       " '\\n',\n",
       " '         My only ambition\\n',\n",
       " '\\n',\n",
       " '         is the rotten poem\\n',\n",
       " '\\n',\n",
       " '\\n',\n",
       " '\\n',\n",
       " 'the pulp wounded\\n',\n",
       " '\\n',\n",
       " '         exposed\\n',\n",
       " '\\n',\n",
       " 'the voice deep within\\n',\n",
       " '\\n',\n",
       " '                            festering\\n',\n",
       " '         on the plate\\n',\n",
       " '\\n',\n",
       " 'the liquor the chemistry\\n',\n",
       " '\\n',\n",
       " '         of syllables\\n',\n",
       " '\\n',\n",
       " '                            the decaying corpse\\n',\n",
       " '\\n',\n",
       " '         of metaphors\\n',\n",
       " '\\n',\n",
       " '         a poem\\n',\n",
       " '\\n',\n",
       " '         like a disaster in progress.\\n']"
      ]
     },
     "execution_count": 66,
     "metadata": {},
     "output_type": "execute_result"
    }
   ],
   "source": [
    "[line for line in open(\"gullarDisaster.txt\")]"
   ]
  },
  {
   "cell_type": "code",
   "execution_count": 68,
   "metadata": {
    "collapsed": true
   },
   "outputs": [],
   "source": [
    "disaster = [line.strip() for line in open(\"gullarDisaster.txt\")]"
   ]
  },
  {
   "cell_type": "code",
   "execution_count": 70,
   "metadata": {},
   "outputs": [
    {
     "data": {
      "text/plain": [
       "list"
      ]
     },
     "execution_count": 70,
     "metadata": {},
     "output_type": "execute_result"
    }
   ],
   "source": [
    "type(disaster)"
   ]
  },
  {
   "cell_type": "code",
   "execution_count": 72,
   "metadata": {},
   "outputs": [
    {
     "ename": "NameError",
     "evalue": "name 'poem' is not defined",
     "output_type": "error",
     "traceback": [
      "\u001b[1;31m---------------------------------------------------------------------------\u001b[0m",
      "\u001b[1;31mNameError\u001b[0m                                 Traceback (most recent call last)",
      "\u001b[1;32m<ipython-input-72-f75cd8eac2f9>\u001b[0m in \u001b[0;36m<module>\u001b[1;34m()\u001b[0m\n\u001b[1;32m----> 1\u001b[1;33m \u001b[0mlen\u001b[0m\u001b[1;33m(\u001b[0m\u001b[0mpoem\u001b[0m\u001b[1;33m)\u001b[0m\u001b[1;33m\u001b[0m\u001b[0m\n\u001b[0m",
      "\u001b[1;31mNameError\u001b[0m: name 'poem' is not defined"
     ]
    }
   ],
   "source": [
    "len(poem)"
   ]
  },
  {
   "cell_type": "code",
   "execution_count": 73,
   "metadata": {},
   "outputs": [
    {
     "data": {
      "text/plain": [
       "56"
      ]
     },
     "execution_count": 73,
     "metadata": {},
     "output_type": "execute_result"
    }
   ],
   "source": [
    "len(disaster)"
   ]
  },
  {
   "cell_type": "code",
   "execution_count": 75,
   "metadata": {},
   "outputs": [
    {
     "data": {
      "text/plain": [
       "['',\n",
       " 'Some wish',\n",
       " '',\n",
       " 'their poem to be',\n",
       " '',\n",
       " 'marble',\n",
       " '',\n",
       " 'or crystal. I wanted']"
      ]
     },
     "execution_count": 75,
     "metadata": {},
     "output_type": "execute_result"
    }
   ],
   "source": [
    "disaster[3:11]"
   ]
  },
  {
   "cell_type": "code",
   "execution_count": 92,
   "metadata": {},
   "outputs": [
    {
     "data": {
      "text/plain": [
       "''"
      ]
     },
     "execution_count": 92,
     "metadata": {},
     "output_type": "execute_result"
    }
   ],
   "source": [
    "random.choice(disaster)"
   ]
  },
  {
   "cell_type": "code",
   "execution_count": 94,
   "metadata": {
    "collapsed": true
   },
   "outputs": [],
   "source": [
    "happiness = [line.strip() for line in open(\"gullarHappiness.txt\")]"
   ]
  },
  {
   "cell_type": "code",
   "execution_count": 95,
   "metadata": {},
   "outputs": [
    {
     "data": {
      "text/plain": [
       "'indifferent. Pain'"
      ]
     },
     "execution_count": 95,
     "metadata": {},
     "output_type": "execute_result"
    }
   ],
   "source": [
    "random.choice(happiness)"
   ]
  },
  {
   "cell_type": "raw",
   "metadata": {},
   "source": [
    "[line.replace(\"'\\n'\", \" \") for line in disaster]"
   ]
  },
  {
   "cell_type": "code",
   "execution_count": 98,
   "metadata": {},
   "outputs": [
    {
     "data": {
      "text/plain": [
       "['Disaster',\n",
       " '',\n",
       " '',\n",
       " '',\n",
       " 'Some wish',\n",
       " '',\n",
       " 'their poem to be',\n",
       " '',\n",
       " 'marble',\n",
       " '',\n",
       " 'or crystal. I wanted',\n",
       " '',\n",
       " 'mine to be a peach',\n",
       " '',\n",
       " 'or pear',\n",
       " '',\n",
       " 'or banana rotting on a plate',\n",
       " '',\n",
       " 'preferably',\n",
       " '',\n",
       " 'on a verandah',\n",
       " '',\n",
       " 'where people talk and work',\n",
       " '',\n",
       " 'and can hear',\n",
       " '',\n",
       " 'the noise from the street.',\n",
       " '',\n",
       " '',\n",
       " '',\n",
       " 'My only ambition',\n",
       " '',\n",
       " 'is the rotten poem',\n",
       " '',\n",
       " '',\n",
       " '',\n",
       " 'the pulp wounded',\n",
       " '',\n",
       " 'exposed',\n",
       " '',\n",
       " 'the voice deep within',\n",
       " '',\n",
       " 'festering',\n",
       " 'on the plate',\n",
       " '',\n",
       " 'the liquor the chemistry',\n",
       " '',\n",
       " 'of syllables',\n",
       " '',\n",
       " 'the decaying corpse',\n",
       " '',\n",
       " 'of metaphors',\n",
       " '',\n",
       " 'a poem',\n",
       " '',\n",
       " 'like a disaster in progress.']"
      ]
     },
     "execution_count": 98,
     "metadata": {},
     "output_type": "execute_result"
    }
   ],
   "source": [
    "[line.replace(\"'\\n'\", \"\") for line in disaster]"
   ]
  },
  {
   "cell_type": "code",
   "execution_count": 100,
   "metadata": {},
   "outputs": [
    {
     "data": {
      "text/plain": [
       "['or banana rotting on a plate']"
      ]
     },
     "execution_count": 100,
     "metadata": {},
     "output_type": "execute_result"
    }
   ],
   "source": [
    "[line for line in disaster if 'banana' in line]"
   ]
  },
  {
   "cell_type": "code",
   "execution_count": 102,
   "metadata": {
    "collapsed": true
   },
   "outputs": [],
   "source": [
    "all_poems = disaster + happiness"
   ]
  },
  {
   "cell_type": "code",
   "execution_count": 104,
   "metadata": {
    "collapsed": true
   },
   "outputs": [],
   "source": [
    "random.shuffle(all_poems)"
   ]
  },
  {
   "cell_type": "code",
   "execution_count": 105,
   "metadata": {},
   "outputs": [
    {
     "data": {
      "text/plain": [
       "['the remembrance or illusion',\n",
       " '',\n",
       " '',\n",
       " '',\n",
       " '',\n",
       " 'marble',\n",
       " '',\n",
       " '',\n",
       " 'to nothing.',\n",
       " '',\n",
       " '',\n",
       " 'glimpse from inside their drains',\n",
       " 'with rats and roaches that also',\n",
       " '',\n",
       " '',\n",
       " '',\n",
       " '',\n",
       " 'or banana rotting on a plate',\n",
       " 'to that of the cat you saw',\n",
       " 'by blackflag suffers.',\n",
       " 'you suffer, a wounded dog',\n",
       " '',\n",
       " 'Some wish',\n",
       " '',\n",
       " 'illuminate the smallest',\n",
       " '',\n",
       " 'and can hear',\n",
       " 'like a disaster in progress.',\n",
       " '',\n",
       " 'indifferent. Pain',\n",
       " '',\n",
       " \"around your head, it won't\",\n",
       " '',\n",
       " '',\n",
       " 'Disaster',\n",
       " 'My only ambition',\n",
       " 'square of your dark flesh,',\n",
       " 'the noise from the street.',\n",
       " '',\n",
       " 'their poem to be',\n",
       " 'dragging through faeces',\n",
       " 'festering',\n",
       " '',\n",
       " 'the liquor the chemistry',\n",
       " 'Happiness',\n",
       " 'the voice deep within',\n",
       " '',\n",
       " '',\n",
       " 'or crystal. I wanted',\n",
       " '',\n",
       " 'howling and unable to die?',\n",
       " '',\n",
       " '',\n",
       " '',\n",
       " '',\n",
       " '',\n",
       " '',\n",
       " '',\n",
       " 'of metaphors',\n",
       " '',\n",
       " '',\n",
       " '',\n",
       " 'suffers, an insect poisoned',\n",
       " '',\n",
       " '',\n",
       " '',\n",
       " '',\n",
       " '',\n",
       " \"it won't even illuminate\",\n",
       " 'exposed',\n",
       " \"It won't make a halo\",\n",
       " 'on the plate',\n",
       " 'the pulp wounded',\n",
       " 'where people talk and work',\n",
       " '',\n",
       " '',\n",
       " 'or pear',\n",
       " 'limping along in the gutter',\n",
       " 'with the broken back',\n",
       " 'of syllables',\n",
       " '',\n",
       " '',\n",
       " '',\n",
       " '',\n",
       " 'Suffering is the divine way',\n",
       " '',\n",
       " '',\n",
       " '',\n",
       " 'on a verandah',\n",
       " 'a poem',\n",
       " 'at happiness.',\n",
       " '',\n",
       " '',\n",
       " '',\n",
       " 'is the rotten poem',\n",
       " 'preferably',\n",
       " 'will guarantee you equality',\n",
       " 'Justice is moral, injustice',\n",
       " '',\n",
       " '',\n",
       " 'the decaying corpse',\n",
       " '',\n",
       " 'Is your pain superior',\n",
       " 'mine to be a peach',\n",
       " '',\n",
       " 'the sun',\n",
       " '',\n",
       " '',\n",
       " '',\n",
       " 'wish to be happy.',\n",
       " '',\n",
       " '',\n",
       " 'and in their repulsive bodies',\n",
       " '',\n",
       " '']"
      ]
     },
     "execution_count": 105,
     "metadata": {},
     "output_type": "execute_result"
    }
   ],
   "source": [
    "all_poems"
   ]
  }
 ],
 "metadata": {
  "kernelspec": {
   "display_name": "Python 3",
   "language": "python",
   "name": "python3"
  },
  "language_info": {
   "codemirror_mode": {
    "name": "ipython",
    "version": 3
   },
   "file_extension": ".py",
   "mimetype": "text/x-python",
   "name": "python",
   "nbconvert_exporter": "python",
   "pygments_lexer": "ipython3",
   "version": "3.6.3"
  }
 },
 "nbformat": 4,
 "nbformat_minor": 2
}
